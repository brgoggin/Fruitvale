{
 "cells": [
  {
   "cell_type": "markdown",
   "metadata": {},
   "source": [
    "# Assignment 3, Problem 3"
   ]
  },
  {
   "cell_type": "code",
   "execution_count": 189,
   "metadata": {
    "collapsed": true
   },
   "outputs": [],
   "source": [
    "#Import packages\n",
    "import pandas as pd\n",
    "import matplotlib as mpl\n",
    "import matplotlib.pyplot as plt\n",
    "import numpy as np\n",
    "import math\n",
    "import os\n",
    "from openpyxl import load_workbook"
   ]
  },
  {
   "cell_type": "code",
   "execution_count": 190,
   "metadata": {
    "collapsed": true
   },
   "outputs": [],
   "source": [
    "#set directories\n",
    "os.chdir(\"/Users/briangoggin/Dropbox/CP 201A/Fruitvale\")\n",
    "cwd = os.getcwd()\n",
    "root = cwd #root is directory to raw files\n"
   ]
  },
  {
   "cell_type": "code",
   "execution_count": 191,
   "metadata": {
    "collapsed": false
   },
   "outputs": [],
   "source": [
    "#import data\n",
    "poverty = root+\"/Raw Data/ACS_14_5YR_B17001_with_ann.csv\"\n",
    "acs = pd.read_csv(poverty, header = 1)\n",
    "\n"
   ]
  },
  {
   "cell_type": "code",
   "execution_count": 192,
   "metadata": {
    "collapsed": false
   },
   "outputs": [],
   "source": [
    "#identify Monument Census Tracts\n",
    "Fruitvale = [6001406100, 6001406201, 6001406202, 6001406300, 6001406500, 6001407101, 6001407102, 6001407200, 6001407300, 6001407400, 6001407500, 6001407600]\n",
    "\n",
    "acs['Fruitvale'] = acs['Id2'].isin(Fruitvale)"
   ]
  },
  {
   "cell_type": "code",
   "execution_count": 193,
   "metadata": {
    "collapsed": false
   },
   "outputs": [],
   "source": [
    "#Define function for proportions MOE\n",
    "def prop_MOE(numerator, denominator, num_moe, den_moe):\n",
    "    return ((num_moe**2 - (((numerator/denominator)**2)*(den_moe**2))))**(1/2)/denominator"
   ]
  },
  {
   "cell_type": "code",
   "execution_count": 194,
   "metadata": {
    "collapsed": false
   },
   "outputs": [],
   "source": [
    "#############################\n",
    "##Section 1: ACS Data\n",
    "#############################\n",
    "\n",
    "acs['total'] = acs[\"Estimate; Total:\"].astype(int)\n",
    "acs['total_moe'] = acs[\"Margin of Error; Total:\"].astype(int)\n",
    "acs['poor'] = acs[\"Estimate; Income in the past 12 months below poverty level:\"].astype(int)\n",
    "acs['poor_moe'] = acs[\"Margin of Error; Income in the past 12 months below poverty level:\"].astype(int)\n",
    "\n",
    "#prepare variables for collapse\n",
    "acs['total_moe2'] = acs['total_moe']**2\n",
    "acs['poor_moe2'] = acs['poor_moe']**2"
   ]
  },
  {
   "cell_type": "code",
   "execution_count": 195,
   "metadata": {
    "collapsed": false
   },
   "outputs": [],
   "source": [
    "#sumdata\n",
    "sumvars = ['total', 'total_moe2', 'poor', 'poor_moe2']\n",
    "acs_sum = acs.groupby('Fruitvale')[sumvars].sum()\n",
    "acs_sum['total_moe'] = acs_sum['total_moe2']**(1/2)\n",
    "acs_sum['poor_moe'] = acs_sum['poor_moe2']**(1/2)\n",
    "acs_sum['pct_poor'] = (acs_sum['poor']/acs_sum['total'])\n",
    "acs_sum['pct_poor_moe'] = prop_MOE(acs_sum['poor'], acs_sum['total'],  acs_sum['poor_moe'], acs_sum['total_moe'])"
   ]
  },
  {
   "cell_type": "code",
   "execution_count": 196,
   "metadata": {
    "collapsed": false
   },
   "outputs": [],
   "source": [
    "#final cleaning\n",
    "acs_sum = acs_sum.round(4)\n",
    "acs_sum['pct_poor'] = 100*acs_sum['pct_poor']\n",
    "acs_sum['pct_poor_moe'] = 100*acs_sum['pct_poor_moe']\n",
    "acs_sum['survey'] = \"ACS\""
   ]
  },
  {
   "cell_type": "code",
   "execution_count": 197,
   "metadata": {
    "collapsed": false
   },
   "outputs": [
    {
     "data": {
      "text/html": [
       "<div>\n",
       "<table border=\"1\" class=\"dataframe\">\n",
       "  <thead>\n",
       "    <tr style=\"text-align: right;\">\n",
       "      <th></th>\n",
       "      <th>total</th>\n",
       "      <th>total_moe2</th>\n",
       "      <th>poor</th>\n",
       "      <th>poor_moe2</th>\n",
       "      <th>total_moe</th>\n",
       "      <th>poor_moe</th>\n",
       "      <th>pct_poor</th>\n",
       "      <th>pct_poor_moe</th>\n",
       "      <th>survey</th>\n",
       "    </tr>\n",
       "    <tr>\n",
       "      <th>Fruitvale</th>\n",
       "      <th></th>\n",
       "      <th></th>\n",
       "      <th></th>\n",
       "      <th></th>\n",
       "      <th></th>\n",
       "      <th></th>\n",
       "      <th></th>\n",
       "      <th></th>\n",
       "      <th></th>\n",
       "    </tr>\n",
       "  </thead>\n",
       "  <tbody>\n",
       "    <tr>\n",
       "      <th>False</th>\n",
       "      <td>1476841</td>\n",
       "      <td>48400946</td>\n",
       "      <td>181616</td>\n",
       "      <td>24967626</td>\n",
       "      <td>6957.0788</td>\n",
       "      <td>4996.7616</td>\n",
       "      <td>12.30</td>\n",
       "      <td>0.33</td>\n",
       "      <td>ACS</td>\n",
       "    </tr>\n",
       "    <tr>\n",
       "      <th>True</th>\n",
       "      <td>54505</td>\n",
       "      <td>4121028</td>\n",
       "      <td>15575</td>\n",
       "      <td>2249193</td>\n",
       "      <td>2030.0315</td>\n",
       "      <td>1499.7310</td>\n",
       "      <td>28.58</td>\n",
       "      <td>2.54</td>\n",
       "      <td>ACS</td>\n",
       "    </tr>\n",
       "  </tbody>\n",
       "</table>\n",
       "</div>"
      ],
      "text/plain": [
       "             total  total_moe2    poor  poor_moe2  total_moe   poor_moe  \\\n",
       "Fruitvale                                                                 \n",
       "False      1476841    48400946  181616   24967626  6957.0788  4996.7616   \n",
       "True         54505     4121028   15575    2249193  2030.0315  1499.7310   \n",
       "\n",
       "           pct_poor  pct_poor_moe survey  \n",
       "Fruitvale                                 \n",
       "False         12.30          0.33    ACS  \n",
       "True          28.58          2.54    ACS  "
      ]
     },
     "execution_count": 197,
     "metadata": {},
     "output_type": "execute_result"
    }
   ],
   "source": [
    "acs_sum.head()"
   ]
  },
  {
   "cell_type": "code",
   "execution_count": 198,
   "metadata": {
    "collapsed": false
   },
   "outputs": [],
   "source": [
    "#############################\n",
    "##Section 2: SF3 Data\n",
    "#############################\n",
    "\n",
    "#redefine Fruitvale for Fruitvale Census Tracts in 2000\n",
    "Fruitvale = [6001406100, 6001406201, 6001406202, 6001406300, 6001406500, 6001407100, 6001407200, 6001407300, 6001407400, 6001407500, 6001407600]\n",
    "\n",
    "#import data\n",
    "poverty = root+\"/Raw Data/DEC_00_SF3_PCT049_with_ann.csv\"\n",
    "sf3 = pd.read_csv(poverty, header = 1)\n",
    "sf3['Fruitvale'] = sf3['Id2'].isin(Fruitvale)\n"
   ]
  },
  {
   "cell_type": "code",
   "execution_count": 199,
   "metadata": {
    "collapsed": false
   },
   "outputs": [],
   "source": [
    "#rename vars\n",
    "sf3['total'] = sf3[\"Total:\"].astype(int)\n",
    "sf3['poor'] = sf3[\"Income in 1999 below poverty level:\"].astype(int)\n"
   ]
  },
  {
   "cell_type": "code",
   "execution_count": 200,
   "metadata": {
    "collapsed": false
   },
   "outputs": [],
   "source": [
    "#collapse data\n",
    "sumvars = ['total', 'poor']\n",
    "sf3_sum = sf3.groupby('Fruitvale')[sumvars].sum()\n",
    "sf3_sum['total_moe'] = acs_sum['total_moe']\n",
    "sf3_sum['poor_moe'] = acs_sum['poor_moe']\n",
    "sf3_sum['pct_poor'] = (sf3_sum['poor']/sf3_sum['total'])\n",
    "sf3_sum['pct_poor_moe'] = prop_MOE(sf3_sum['poor'], sf3_sum['total'],  sf3_sum['poor_moe'], sf3_sum['total_moe'])\n"
   ]
  },
  {
   "cell_type": "code",
   "execution_count": 201,
   "metadata": {
    "collapsed": true
   },
   "outputs": [],
   "source": [
    "#final cleaning\n",
    "sf3_sum = sf3_sum.round(4)\n",
    "sf3_sum['pct_poor'] = 100*sf3_sum['pct_poor']\n",
    "sf3_sum['pct_poor_moe'] = 100*sf3_sum['pct_poor_moe']\n",
    "sf3_sum['survey'] = \"SF3\""
   ]
  },
  {
   "cell_type": "code",
   "execution_count": 202,
   "metadata": {
    "collapsed": false
   },
   "outputs": [],
   "source": [
    "#############################\n",
    "##Section 3: Append data\n",
    "#############################\n",
    "\n",
    "final = acs_sum.append(sf3_sum)\n",
    "final = final.drop(final.index == \"False\") #keep only Fruitvale \n",
    "keepvars = ['pct_poor', 'pct_poor_moe', 'survey'] #only keep 2 columns for final output\n",
    "final = final[keepvars]"
   ]
  },
  {
   "cell_type": "code",
   "execution_count": 203,
   "metadata": {
    "collapsed": false
   },
   "outputs": [],
   "source": [
    "#export data to csv\n",
    "export_path = cwd+'/Output/python_output/poverty_over_time.csv'\n",
    "final.to_csv(export_path)"
   ]
  },
  {
   "cell_type": "code",
   "execution_count": null,
   "metadata": {
    "collapsed": true
   },
   "outputs": [],
   "source": []
  }
 ],
 "metadata": {
  "kernelspec": {
   "display_name": "Python [Root]",
   "language": "python",
   "name": "Python [Root]"
  },
  "language_info": {
   "codemirror_mode": {
    "name": "ipython",
    "version": 3
   },
   "file_extension": ".py",
   "mimetype": "text/x-python",
   "name": "python",
   "nbconvert_exporter": "python",
   "pygments_lexer": "ipython3",
   "version": "3.5.2"
  }
 },
 "nbformat": 4,
 "nbformat_minor": 0
}
