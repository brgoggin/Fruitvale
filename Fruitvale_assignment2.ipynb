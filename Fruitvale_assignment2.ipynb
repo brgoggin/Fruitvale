{
 "cells": [
  {
   "cell_type": "markdown",
   "metadata": {},
   "source": [
    "# Fruitvale Race Census Data Exploration\n"
   ]
  },
  {
   "cell_type": "code",
   "execution_count": 2,
   "metadata": {
    "collapsed": false
   },
   "outputs": [],
   "source": [
    "#Import packages\n",
    "import pandas as pd\n",
    "import matplotlib as mpl\n",
    "#import matplotlib.pyplot as plt\n",
    "import numpy as np\n",
    "import math\n",
    "import os\n",
    "from openpyxl import load_workbook\n"
   ]
  },
  {
   "cell_type": "code",
   "execution_count": 3,
   "metadata": {
    "collapsed": false
   },
   "outputs": [
    {
     "data": {
      "text/plain": [
       "'/Users/briangoggin/Dropbox/CP 201A/Fruitvale/Raw Data/'"
      ]
     },
     "execution_count": 3,
     "metadata": {},
     "output_type": "execute_result"
    }
   ],
   "source": [
    "#set directories\n",
    "os.chdir(\"/Users/briangoggin/Dropbox/CP 201A/Fruitvale\")\n",
    "cwd = os.getcwd()\n",
    "root = cwd+\"/Raw Data/\" #root is directory to raw files\n",
    "root"
   ]
  },
  {
   "cell_type": "code",
   "execution_count": 4,
   "metadata": {
    "collapsed": false
   },
   "outputs": [
    {
     "data": {
      "text/plain": [
       "'/Users/briangoggin/Dropbox/CP 201A/Fruitvale/Raw Data/ACS_14_5YR_B03002_with_ann.csv'"
      ]
     },
     "execution_count": 4,
     "metadata": {},
     "output_type": "execute_result"
    }
   ],
   "source": [
    "#import raw data file\n",
    "\n",
    "race = root+\"ACS_14_5YR_B03002_with_ann.csv\"\n",
    "education = root+\"ACS_14_5YR_B15003_with_ann.csv\"\n",
    "tenure = root+\"ACS_14_5YR_B25003_with_ann.csv\"\n",
    "commute_mode = root+\"ACS_14_5YR_B08101_with_ann.csv\"\n",
    "poverty = root+\"ACS_14_5YR_B17001_with_ann.csv\"\n",
    "employment = root+\"ACS_14_5YR_B23025_with_ann.csv\"\n",
    "vehicles = root+\"ACS_14_5YR_B08203_with_ann.csv\"\n",
    "time = root+\"ACS_14_5YR_B08134_with_ann.csv\"\n",
    "trans_pov = root+\"ACS_14_5YR_B08122_with_ann.csv\"\n",
    "age = root+\"ACS_14_5YR_S0101_with_ann.csv\"\n",
    "income = root+\"ACS_14_5YR_B19001_with_ann.csv\"\n",
    "\n",
    "race"
   ]
  },
  {
   "cell_type": "code",
   "execution_count": 5,
   "metadata": {
    "collapsed": false
   },
   "outputs": [
    {
     "data": {
      "text/html": [
       "<div>\n",
       "<table border=\"1\" class=\"dataframe\">\n",
       "  <thead>\n",
       "    <tr style=\"text-align: right;\">\n",
       "      <th></th>\n",
       "      <th>Id</th>\n",
       "      <th>Id2</th>\n",
       "      <th>Geography</th>\n",
       "      <th>Estimate; Total:</th>\n",
       "      <th>Margin of Error; Total:</th>\n",
       "      <th>Estimate; Total: - Less than $10,000</th>\n",
       "      <th>Margin of Error; Total: - Less than $10,000</th>\n",
       "      <th>Estimate; Total: - $10,000 to $14,999</th>\n",
       "      <th>Margin of Error; Total: - $10,000 to $14,999</th>\n",
       "      <th>Estimate; Total: - $15,000 to $19,999</th>\n",
       "      <th>...</th>\n",
       "      <th>Margin of Error; Total: - $75,000 to $99,999</th>\n",
       "      <th>Estimate; Total: - $100,000 to $124,999</th>\n",
       "      <th>Margin of Error; Total: - $100,000 to $124,999</th>\n",
       "      <th>Estimate; Total: - $125,000 to $149,999</th>\n",
       "      <th>Margin of Error; Total: - $125,000 to $149,999</th>\n",
       "      <th>Estimate; Total: - $150,000 to $199,999</th>\n",
       "      <th>Margin of Error; Total: - $150,000 to $199,999</th>\n",
       "      <th>Estimate; Total: - $200,000 or more</th>\n",
       "      <th>Margin of Error; Total: - $200,000 or more</th>\n",
       "      <th>Fruitvale</th>\n",
       "    </tr>\n",
       "  </thead>\n",
       "  <tbody>\n",
       "    <tr>\n",
       "      <th>1</th>\n",
       "      <td>1400000US06001400100</td>\n",
       "      <td>06001400100</td>\n",
       "      <td>Census Tract 4001, Alameda County, California</td>\n",
       "      <td>1300</td>\n",
       "      <td>66</td>\n",
       "      <td>32</td>\n",
       "      <td>27</td>\n",
       "      <td>11</td>\n",
       "      <td>17</td>\n",
       "      <td>39</td>\n",
       "      <td>...</td>\n",
       "      <td>56</td>\n",
       "      <td>147</td>\n",
       "      <td>64</td>\n",
       "      <td>72</td>\n",
       "      <td>40</td>\n",
       "      <td>167</td>\n",
       "      <td>67</td>\n",
       "      <td>530</td>\n",
       "      <td>100</td>\n",
       "      <td>False</td>\n",
       "    </tr>\n",
       "    <tr>\n",
       "      <th>2</th>\n",
       "      <td>1400000US06001400200</td>\n",
       "      <td>06001400200</td>\n",
       "      <td>Census Tract 4002, Alameda County, California</td>\n",
       "      <td>815</td>\n",
       "      <td>48</td>\n",
       "      <td>15</td>\n",
       "      <td>13</td>\n",
       "      <td>0</td>\n",
       "      <td>12</td>\n",
       "      <td>10</td>\n",
       "      <td>...</td>\n",
       "      <td>30</td>\n",
       "      <td>110</td>\n",
       "      <td>40</td>\n",
       "      <td>96</td>\n",
       "      <td>42</td>\n",
       "      <td>107</td>\n",
       "      <td>52</td>\n",
       "      <td>251</td>\n",
       "      <td>48</td>\n",
       "      <td>False</td>\n",
       "    </tr>\n",
       "    <tr>\n",
       "      <th>3</th>\n",
       "      <td>1400000US06001400300</td>\n",
       "      <td>06001400300</td>\n",
       "      <td>Census Tract 4003, Alameda County, California</td>\n",
       "      <td>2510</td>\n",
       "      <td>95</td>\n",
       "      <td>67</td>\n",
       "      <td>51</td>\n",
       "      <td>308</td>\n",
       "      <td>140</td>\n",
       "      <td>66</td>\n",
       "      <td>...</td>\n",
       "      <td>88</td>\n",
       "      <td>175</td>\n",
       "      <td>91</td>\n",
       "      <td>179</td>\n",
       "      <td>90</td>\n",
       "      <td>224</td>\n",
       "      <td>97</td>\n",
       "      <td>465</td>\n",
       "      <td>132</td>\n",
       "      <td>False</td>\n",
       "    </tr>\n",
       "    <tr>\n",
       "      <th>4</th>\n",
       "      <td>1400000US06001400400</td>\n",
       "      <td>06001400400</td>\n",
       "      <td>Census Tract 4004, Alameda County, California</td>\n",
       "      <td>1812</td>\n",
       "      <td>81</td>\n",
       "      <td>71</td>\n",
       "      <td>45</td>\n",
       "      <td>58</td>\n",
       "      <td>55</td>\n",
       "      <td>60</td>\n",
       "      <td>...</td>\n",
       "      <td>86</td>\n",
       "      <td>245</td>\n",
       "      <td>114</td>\n",
       "      <td>185</td>\n",
       "      <td>66</td>\n",
       "      <td>234</td>\n",
       "      <td>80</td>\n",
       "      <td>226</td>\n",
       "      <td>78</td>\n",
       "      <td>False</td>\n",
       "    </tr>\n",
       "    <tr>\n",
       "      <th>5</th>\n",
       "      <td>1400000US06001400500</td>\n",
       "      <td>06001400500</td>\n",
       "      <td>Census Tract 4005, Alameda County, California</td>\n",
       "      <td>1590</td>\n",
       "      <td>78</td>\n",
       "      <td>38</td>\n",
       "      <td>32</td>\n",
       "      <td>138</td>\n",
       "      <td>72</td>\n",
       "      <td>0</td>\n",
       "      <td>...</td>\n",
       "      <td>91</td>\n",
       "      <td>231</td>\n",
       "      <td>84</td>\n",
       "      <td>62</td>\n",
       "      <td>39</td>\n",
       "      <td>106</td>\n",
       "      <td>49</td>\n",
       "      <td>68</td>\n",
       "      <td>32</td>\n",
       "      <td>False</td>\n",
       "    </tr>\n",
       "  </tbody>\n",
       "</table>\n",
       "<p>5 rows × 38 columns</p>\n",
       "</div>"
      ],
      "text/plain": [
       "0                    Id          Id2  \\\n",
       "1  1400000US06001400100  06001400100   \n",
       "2  1400000US06001400200  06001400200   \n",
       "3  1400000US06001400300  06001400300   \n",
       "4  1400000US06001400400  06001400400   \n",
       "5  1400000US06001400500  06001400500   \n",
       "\n",
       "0                                      Geography Estimate; Total:  \\\n",
       "1  Census Tract 4001, Alameda County, California             1300   \n",
       "2  Census Tract 4002, Alameda County, California              815   \n",
       "3  Census Tract 4003, Alameda County, California             2510   \n",
       "4  Census Tract 4004, Alameda County, California             1812   \n",
       "5  Census Tract 4005, Alameda County, California             1590   \n",
       "\n",
       "0 Margin of Error; Total: Estimate; Total: - Less than $10,000  \\\n",
       "1                      66                                   32   \n",
       "2                      48                                   15   \n",
       "3                      95                                   67   \n",
       "4                      81                                   71   \n",
       "5                      78                                   38   \n",
       "\n",
       "0 Margin of Error; Total: - Less than $10,000  \\\n",
       "1                                          27   \n",
       "2                                          13   \n",
       "3                                          51   \n",
       "4                                          45   \n",
       "5                                          32   \n",
       "\n",
       "0 Estimate; Total: - $10,000 to $14,999  \\\n",
       "1                                    11   \n",
       "2                                     0   \n",
       "3                                   308   \n",
       "4                                    58   \n",
       "5                                   138   \n",
       "\n",
       "0 Margin of Error; Total: - $10,000 to $14,999  \\\n",
       "1                                           17   \n",
       "2                                           12   \n",
       "3                                          140   \n",
       "4                                           55   \n",
       "5                                           72   \n",
       "\n",
       "0 Estimate; Total: - $15,000 to $19,999    ...     \\\n",
       "1                                    39    ...      \n",
       "2                                    10    ...      \n",
       "3                                    66    ...      \n",
       "4                                    60    ...      \n",
       "5                                     0    ...      \n",
       "\n",
       "0 Margin of Error; Total: - $75,000 to $99,999  \\\n",
       "1                                           56   \n",
       "2                                           30   \n",
       "3                                           88   \n",
       "4                                           86   \n",
       "5                                           91   \n",
       "\n",
       "0 Estimate; Total: - $100,000 to $124,999  \\\n",
       "1                                     147   \n",
       "2                                     110   \n",
       "3                                     175   \n",
       "4                                     245   \n",
       "5                                     231   \n",
       "\n",
       "0 Margin of Error; Total: - $100,000 to $124,999  \\\n",
       "1                                             64   \n",
       "2                                             40   \n",
       "3                                             91   \n",
       "4                                            114   \n",
       "5                                             84   \n",
       "\n",
       "0 Estimate; Total: - $125,000 to $149,999  \\\n",
       "1                                      72   \n",
       "2                                      96   \n",
       "3                                     179   \n",
       "4                                     185   \n",
       "5                                      62   \n",
       "\n",
       "0 Margin of Error; Total: - $125,000 to $149,999  \\\n",
       "1                                             40   \n",
       "2                                             42   \n",
       "3                                             90   \n",
       "4                                             66   \n",
       "5                                             39   \n",
       "\n",
       "0 Estimate; Total: - $150,000 to $199,999  \\\n",
       "1                                     167   \n",
       "2                                     107   \n",
       "3                                     224   \n",
       "4                                     234   \n",
       "5                                     106   \n",
       "\n",
       "0 Margin of Error; Total: - $150,000 to $199,999  \\\n",
       "1                                             67   \n",
       "2                                             52   \n",
       "3                                             97   \n",
       "4                                             80   \n",
       "5                                             49   \n",
       "\n",
       "0 Estimate; Total: - $200,000 or more  \\\n",
       "1                                 530   \n",
       "2                                 251   \n",
       "3                                 465   \n",
       "4                                 226   \n",
       "5                                  68   \n",
       "\n",
       "0 Margin of Error; Total: - $200,000 or more Fruitvale  \n",
       "1                                        100     False  \n",
       "2                                         48     False  \n",
       "3                                        132     False  \n",
       "4                                         78     False  \n",
       "5                                         32     False  \n",
       "\n",
       "[5 rows x 38 columns]"
      ]
     },
     "execution_count": 5,
     "metadata": {},
     "output_type": "execute_result"
    }
   ],
   "source": [
    "#Import Datasets into dataframes\n",
    "\n",
    "#first, define lists of file paths and Fruitvale Census Tracts\n",
    "datasets = [race, education, tenure, commute_mode, poverty]\n",
    "Fruitvale = ['06001406100', '06001406201', '06001406202', '06001406300', '06001406500', '06001407101', '06001407102', '06001407200', '06001407300', '06001407400', '06001407500', '06001407600']\n",
    "\n",
    "#Define function for import and standard ACS cleaning operations\n",
    "def import_census(file):\n",
    "    df = pd.read_csv(file)\n",
    "    df.columns = df.iloc[0]\n",
    "    df = df.drop(df.index[0])\n",
    "    df['Fruitvale'] = df['Id2'].isin(Fruitvale)\n",
    "    #the following 5 lines create duplicate observations of Fruitvale to include them in county averages\n",
    "    df2 = df[df['Fruitvale'] == True]\n",
    "    df2.drop('Fruitvale', axis = 1)\n",
    "    df2.is_copy = False\n",
    "    df2['Fruitvale'] = False\n",
    "    df = df.append(df2)\n",
    "    return df\n",
    "\n",
    "#import all the data\n",
    "race = import_census(race)\n",
    "education = import_census(education)\n",
    "tenure = import_census(tenure)\n",
    "commute_mode = import_census(commute_mode)\n",
    "poverty = import_census(poverty)\n",
    "employment = import_census(employment)\n",
    "vehicles = import_census(vehicles)\n",
    "time = import_census(time)\n",
    "trans_pov = import_census(trans_pov)\n",
    "age = import_census(age)\n",
    "income = import_census(income)\n",
    "income.head()"
   ]
  },
  {
   "cell_type": "code",
   "execution_count": 6,
   "metadata": {
    "collapsed": false
   },
   "outputs": [],
   "source": [
    "#Define function for proportions MOE\n",
    "def prop_MOE(numerator, denominator, num_moe, den_moe):\n",
    "    return ((num_moe**2 - (((numerator/denominator)**2)*(den_moe**2))))**(1/2)/denominator\n",
    "\n"
   ]
  },
  {
   "cell_type": "code",
   "execution_count": 7,
   "metadata": {
    "collapsed": false
   },
   "outputs": [],
   "source": [
    "#############################\n",
    "##Section 1: Commute Mode\n",
    "#############################\n",
    "\n",
    "#Convert all commute mode variables to integers\n",
    "commute_mode['total_pop'] = commute_mode[\"Estimate; Total:\"].astype(int)\n",
    "commute_mode['total_pop_moe'] = commute_mode[\"Margin of Error; Total:\"].astype(int)\n",
    "commute_mode['car_alone'] = commute_mode[\"Estimate; Total: - Car, truck, or van - drove alone:\"].astype(int)\n",
    "commute_mode['car_alone_moe'] = commute_mode[\"Margin of Error; Total: - Car, truck, or van - drove alone:\"].astype(int)\n",
    "commute_mode['publict'] = commute_mode[\"Estimate; Total: - Public transportation (excluding taxicab):\"].astype(int)\n",
    "commute_mode['publict_moe'] = commute_mode[\"Margin of Error; Total: - Public transportation (excluding taxicab):\"].astype(int)\n",
    "commute_mode['carpool'] = commute_mode[\"Estimate; Total: - Car, truck, or van - carpooled:\"].astype(int)\n",
    "commute_mode['carpool_moe'] = commute_mode[\"Margin of Error; Total: - Car, truck, or van - carpooled:\"].astype(int)\n",
    "commute_mode['walk'] = commute_mode[\"Estimate; Total: - Walked:\"].astype(int)\n",
    "commute_mode['walk_moe'] = commute_mode[\"Margin of Error; Total: - Walked:\"].astype(int)\n",
    "commute_mode['taxi_bike'] = commute_mode[\"Estimate; Total: - Taxicab, motorcycle, bicycle, or other means:\"].astype(int)\n",
    "commute_mode['taxi_bike_moe'] = commute_mode[\"Margin of Error; Total: - Taxicab, motorcycle, bicycle, or other means:\"].astype(int)\n",
    "commute_mode['home'] = commute_mode[\"Estimate; Total: - Worked at home:\"].astype(int)\n",
    "commute_mode['home_moe'] = commute_mode[\"Margin of Error; Total: - Worked at home:\"].astype(int)\n",
    "\n"
   ]
  },
  {
   "cell_type": "code",
   "execution_count": 8,
   "metadata": {
    "collapsed": true
   },
   "outputs": [],
   "source": [
    "#list moes to transform\n",
    "list = ['total_pop_moe', 'publict_moe', 'car_alone_moe', \n",
    "               'carpool_moe', 'walk_moe', 'taxi_bike_moe', \n",
    "              'home_moe']\n",
    "\n",
    "#convert MOEs to 95% confidence level\n",
    "def convert(column):\n",
    "    return column*(1.96/1.645)\n",
    "\n",
    "for item in list:\n",
    "    commute_mode[item] = convert(commute_mode[item])"
   ]
  },
  {
   "cell_type": "code",
   "execution_count": 9,
   "metadata": {
    "collapsed": false
   },
   "outputs": [
    {
     "data": {
      "text/html": [
       "<div>\n",
       "<table border=\"1\" class=\"dataframe\">\n",
       "  <thead>\n",
       "    <tr style=\"text-align: right;\">\n",
       "      <th></th>\n",
       "      <th>total_pop</th>\n",
       "      <th>publict</th>\n",
       "      <th>car_alone</th>\n",
       "      <th>carpool</th>\n",
       "      <th>other</th>\n",
       "      <th>total_pop_moe2</th>\n",
       "      <th>publict_moe2</th>\n",
       "      <th>car_alone_moe2</th>\n",
       "      <th>carpool_moe2</th>\n",
       "      <th>other_moe2</th>\n",
       "      <th>total_pop_moe</th>\n",
       "      <th>pct_transit</th>\n",
       "      <th>publict_moe</th>\n",
       "      <th>pct_car_alone</th>\n",
       "      <th>car_alone_moe</th>\n",
       "      <th>pct_carpool</th>\n",
       "      <th>carpool_moe</th>\n",
       "      <th>pct_other</th>\n",
       "      <th>other_moe</th>\n",
       "    </tr>\n",
       "    <tr>\n",
       "      <th>Fruitvale</th>\n",
       "      <th></th>\n",
       "      <th></th>\n",
       "      <th></th>\n",
       "      <th></th>\n",
       "      <th></th>\n",
       "      <th></th>\n",
       "      <th></th>\n",
       "      <th></th>\n",
       "      <th></th>\n",
       "      <th></th>\n",
       "      <th></th>\n",
       "      <th></th>\n",
       "      <th></th>\n",
       "      <th></th>\n",
       "      <th></th>\n",
       "      <th></th>\n",
       "      <th></th>\n",
       "      <th></th>\n",
       "      <th></th>\n",
       "    </tr>\n",
       "  </thead>\n",
       "  <tbody>\n",
       "    <tr>\n",
       "      <th>False</th>\n",
       "      <td>701525</td>\n",
       "      <td>89723</td>\n",
       "      <td>451989</td>\n",
       "      <td>71593</td>\n",
       "      <td>88220</td>\n",
       "      <td>3.399327e+07</td>\n",
       "      <td>6.833781e+06</td>\n",
       "      <td>2.467692e+07</td>\n",
       "      <td>6.139492e+06</td>\n",
       "      <td>6.876430e+06</td>\n",
       "      <td>5830.374441</td>\n",
       "      <td>0.127897</td>\n",
       "      <td>2614.150197</td>\n",
       "      <td>0.644295</td>\n",
       "      <td>4967.586934</td>\n",
       "      <td>0.102053</td>\n",
       "      <td>2477.799745</td>\n",
       "      <td>0.125755</td>\n",
       "      <td>2622.294851</td>\n",
       "    </tr>\n",
       "    <tr>\n",
       "      <th>True</th>\n",
       "      <td>22470</td>\n",
       "      <td>4526</td>\n",
       "      <td>11418</td>\n",
       "      <td>3493</td>\n",
       "      <td>3033</td>\n",
       "      <td>1.883471e+06</td>\n",
       "      <td>4.471263e+05</td>\n",
       "      <td>8.116604e+05</td>\n",
       "      <td>3.640415e+05</td>\n",
       "      <td>4.082933e+05</td>\n",
       "      <td>1372.396114</td>\n",
       "      <td>0.201424</td>\n",
       "      <td>668.675040</td>\n",
       "      <td>0.508144</td>\n",
       "      <td>900.921972</td>\n",
       "      <td>0.155452</td>\n",
       "      <td>603.358495</td>\n",
       "      <td>0.134980</td>\n",
       "      <td>638.978315</td>\n",
       "    </tr>\n",
       "  </tbody>\n",
       "</table>\n",
       "</div>"
      ],
      "text/plain": [
       "0          total_pop  publict  car_alone  carpool  other  total_pop_moe2  \\\n",
       "Fruitvale                                                                  \n",
       "False         701525    89723     451989    71593  88220    3.399327e+07   \n",
       "True           22470     4526      11418     3493   3033    1.883471e+06   \n",
       "\n",
       "0          publict_moe2  car_alone_moe2  carpool_moe2    other_moe2  \\\n",
       "Fruitvale                                                             \n",
       "False      6.833781e+06    2.467692e+07  6.139492e+06  6.876430e+06   \n",
       "True       4.471263e+05    8.116604e+05  3.640415e+05  4.082933e+05   \n",
       "\n",
       "0          total_pop_moe  pct_transit  publict_moe  pct_car_alone  \\\n",
       "Fruitvale                                                           \n",
       "False        5830.374441     0.127897  2614.150197       0.644295   \n",
       "True         1372.396114     0.201424   668.675040       0.508144   \n",
       "\n",
       "0          car_alone_moe  pct_carpool  carpool_moe  pct_other    other_moe  \n",
       "Fruitvale                                                                   \n",
       "False        4967.586934     0.102053  2477.799745   0.125755  2622.294851  \n",
       "True          900.921972     0.155452   603.358495   0.134980   638.978315  "
      ]
     },
     "execution_count": 9,
     "metadata": {},
     "output_type": "execute_result"
    }
   ],
   "source": [
    "#Create Commute standard MOEs\n",
    "\n",
    "#square MOEs for aggregate MOEs\n",
    "commute_mode['total_pop_moe2'] = (commute_mode['total_pop_moe'])**2\n",
    "commute_mode['publict_moe2'] = (commute_mode['publict_moe'])**2\n",
    "commute_mode['car_alone_moe2'] = (commute_mode['car_alone_moe'])**2\n",
    "commute_mode['carpool_moe2'] = (commute_mode['carpool_moe'])**2\n",
    "commute_mode['walk_moe2'] = (commute_mode['walk_moe'])**2\n",
    "commute_mode['taxi_bike_moe2'] = (commute_mode['taxi_bike_moe'])**2\n",
    "commute_mode['home_moe2'] = (commute_mode['home_moe'])**2\n",
    "\n",
    "#create 'other' category, its moe, and its moe squared\n",
    "commute_mode['other'] = commute_mode['walk'] + commute_mode['taxi_bike'] + commute_mode['home']\n",
    "commute_mode['other_moe'] = (commute_mode['walk_moe2'] + commute_mode['taxi_bike_moe2'] + commute_mode['home_moe2'])**(1/2) \n",
    "commute_mode['other_moe2'] = (commute_mode['other_moe'])**2\n",
    "\n",
    "\n",
    "#list data to include in sum\n",
    "commutes = ['total_pop', 'publict', 'car_alone', 'carpool', 'other',\n",
    "            'total_pop_moe2', 'publict_moe2', 'car_alone_moe2', 'carpool_moe2', 'other_moe2']\n",
    "\n",
    "#Sum data \n",
    "excommutes = commute_mode.groupby('Fruitvale')[commutes].sum()\n",
    "\n",
    "excommutes['total_pop_moe'] = np.sqrt(excommutes['total_pop_moe2'])\n",
    "excommutes['pct_transit'] = (excommutes['publict']/excommutes['total_pop'])\n",
    "excommutes['publict_moe'] = np.sqrt(excommutes['publict_moe2'])\n",
    "excommutes['pct_car_alone'] = (excommutes['car_alone']/excommutes['total_pop'])\n",
    "excommutes['car_alone_moe'] = np.sqrt(excommutes['car_alone_moe2'])\n",
    "excommutes['pct_carpool'] = (excommutes['carpool']/excommutes['total_pop'])\n",
    "excommutes['carpool_moe'] = np.sqrt(excommutes['carpool_moe2'])\n",
    "excommutes['pct_other'] = (excommutes['other']/excommutes['total_pop'])\n",
    "excommutes['other_moe'] = np.sqrt(excommutes['other_moe2'])\n",
    "\n",
    "excommutes"
   ]
  },
  {
   "cell_type": "code",
   "execution_count": 10,
   "metadata": {
    "collapsed": false
   },
   "outputs": [],
   "source": [
    "#generate proportion MOEs\n",
    "excommutes['pct_transit_moe'] = prop_MOE(excommutes['publict'], excommutes['total_pop'], excommutes['publict_moe'], excommutes['total_pop_moe'])\n",
    "excommutes['pct_car_alone_moe'] = prop_MOE(excommutes['car_alone'], excommutes['total_pop'], excommutes['car_alone_moe'], excommutes['total_pop_moe'])\n",
    "excommutes['pct_carpool_moe'] = prop_MOE(excommutes['carpool'], excommutes['total_pop'], excommutes['carpool_moe'], excommutes['total_pop_moe'])\n",
    "excommutes['pct_other_moe'] = prop_MOE(excommutes['other'], excommutes['total_pop'], excommutes['other_moe'], excommutes['total_pop_moe'])\n"
   ]
  },
  {
   "cell_type": "code",
   "execution_count": 11,
   "metadata": {
    "collapsed": false
   },
   "outputs": [
    {
     "data": {
      "text/html": [
       "<div>\n",
       "<table border=\"1\" class=\"dataframe\">\n",
       "  <thead>\n",
       "    <tr style=\"text-align: right;\">\n",
       "      <th></th>\n",
       "      <th>pct_car_alone</th>\n",
       "      <th>pct_transit</th>\n",
       "      <th>pct_carpool</th>\n",
       "      <th>pct_other</th>\n",
       "      <th>pct_car_alone_moe</th>\n",
       "      <th>pct_transit_moe</th>\n",
       "      <th>pct_carpool_moe</th>\n",
       "      <th>pct_other_moe</th>\n",
       "    </tr>\n",
       "    <tr>\n",
       "      <th>Fruitvale</th>\n",
       "      <th></th>\n",
       "      <th></th>\n",
       "      <th></th>\n",
       "      <th></th>\n",
       "      <th></th>\n",
       "      <th></th>\n",
       "      <th></th>\n",
       "      <th></th>\n",
       "    </tr>\n",
       "  </thead>\n",
       "  <tbody>\n",
       "    <tr>\n",
       "      <th>False</th>\n",
       "      <td>64.43</td>\n",
       "      <td>12.79</td>\n",
       "      <td>10.21</td>\n",
       "      <td>12.58</td>\n",
       "      <td>0.46</td>\n",
       "      <td>0.36</td>\n",
       "      <td>0.34</td>\n",
       "      <td>0.36</td>\n",
       "    </tr>\n",
       "    <tr>\n",
       "      <th>True</th>\n",
       "      <td>50.81</td>\n",
       "      <td>20.14</td>\n",
       "      <td>15.55</td>\n",
       "      <td>13.50</td>\n",
       "      <td>2.54</td>\n",
       "      <td>2.71</td>\n",
       "      <td>2.51</td>\n",
       "      <td>2.72</td>\n",
       "    </tr>\n",
       "  </tbody>\n",
       "</table>\n",
       "</div>"
      ],
      "text/plain": [
       "0          pct_car_alone  pct_transit  pct_carpool  pct_other  \\\n",
       "Fruitvale                                                       \n",
       "False              64.43        12.79        10.21      12.58   \n",
       "True               50.81        20.14        15.55      13.50   \n",
       "\n",
       "0          pct_car_alone_moe  pct_transit_moe  pct_carpool_moe  pct_other_moe  \n",
       "Fruitvale                                                                      \n",
       "False                   0.46             0.36             0.34           0.36  \n",
       "True                    2.54             2.71             2.51           2.72  "
      ]
     },
     "execution_count": 11,
     "metadata": {},
     "output_type": "execute_result"
    }
   ],
   "source": [
    "#set variables to keep \n",
    "keep_vars = ['pct_car_alone', 'pct_transit', \n",
    "             'pct_carpool', 'pct_other', \n",
    "             'pct_car_alone_moe', 'pct_transit_moe', \n",
    "             'pct_carpool_moe', 'pct_other_moe']\n",
    "\n",
    "excommutes = excommutes[keep_vars]\n",
    "\n",
    "#change everything to rounded percents\n",
    "excommutes = excommutes.multiply(100).round(2)\n",
    "excommutes"
   ]
  },
  {
   "cell_type": "code",
   "execution_count": 12,
   "metadata": {
    "collapsed": true
   },
   "outputs": [],
   "source": [
    "#export data to csv\n",
    "export_path = cwd+'/Output/python_output/commutes.csv'\n",
    "excommutes = excommutes.to_csv(export_path)"
   ]
  },
  {
   "cell_type": "code",
   "execution_count": 113,
   "metadata": {
    "collapsed": true
   },
   "outputs": [],
   "source": [
    "#############################\n",
    "##Section 2: Employment\n",
    "#############################\n",
    "\n",
    "#Convert all employment variables to integers\n",
    "employment['pop'] = employment[\"Estimate; Total:\"].astype(int)\n",
    "employment['pop_moe'] = employment[\"Margin of Error; Total:\"].astype(int)\n",
    "employment['in_labor'] = employment['Estimate; In labor force:'].astype(int)\n",
    "employment['in_labor_moe'] = employment['Margin of Error; In labor force:'].astype(int)\n",
    "employment['civ_employed'] = employment[\"Estimate; In labor force: - Civilian labor force: - Employed\"].astype(int)\n",
    "employment['civ_employed_moe'] = employment[\"Margin of Error; In labor force: - Civilian labor force: - Employed\"].astype(int)\n",
    "employment['armed'] = employment[\"Estimate; In labor force: - Armed Forces\"].astype(int)\n",
    "employment['armed_moe'] = employment[\"Margin of Error; In labor force: - Armed Forces\"].astype(int)\n",
    "employment['unemployed'] = employment[\"Estimate; In labor force: - Civilian labor force: - Unemployed\"].astype(int)\n",
    "employment['unemployed_moe'] = employment[\"Margin of Error; In labor force: - Civilian labor force: - Unemployed\"].astype(int)\n",
    "employment['not_in_labor'] = employment[\"Estimate; Not in labor force\"].astype(int)\n",
    "employment['not_in_labor_moe'] = employment[\"Margin of Error; Not in labor force\"].astype(int)\n",
    "\n"
   ]
  },
  {
   "cell_type": "code",
   "execution_count": 114,
   "metadata": {
    "collapsed": false
   },
   "outputs": [],
   "source": [
    "#Create employment standard MOEs\n",
    "\n",
    "moes = ['pop_moe', 'in_labor_moe', 'civ_employed_moe', 'armed_moe', \n",
    "               'unemployed_moe', 'not_in_labor_moe']\n",
    "\n",
    "#convert MOEs to 95% confidence level\n",
    "def convert(column):\n",
    "    return column*(1.96/1.645)\n",
    "\n",
    "#square columns\n",
    "def square(column):\n",
    "    return column**2\n",
    "\n",
    "for item in moes:\n",
    "    employment[item] = convert(employment[item])\n",
    "    employment[item+'2']= square(employment[item])\n",
    "\n",
    "#create 'total empoyed' category, its moe, and its moe squared\n",
    "employment['total_employed'] = employment['civ_employed'] + employment['armed']\n",
    "employment['total_employed_moe'] = (employment['civ_employed_moe2'] + employment['armed_moe2'])**(1/2) \n",
    "employment['total_employed_moe2'] = (employment['total_employed_moe'])**2\n",
    "\n",
    "\n"
   ]
  },
  {
   "cell_type": "code",
   "execution_count": 115,
   "metadata": {
    "collapsed": true
   },
   "outputs": [],
   "source": [
    "#list data to include in sum\n",
    "employments = ['pop', 'total_employed', 'unemployed', 'not_in_labor', 'in_labor', \n",
    "            'pop_moe2', 'total_employed_moe2', 'unemployed_moe2', 'not_in_labor_moe2', 'in_labor_moe2']\n"
   ]
  },
  {
   "cell_type": "code",
   "execution_count": 116,
   "metadata": {
    "collapsed": true
   },
   "outputs": [],
   "source": [
    "#Sum data \n",
    "exemployment = employment.groupby('Fruitvale')[employments].sum()\n",
    "\n",
    "#new MOEs\n",
    "exemployment['pop_moe'] = (exemployment['pop_moe2'])**(1/2)\n",
    "exemployment['total_employed_moe'] = (exemployment['total_employed_moe2'])**(1/2)\n",
    "exemployment['unemployed_moe'] = (exemployment['unemployed_moe2'])**(1/2)\n",
    "exemployment['not_in_labor_moe'] = (exemployment['not_in_labor_moe2'])**(1/2)\n",
    "exemployment['in_labor_moe'] = (exemployment['in_labor_moe2'])**(1/2)\n",
    "\n",
    "#percentages\n",
    "exemployment['pct_employed'] = 100*(exemployment['total_employed']/exemployment['pop'])\n",
    "exemployment['pct_unemployed'] = 100*(exemployment['unemployed']/exemployment['pop'])\n",
    "exemployment['pct_not_in_labor'] = 100*(exemployment['not_in_labor']/exemployment['pop'])\n",
    "exemployment['pct_in_labor'] = 100*(exemployment['in_labor']/exemployment['pop'])"
   ]
  },
  {
   "cell_type": "code",
   "execution_count": 117,
   "metadata": {
    "collapsed": true
   },
   "outputs": [],
   "source": [
    "#generate proportion MOEs\n",
    "exemployment['pct_employed_moe'] = 100*(prop_MOE(exemployment['total_employed'], exemployment['pop'], exemployment['total_employed_moe'], exemployment['pop_moe']))\n",
    "exemployment['pct_unemployed_moe'] = 100*(prop_MOE(exemployment['unemployed'], exemployment['pop'], exemployment['unemployed_moe'], exemployment['pop_moe']))\n",
    "exemployment['pct_not_in_labor_moe'] = 100*(prop_MOE(exemployment['not_in_labor'], exemployment['pop'], exemployment['not_in_labor_moe'], exemployment['pop_moe']))\n",
    "exemployment['pct_in_labor_moe'] = 100*(prop_MOE(exemployment['in_labor'], exemployment['pop'], exemployment['in_labor_moe'], exemployment['pop_moe']))\n"
   ]
  },
  {
   "cell_type": "code",
   "execution_count": 118,
   "metadata": {
    "collapsed": false
   },
   "outputs": [],
   "source": [
    "#set variables to keep \n",
    "keep_vars = ['pop', 'total_employed', 'unemployed', 'not_in_labor', \n",
    "             'pop_moe', 'total_employed_moe', 'unemployed_moe', 'not_in_labor_moe', \n",
    "            'pct_employed', 'pct_unemployed', 'pct_not_in_labor', \n",
    "            'pct_employed_moe', 'pct_unemployed_moe', 'pct_not_in_labor_moe', 'in_labor',\n",
    "            'in_labor_moe', 'pct_in_labor', 'pct_in_labor_moe']\n",
    "\n",
    "exemployment = exemployment[keep_vars]\n",
    "exemployment = exemployment.round(2)"
   ]
  },
  {
   "cell_type": "code",
   "execution_count": 119,
   "metadata": {
    "collapsed": false
   },
   "outputs": [],
   "source": [
    "#export data to csv\n",
    "export_path = cwd+'/Output/python_output/employment.csv'\n",
    "exemployment = exemployment.to_csv(export_path)"
   ]
  },
  {
   "cell_type": "code",
   "execution_count": 61,
   "metadata": {
    "collapsed": false
   },
   "outputs": [],
   "source": [
    "#####################################\n",
    "##Section 3: Vehicle Availability\n",
    "#####################################\n",
    "vehicles['total'] = vehicles[\"Estimate; Total:\"].astype(int)\n",
    "vehicles['total_moe'] = vehicles[\"Margin of Error; Total:\"].astype(int)\n",
    "vehicles['none'] = vehicles[\"Estimate; Total: - No vehicle available\"].astype(int)\n",
    "vehicles['none_moe'] = vehicles[\"Margin of Error; Total: - No vehicle available\"].astype(int)\n",
    "vehicles['one'] = vehicles[\"Estimate; Total: - 1 vehicle available\"].astype(int)\n",
    "vehicles['one_moe'] = vehicles[\"Margin of Error; Total: - 1 vehicle available\"].astype(int)\n",
    "vehicles['two'] = vehicles[\"Estimate; Total: - 2 vehicles available\"].astype(int)\n",
    "vehicles['two_moe'] = vehicles[\"Margin of Error; Total: - 2 vehicles available\"].astype(int)\n",
    "vehicles['three'] = vehicles[\"Estimate; Total: - 3 vehicles available\"].astype(int)\n",
    "vehicles['three_moe'] = vehicles[\"Margin of Error; Total: - 3 vehicles available\"].astype(int)\n",
    "vehicles['four'] = vehicles[\"Estimate; Total: - 4 or more vehicles available\"].astype(int)\n",
    "vehicles['four_moe'] = vehicles[\"Margin of Error; Total: - 4 or more vehicles available\"].astype(int)\n"
   ]
  },
  {
   "cell_type": "code",
   "execution_count": 62,
   "metadata": {
    "collapsed": true
   },
   "outputs": [],
   "source": [
    "#Create employment standard MOEs\n",
    "vehicles['total_moe2'] = (vehicles['total_moe'])**2\n",
    "vehicles['none_moe2'] = (vehicles['none_moe'])**2\n",
    "vehicles['one_moe2'] = (vehicles['one_moe'])**2\n",
    "vehicles['two_moe2'] = (vehicles['two_moe'])**2\n",
    "vehicles['three_moe2'] = (vehicles['three_moe'])**2\n",
    "vehicles['four_moe2'] = (vehicles['four_moe'])**2\n"
   ]
  },
  {
   "cell_type": "code",
   "execution_count": 63,
   "metadata": {
    "collapsed": true
   },
   "outputs": [],
   "source": [
    "#list data to include in sum\n",
    "vehicles_list = ['total', 'none', 'one', 'two', 'three', 'four',\n",
    "            'total_moe2', 'none_moe2', 'one_moe2', 'two_moe2', 'three_moe2', 'four_moe2']\n"
   ]
  },
  {
   "cell_type": "code",
   "execution_count": 64,
   "metadata": {
    "collapsed": false
   },
   "outputs": [],
   "source": [
    "#Sum data \n",
    "\n",
    "exvehicles = vehicles.groupby('Fruitvale')[vehicles_list].sum()\n",
    "\n",
    "#new MOEs\n",
    "exvehicles['total_moe'] = (exvehicles['total_moe2'])**(1/2)\n",
    "exvehicles['none_moe'] = (exvehicles['none_moe2'])**(1/2)\n",
    "exvehicles['one_moe'] = (exvehicles['one_moe2'])**(1/2)\n",
    "exvehicles['two_moe'] = (exvehicles['two_moe2'])**(1/2)\n",
    "exvehicles['three_moe'] = (exvehicles['three_moe2'])**(1/2)\n",
    "exvehicles['four_moe'] = (exvehicles['four_moe2'])**(1/2)\n",
    "\n",
    "#percentages\n",
    "exvehicles['pct_none'] = 100*(exvehicles['none']/exvehicles['total'])\n",
    "exvehicles['pct_one'] = 100*(exvehicles['one']/exvehicles['total'])\n",
    "exvehicles['pct_two'] = 100*(exvehicles['two']/exvehicles['total'])\n",
    "exvehicles['pct_three'] = 100*(exvehicles['three']/exvehicles['total'])\n",
    "exvehicles['pct_four'] = 100*(exvehicles['four']/exvehicles['total'])\n",
    "\n"
   ]
  },
  {
   "cell_type": "code",
   "execution_count": 65,
   "metadata": {
    "collapsed": false
   },
   "outputs": [],
   "source": [
    "#generate proportion MOEs\n",
    "exvehicles['pct_none_moe'] = 100*(prop_MOE(exvehicles['none'], exvehicles['total'], exvehicles['none_moe'], exvehicles['total_moe']))\n",
    "exvehicles['pct_one_moe'] = 100*(prop_MOE(exvehicles['one'], exvehicles['total'], exvehicles['one_moe'], exvehicles['total_moe']))\n",
    "exvehicles['pct_two_moe'] = 100*(prop_MOE(exvehicles['two'], exvehicles['total'], exvehicles['two_moe'], exvehicles['total_moe']))\n",
    "exvehicles['pct_three_moe'] = 100*(prop_MOE(exvehicles['three'], exvehicles['total'], exvehicles['three_moe'], exvehicles['total_moe']))\n",
    "exvehicles['pct_four_moe'] = 100*(prop_MOE(exvehicles['four'], exvehicles['total'], exvehicles['four_moe'], exvehicles['total_moe']))\n",
    "\n"
   ]
  },
  {
   "cell_type": "code",
   "execution_count": 66,
   "metadata": {
    "collapsed": false
   },
   "outputs": [],
   "source": [
    "#set variables to keep \n",
    "keep_vars = ['pct_none', 'pct_one', 'pct_two', 'pct_three', 'pct_four', \n",
    "             'pct_none_moe', 'pct_one_moe', 'pct_two_moe', 'pct_three_moe', 'pct_four_moe']\n",
    "\n",
    "exvehicles = exvehicles[keep_vars]\n",
    "\n",
    "#change everything to rounded percents\n",
    "exvehicles = exvehicles.round(2)\n",
    "\n",
    "exvehicles = exvehicles.transpose()\n"
   ]
  },
  {
   "cell_type": "code",
   "execution_count": 67,
   "metadata": {
    "collapsed": true
   },
   "outputs": [],
   "source": [
    "#export data to csv\n",
    "export_path = cwd+'/Output/python_output/vehicles.csv'\n",
    "exvehicles = exvehicles.to_csv(export_path)"
   ]
  },
  {
   "cell_type": "code",
   "execution_count": 68,
   "metadata": {
    "collapsed": false
   },
   "outputs": [],
   "source": [
    "#############################\n",
    "##Section 4: Time to Work\n",
    "#############################\n",
    "\n",
    "#Convert all employment variables to integers\n",
    "time['pop'] = time[\"Estimate; Total:\"].astype(int)\n",
    "time['pop_moe'] = time[\"Margin of Error; Total:\"].astype(int)\n",
    "time['ten'] = time[\"Estimate; Total: - Less than 10 minutes\"].astype(int)\n",
    "time['ten_moe'] = time[\"Margin of Error; Total: - Less than 10 minutes\"].astype(int)\n",
    "time['fourteen'] = time[\"Estimate; Total: - 10 to 14 minutes\"].astype(int)\n",
    "time['fourteen_moe'] = time[\"Margin of Error; Total: - 10 to 14 minutes\"].astype(int)\n",
    "time['nineteen'] = time[\"Estimate; Total: - 15 to 19 minutes\"].astype(int)\n",
    "time['nineteen_moe'] = time[\"Margin of Error; Total: - 15 to 19 minutes\"].astype(int)\n",
    "time['twenty_four'] = time[\"Estimate; Total: - 20 to 24 minutes\"].astype(int)\n",
    "time['twenty_four_moe'] = time[\"Margin of Error; Total: - 20 to 24 minutes\"].astype(int)\n",
    "time['twenty_nine'] = time[\"Estimate; Total: - 25 to 29 minutes\"].astype(int)\n",
    "time['twenty_nine_moe'] = time[\"Margin of Error; Total: - 25 to 29 minutes\"].astype(int)\n",
    "time['thirty_four'] = time[\"Estimate; Total: - 30 to 34 minutes\"].astype(int)\n",
    "time['thirty_four_moe'] = time[\"Margin of Error; Total: - 30 to 34 minutes\"].astype(int)\n",
    "time['forty_four'] = time[\"Estimate; Total: - 35 to 44 minutes\"].astype(int)\n",
    "time['forty_four_moe'] = time[\"Margin of Error; Total: - 35 to 44 minutes\"].astype(int)\n",
    "time['fifty_nine'] = time[\"Estimate; Total: - 45 to 59 minutes\"].astype(int)\n",
    "time['fifty_nine_moe'] = time[\"Margin of Error; Total: - 45 to 59 minutes\"].astype(int)\n",
    "time['sixty'] = time[\"Estimate; Total: - 60 or more minutes\"].astype(int)\n",
    "time['sixty_moe'] = time[\"Margin of Error; Total: - 60 or more minutes\"].astype(int)\n",
    "\n",
    "\n",
    "\n"
   ]
  },
  {
   "cell_type": "code",
   "execution_count": 69,
   "metadata": {
    "collapsed": true
   },
   "outputs": [],
   "source": [
    "#Create employment standard MOEs\n",
    "time['pop_moe2'] = (time['pop_moe'])**2\n",
    "time['ten_moe2'] = (time['ten_moe'])**2\n",
    "time['fourteen_moe2'] = (time['fourteen_moe'])**2\n",
    "time['nineteen_moe2'] = (time['nineteen_moe'])**2\n",
    "time['twenty_four_moe2'] = (time['twenty_four_moe'])**2\n",
    "time['twenty_nine_moe2'] = (time['twenty_nine_moe'])**2\n",
    "time['thirty_four_moe2'] = (time['thirty_four_moe'])**2\n",
    "time['forty_four_moe2'] = (time['forty_four_moe'])**2\n",
    "time['fifty_nine_moe2'] = (time['fifty_nine_moe'])**2\n",
    "time['sixty_moe2'] = (time['sixty_moe'])**2\n",
    "\n",
    "\n",
    "#create broader categories, their moes, and their moes squared\n",
    "time['fifteen'] = time['ten'] + time['fourteen']\n",
    "time['fifteen_moe'] = (time['ten_moe2'] + time['fourteen_moe2'])**(1/2) \n",
    "time['fifteen_moe2'] = (time['fifteen_moe'])**2\n",
    "\n",
    "time['thirty'] = time['nineteen'] + time['twenty_four'] + time['twenty_nine']\n",
    "time['thirty_moe'] = (time['nineteen_moe2'] + time['twenty_four_moe2'] + time['twenty_nine_moe2'])**(1/2) \n",
    "time['thirty_moe2'] = (time['thirty_moe'])**2\n",
    "\n",
    "time['forty_five'] = time['thirty_four'] + time['forty_four']\n",
    "time['forty_five_moe'] = (time['thirty_four_moe2'] + time['forty_four_moe2'])**(1/2) \n",
    "time['forty_five_moe2'] = (time['forty_five_moe'])**2\n",
    "\n"
   ]
  },
  {
   "cell_type": "code",
   "execution_count": 70,
   "metadata": {
    "collapsed": true
   },
   "outputs": [],
   "source": [
    "#list data to include in sum\n",
    "times = ['pop', 'fifteen', 'thirty', 'forty_five', 'fifty_nine', 'sixty',\n",
    "                 'pop_moe2', 'fifteen_moe2', 'thirty_moe2','forty_five_moe2', 'fifty_nine_moe2', \n",
    "                 'sixty_moe2']\n"
   ]
  },
  {
   "cell_type": "code",
   "execution_count": 71,
   "metadata": {
    "collapsed": false
   },
   "outputs": [],
   "source": [
    "#Sum data \n",
    "\n",
    "extime = time.groupby('Fruitvale')[times].sum()\n"
   ]
  },
  {
   "cell_type": "code",
   "execution_count": 72,
   "metadata": {
    "collapsed": true
   },
   "outputs": [],
   "source": [
    "#new MOEs\n",
    "extime['pop_moe'] = (extime['pop_moe2'])**(1/2)\n",
    "extime['fifteen_moe'] = (extime['fifteen_moe2'])**(1/2)\n",
    "extime['thirty_moe'] = (extime['thirty_moe2'])**(1/2)\n",
    "extime['forty_five_moe'] = (extime['forty_five_moe2'])**(1/2)\n",
    "extime['fifty_nine_moe'] = (extime['fifty_nine_moe2'])**(1/2)\n",
    "extime['sixty_moe'] = (extime['sixty_moe2'])**(1/2)"
   ]
  },
  {
   "cell_type": "code",
   "execution_count": 73,
   "metadata": {
    "collapsed": true
   },
   "outputs": [],
   "source": [
    "#percentages\n",
    "extime['pct_fifteen'] = 100*(extime['fifteen']/extime['pop'])\n",
    "extime['pct_thirty'] = 100*(extime['thirty']/extime['pop'])\n",
    "extime['pct_forty_five'] = 100*(extime['forty_five']/extime['pop'])\n",
    "extime['pct_fifty_nine'] = 100*(extime['fifty_nine']/extime['pop'])\n",
    "extime['pct_sixty'] = 100*(extime['sixty']/extime['pop'])"
   ]
  },
  {
   "cell_type": "code",
   "execution_count": 74,
   "metadata": {
    "collapsed": false
   },
   "outputs": [
    {
     "data": {
      "text/html": [
       "<div>\n",
       "<table border=\"1\" class=\"dataframe\">\n",
       "  <thead>\n",
       "    <tr style=\"text-align: right;\">\n",
       "      <th></th>\n",
       "      <th>pop</th>\n",
       "      <th>fifteen</th>\n",
       "      <th>thirty</th>\n",
       "      <th>forty_five</th>\n",
       "      <th>fifty_nine</th>\n",
       "      <th>sixty</th>\n",
       "      <th>pop_moe2</th>\n",
       "      <th>fifteen_moe2</th>\n",
       "      <th>thirty_moe2</th>\n",
       "      <th>forty_five_moe2</th>\n",
       "      <th>...</th>\n",
       "      <th>pct_fifteen</th>\n",
       "      <th>pct_thirty</th>\n",
       "      <th>pct_forty_five</th>\n",
       "      <th>pct_fifty_nine</th>\n",
       "      <th>pct_sixty</th>\n",
       "      <th>pct_fifteen_moe</th>\n",
       "      <th>pct_thirty_moe</th>\n",
       "      <th>pct_forty_five_moe</th>\n",
       "      <th>pct_fifty_nine_moe</th>\n",
       "      <th>pct_sixty_moe</th>\n",
       "    </tr>\n",
       "    <tr>\n",
       "      <th>Fruitvale</th>\n",
       "      <th></th>\n",
       "      <th></th>\n",
       "      <th></th>\n",
       "      <th></th>\n",
       "      <th></th>\n",
       "      <th></th>\n",
       "      <th></th>\n",
       "      <th></th>\n",
       "      <th></th>\n",
       "      <th></th>\n",
       "      <th></th>\n",
       "      <th></th>\n",
       "      <th></th>\n",
       "      <th></th>\n",
       "      <th></th>\n",
       "      <th></th>\n",
       "      <th></th>\n",
       "      <th></th>\n",
       "      <th></th>\n",
       "      <th></th>\n",
       "      <th></th>\n",
       "    </tr>\n",
       "  </thead>\n",
       "  <tbody>\n",
       "    <tr>\n",
       "      <th>False</th>\n",
       "      <td>662527</td>\n",
       "      <td>131123</td>\n",
       "      <td>218154</td>\n",
       "      <td>161850</td>\n",
       "      <td>73069</td>\n",
       "      <td>78331</td>\n",
       "      <td>23759708</td>\n",
       "      <td>6760498.0</td>\n",
       "      <td>11426567.0</td>\n",
       "      <td>7854463.0</td>\n",
       "      <td>...</td>\n",
       "      <td>19.791344</td>\n",
       "      <td>32.927564</td>\n",
       "      <td>24.429193</td>\n",
       "      <td>11.028834</td>\n",
       "      <td>11.823065</td>\n",
       "      <td>0.364439</td>\n",
       "      <td>0.449035</td>\n",
       "      <td>0.382932</td>\n",
       "      <td>0.266233</td>\n",
       "      <td>0.284465</td>\n",
       "    </tr>\n",
       "    <tr>\n",
       "      <th>True</th>\n",
       "      <td>21409</td>\n",
       "      <td>3802</td>\n",
       "      <td>8318</td>\n",
       "      <td>5122</td>\n",
       "      <td>1897</td>\n",
       "      <td>2270</td>\n",
       "      <td>1341146</td>\n",
       "      <td>299779.0</td>\n",
       "      <td>500883.0</td>\n",
       "      <td>291807.0</td>\n",
       "      <td>...</td>\n",
       "      <td>17.758886</td>\n",
       "      <td>38.852819</td>\n",
       "      <td>23.924518</td>\n",
       "      <td>8.860759</td>\n",
       "      <td>10.603017</td>\n",
       "      <td>2.370158</td>\n",
       "      <td>2.551678</td>\n",
       "      <td>2.166035</td>\n",
       "      <td>1.297084</td>\n",
       "      <td>1.610539</td>\n",
       "    </tr>\n",
       "  </tbody>\n",
       "</table>\n",
       "<p>2 rows × 28 columns</p>\n",
       "</div>"
      ],
      "text/plain": [
       "0             pop  fifteen  thirty  forty_five  fifty_nine  sixty  pop_moe2  \\\n",
       "Fruitvale                                                                     \n",
       "False      662527   131123  218154      161850       73069  78331  23759708   \n",
       "True        21409     3802    8318        5122        1897   2270   1341146   \n",
       "\n",
       "0          fifteen_moe2  thirty_moe2  forty_five_moe2      ...        \\\n",
       "Fruitvale                                                  ...         \n",
       "False         6760498.0   11426567.0        7854463.0      ...         \n",
       "True           299779.0     500883.0         291807.0      ...         \n",
       "\n",
       "0          pct_fifteen  pct_thirty  pct_forty_five  pct_fifty_nine  pct_sixty  \\\n",
       "Fruitvale                                                                       \n",
       "False        19.791344   32.927564       24.429193       11.028834  11.823065   \n",
       "True         17.758886   38.852819       23.924518        8.860759  10.603017   \n",
       "\n",
       "0          pct_fifteen_moe  pct_thirty_moe  pct_forty_five_moe  \\\n",
       "Fruitvale                                                        \n",
       "False             0.364439        0.449035            0.382932   \n",
       "True              2.370158        2.551678            2.166035   \n",
       "\n",
       "0          pct_fifty_nine_moe  pct_sixty_moe  \n",
       "Fruitvale                                     \n",
       "False                0.266233       0.284465  \n",
       "True                 1.297084       1.610539  \n",
       "\n",
       "[2 rows x 28 columns]"
      ]
     },
     "execution_count": 74,
     "metadata": {},
     "output_type": "execute_result"
    }
   ],
   "source": [
    "#generate proportion MOEs\n",
    "extime['pct_fifteen_moe'] = 100*(prop_MOE(extime['fifteen'], extime['pop'], extime['fifteen_moe'], extime['pop_moe']))\n",
    "extime['pct_thirty_moe'] = 100*(prop_MOE(extime['thirty'], extime['pop'], extime['thirty_moe'], extime['pop_moe']))\n",
    "extime['pct_forty_five_moe'] = 100*(prop_MOE(extime['forty_five'], extime['pop'], extime['forty_five_moe'], extime['pop_moe']))\n",
    "extime['pct_fifty_nine_moe'] = 100*(prop_MOE(extime['fifty_nine'], extime['pop'], extime['fifty_nine_moe'], extime['pop_moe']))\n",
    "extime['pct_sixty_moe'] = 100*(prop_MOE(extime['sixty'], extime['pop'], extime['sixty_moe'], extime['pop_moe']))\n",
    "\n",
    "extime"
   ]
  },
  {
   "cell_type": "code",
   "execution_count": 75,
   "metadata": {
    "collapsed": true
   },
   "outputs": [],
   "source": [
    "#list data to include in export\n",
    "time_vars = ['pop', 'pct_fifteen', 'pct_thirty', 'pct_forty_five', 'pct_fifty_nine', 'pct_sixty',\n",
    "            'pct_fifteen_moe', 'pct_thirty_moe', 'pct_forty_five_moe', 'pct_fifty_nine_moe', 'pct_sixty_moe']"
   ]
  },
  {
   "cell_type": "code",
   "execution_count": 76,
   "metadata": {
    "collapsed": false
   },
   "outputs": [],
   "source": [
    "extime = extime[time_vars]\n",
    "\n",
    "#change everything to rounded percents\n",
    "extime = extime.round(2)"
   ]
  },
  {
   "cell_type": "code",
   "execution_count": 77,
   "metadata": {
    "collapsed": true
   },
   "outputs": [],
   "source": [
    "#export data to csv\n",
    "export_path = cwd+'/Output/python_output/time.csv'\n",
    "extime = extime.to_csv(export_path)"
   ]
  },
  {
   "cell_type": "code",
   "execution_count": null,
   "metadata": {
    "collapsed": false
   },
   "outputs": [],
   "source": []
  },
  {
   "cell_type": "code",
   "execution_count": 78,
   "metadata": {
    "collapsed": false
   },
   "outputs": [],
   "source": [
    "#######################################\n",
    "##Section 5 choice C: Household Income\n",
    "#######################################\n",
    "\n",
    "#Convert all employment variables to integers\n",
    "income['total'] = income[\"Estimate; Total:\"].astype(int)\n",
    "income['total_moe'] = income[\"Margin of Error; Total:\"].astype(int)\n",
    "income['ten'] = income[\"Estimate; Total: - Less than $10,000\"].astype(int)\n",
    "income['ten_moe'] = income[\"Margin of Error; Total: - Less than $10,000\"].astype(int)\n",
    "income['fifteen'] = income[\"Estimate; Total: - $10,000 to $14,999\"].astype(int)\n",
    "income['fifteen_moe'] = income[\"Margin of Error; Total: - $10,000 to $14,999\"].astype(int)\n",
    "income['twenty'] = income[\"Estimate; Total: - $15,000 to $19,999\"].astype(int)\n",
    "income['twenty_moe'] = income[\"Margin of Error; Total: - $15,000 to $19,999\"].astype(int)\n",
    "income['twenty_five'] = income[\"Estimate; Total: - $20,000 to $24,999\"].astype(int)\n",
    "income['twenty_five_moe'] = income[\"Margin of Error; Total: - $20,000 to $24,999\"].astype(int)\n",
    "income['thirty'] = income[\"Estimate; Total: - $25,000 to $29,999\"].astype(int)\n",
    "income['thirty_moe'] = income[\"Margin of Error; Total: - $25,000 to $29,999\"].astype(int)\n",
    "income['thirty_five'] = income[\"Estimate; Total: - $30,000 to $34,999\"].astype(int)\n",
    "income['thirty_five_moe'] = income[\"Margin of Error; Total: - $30,000 to $34,999\"].astype(int)\n",
    "income['forty'] = income[\"Estimate; Total: - $35,000 to $39,999\"].astype(int)\n",
    "income['forty_moe'] = income[\"Margin of Error; Total: - $35,000 to $39,999\"].astype(int)\n",
    "income['forty_five'] = income[\"Estimate; Total: - $40,000 to $44,999\"].astype(int)\n",
    "income['forty_five_moe'] = income[\"Margin of Error; Total: - $40,000 to $44,999\"].astype(int)\n",
    "income['fifty'] = income[\"Estimate; Total: - $45,000 to $49,999\"].astype(int)\n",
    "income['fifty_moe'] = income[\"Margin of Error; Total: - $45,000 to $49,999\"].astype(int)\n",
    "income['sixty'] = income[\"Estimate; Total: - $50,000 to $59,999\"].astype(int)\n",
    "income['sixty_moe'] = income[\"Margin of Error; Total: - $50,000 to $59,999\"].astype(int)\n",
    "income['seventy_five'] = income[\"Estimate; Total: - $60,000 to $74,999\"].astype(int)\n",
    "income['seventy_five_moe'] = income[\"Margin of Error; Total: - $60,000 to $74,999\"].astype(int)\n",
    "income['hundred'] = income[\"Estimate; Total: - $75,000 to $99,999\"].astype(int)\n",
    "income['hundred_moe'] = income[\"Margin of Error; Total: - $75,000 to $99,999\"].astype(int)\n",
    "income['hundred25'] = income[\"Estimate; Total: - $100,000 to $124,999\"].astype(int)\n",
    "income['hundred25_moe'] = income[\"Margin of Error; Total: - $100,000 to $124,999\"].astype(int)\n",
    "income['hundred50'] = income[\"Estimate; Total: - $125,000 to $149,999\"].astype(int)\n",
    "income['hundred50_moe'] = income[\"Margin of Error; Total: - $125,000 to $149,999\"].astype(int)\n",
    "income['twohundred'] = income[\"Estimate; Total: - $150,000 to $199,999\"].astype(int)\n",
    "income['twohundred_moe'] = income[\"Margin of Error; Total: - $150,000 to $199,999\"].astype(int)\n",
    "income['more_twohundred'] = income[\"Estimate; Total: - $200,000 or more\"].astype(int)\n",
    "income['more_twohundred_moe'] = income[\"Margin of Error; Total: - $200,000 or more\"].astype(int)\n",
    "\n"
   ]
  },
  {
   "cell_type": "code",
   "execution_count": 79,
   "metadata": {
    "collapsed": false
   },
   "outputs": [],
   "source": [
    "#keep certain variables\n",
    "income_list = ['total_moe', 'ten_moe', 'fifteen_moe', \n",
    "               'twenty_moe', 'twenty_five_moe', 'thirty_moe', \n",
    "              'thirty_five_moe', 'forty_moe', 'forty_five_moe', \n",
    "              'fifty_moe', 'sixty_moe', 'seventy_five_moe', \n",
    "              'hundred_moe', 'hundred25_moe', 'hundred50_moe', \n",
    "              'twohundred_moe', 'more_twohundred_moe']\n",
    "\n",
    "#convert MOEs to 95% confidence level\n",
    "def convert(column):\n",
    "    return column*(1.96/1.645)\n",
    "\n",
    "#square columns\n",
    "def square(column):\n",
    "    return column**2\n",
    "\n",
    "for item in income_list:\n",
    "    income[item] = convert(income[item])\n",
    "    income[item+'2']= square(income[item])\n",
    "\n"
   ]
  },
  {
   "cell_type": "code",
   "execution_count": 80,
   "metadata": {
    "collapsed": false
   },
   "outputs": [],
   "source": [
    "#Create aggregate columns and MOEs\n",
    "\n",
    "income['less_25'] = income['ten'] + income['fifteen'] + income['twenty']+ income['twenty_five']\n",
    "income['less_25_moe'] = (income['ten_moe2'] + income['fifteen_moe2'] + income['twenty_moe2']+ income['twenty_five_moe2'])**(1/2) \n",
    "income['less_25_moe2'] = (income['less_25_moe'])**2\n",
    "\n",
    "income['25_50'] = income['thirty'] + income['thirty_five'] + income['forty']+ income['forty_five'] + income['fifty']\n",
    "income['25_50_moe'] = (income['thirty_moe2'] + income['thirty_five_moe2'] + income['forty_moe2']+ income['forty_five_moe2'] + income['fifty_moe2'])**(1/2) \n",
    "income['25_50_moe2'] = (income['25_50_moe'])**2\n",
    "\n",
    "income['50_75'] = income['sixty'] + income['seventy_five'] \n",
    "income['50_75_moe'] = (income['sixty_moe2'] + income['seventy_five_moe2'] )**(1/2) \n",
    "income['50_75_moe2'] = (income['25_50_moe'])**2\n",
    "\n",
    "income['100_plus'] = income['hundred25'] + income['hundred50'] + income['twohundred'] + income['more_twohundred']\n",
    "income['100_plus_moe'] = (income['hundred25_moe2'] + income['hundred50_moe2'] + income['twohundred_moe2'] + income['more_twohundred_moe2'])**(1/2) \n",
    "income['100_plus_moe2'] = (income['100_plus_moe'])**2\n",
    "\n"
   ]
  },
  {
   "cell_type": "code",
   "execution_count": 81,
   "metadata": {
    "collapsed": true
   },
   "outputs": [],
   "source": [
    "#Sum data \n",
    "\n",
    "#list variables to include in sum\n",
    "incomes = ['total', 'less_25', '25_50', '50_75', 'hundred', '100_plus', \n",
    "          'total_moe2', 'less_25_moe2', '25_50_moe2', '50_75_moe2', \n",
    "          'hundred_moe2', '100_plus_moe2']\n",
    "\n",
    "exincome = income.groupby('Fruitvale')[incomes].sum()\n"
   ]
  },
  {
   "cell_type": "code",
   "execution_count": 82,
   "metadata": {
    "collapsed": true
   },
   "outputs": [],
   "source": [
    "#Create new MOEs after sum\n",
    "moe_list = ['total_moe2', 'less_25_moe2', '25_50_moe2', '50_75_moe2', \n",
    "          'hundred_moe2', '100_plus_moe2']\n",
    "\n",
    "def sq_root(column):\n",
    "    return column**(1/2)\n",
    "\n",
    "for item in moe_list:\n",
    "    exincome[item.strip('2')] = sq_root(exincome[item])\n",
    "    \n",
    "#rename one item from previous list\n",
    "exincome.rename(columns={'5_50_moe': '25_50_moe'}, inplace = True)"
   ]
  },
  {
   "cell_type": "code",
   "execution_count": 83,
   "metadata": {
    "collapsed": false
   },
   "outputs": [],
   "source": [
    "#Create Percentages\n",
    "pct_list = ['total', 'less_25', '25_50', '50_75', 'hundred', '100_plus']\n",
    "\n",
    "def pct(column):\n",
    "    return 100*(exincome[column]/exincome['total'])\n",
    "\n",
    "for item in pct_list:\n",
    "    exincome['pct_'+item] = pct(item)"
   ]
  },
  {
   "cell_type": "code",
   "execution_count": 84,
   "metadata": {
    "collapsed": false
   },
   "outputs": [],
   "source": [
    "#Create New Proportions MOEs\n",
    "exincome['pct_less_25_moe'] = 100*(prop_MOE(exincome['less_25'], exincome['total'], exincome['less_25_moe'], exincome['total_moe']))\n",
    "exincome['pct_25_50_moe'] = 100*(prop_MOE(exincome['25_50'], exincome['total'], exincome['25_50_moe'], exincome['total_moe']))\n",
    "exincome['pct_50_75_moe'] = 100*(prop_MOE(exincome['50_75'], exincome['total'], exincome['50_75_moe'], exincome['total_moe']))\n",
    "exincome['pct_hundred_moe'] = 100*(prop_MOE(exincome['hundred'], exincome['total'], exincome['hundred_moe'], exincome['total_moe']))\n",
    "exincome['pct_100_plus_moe'] = 100*(prop_MOE(exincome['100_plus'], exincome['total'], exincome['100_plus_moe'], exincome['total_moe']))\n"
   ]
  },
  {
   "cell_type": "code",
   "execution_count": 85,
   "metadata": {
    "collapsed": false
   },
   "outputs": [],
   "source": [
    "#list data to include in export\n",
    "export = ['total', 'pct_less_25', 'pct_25_50', 'pct_50_75', 'pct_hundred', 'pct_100_plus',\n",
    "         'pct_less_25_moe', 'pct_25_50_moe', 'pct_50_75_moe', 'pct_hundred_moe', \n",
    "         'pct_100_plus_moe']\n",
    "\n",
    "exincome = exincome[export]\n",
    "\n",
    "#change everything to rounded percents\n",
    "exincome = exincome.round(2)"
   ]
  },
  {
   "cell_type": "code",
   "execution_count": 86,
   "metadata": {
    "collapsed": true
   },
   "outputs": [],
   "source": [
    "#export data to csv\n",
    "export_path = cwd+'/Output/python_output/income.csv'\n",
    "exincome = exincome.to_csv(export_path)"
   ]
  },
  {
   "cell_type": "code",
   "execution_count": null,
   "metadata": {
    "collapsed": true
   },
   "outputs": [],
   "source": []
  },
  {
   "cell_type": "code",
   "execution_count": null,
   "metadata": {
    "collapsed": true
   },
   "outputs": [],
   "source": []
  },
  {
   "cell_type": "code",
   "execution_count": null,
   "metadata": {
    "collapsed": true
   },
   "outputs": [],
   "source": []
  }
 ],
 "metadata": {
  "anaconda-cloud": {},
  "kernelspec": {
   "display_name": "Python [Root]",
   "language": "python",
   "name": "Python [Root]"
  },
  "language_info": {
   "codemirror_mode": {
    "name": "ipython",
    "version": 3
   },
   "file_extension": ".py",
   "mimetype": "text/x-python",
   "name": "python",
   "nbconvert_exporter": "python",
   "pygments_lexer": "ipython3",
   "version": "3.5.2"
  }
 },
 "nbformat": 4,
 "nbformat_minor": 0
}
