{
 "cells": [
  {
   "cell_type": "markdown",
   "metadata": {},
   "source": [
    "# Figure 3\n",
    "This file produces the results from \"Figure 3. Highest Education Level Attained\". "
   ]
  },
  {
   "cell_type": "code",
   "execution_count": 4,
   "metadata": {
    "collapsed": true
   },
   "outputs": [],
   "source": [
    "#Import packages\n",
    "import pandas as pd\n",
    "import matplotlib as mpl\n",
    "import numpy as np\n",
    "import math\n",
    "import os\n",
    "pd.options.mode.chained_assignment = None #gets rid of warning for chained alterations"
   ]
  },
  {
   "cell_type": "code",
   "execution_count": 5,
   "metadata": {
    "collapsed": true
   },
   "outputs": [],
   "source": [
    "#set directories\n",
    "os.chdir(\"/Users/briangoggin/Dropbox/CP 201A/Fruitvale\")\n",
    "cwd = os.getcwd()\n",
    "root = cwd #root is directory to raw files"
   ]
  },
  {
   "cell_type": "code",
   "execution_count": 6,
   "metadata": {
    "collapsed": false
   },
   "outputs": [],
   "source": [
    "#set input data source\n",
    "education = root+\"/Raw Data/ACS_14_5YR_B15003_with_ann.csv\"\n"
   ]
  },
  {
   "cell_type": "code",
   "execution_count": 7,
   "metadata": {
    "collapsed": true
   },
   "outputs": [],
   "source": [
    "#identify Fruitvale Census Tracts\n",
    "Fruitvale = [6001406100, 6001406201, 6001406202, 6001406300, 6001406500, 6001407101, 6001407102, 6001407200, 6001407300, 6001407400, 6001407500, 6001407600]\n"
   ]
  },
  {
   "cell_type": "code",
   "execution_count": 8,
   "metadata": {
    "collapsed": true
   },
   "outputs": [],
   "source": [
    "#Define function for import and standard ACS cleaning operations\n",
    "def import_census(file):\n",
    "    df = pd.read_csv(file, header = 1)\n",
    "    df['Fruitvale'] = df['Id2'].isin(Fruitvale)\n",
    "    #the following 5 lines create duplicate observations of Fruitvale to include them in county averages\n",
    "    df2 = df[df['Fruitvale'] == True]\n",
    "    df2.drop('Fruitvale', axis = 1)\n",
    "    df2.is_copy = False\n",
    "    df2['Fruitvale'] = False\n",
    "    df = df.append(df2)\n",
    "    return df\n",
    "\n",
    "#Define function for proportions MOE\n",
    "def prop_MOE(numerator, denominator, num_moe, den_moe):\n",
    "    return ((num_moe**2 - (((numerator/denominator)**2)*(den_moe**2))))**(1/2)/denominator"
   ]
  },
  {
   "cell_type": "code",
   "execution_count": 9,
   "metadata": {
    "collapsed": true
   },
   "outputs": [],
   "source": [
    "#Import data. \n",
    "ed = import_census(education)"
   ]
  },
  {
   "cell_type": "code",
   "execution_count": 10,
   "metadata": {
    "collapsed": true
   },
   "outputs": [],
   "source": [
    "#rename variables\n",
    "ed['total'] = ed[\"Estimate; Total:\"].astype(int)\n",
    "ed['total_moe'] = ed[\"Margin of Error; Total:\"].astype(int)\n",
    "ed['none'] = ed[\"Estimate; Total: - No schooling completed\"].astype(int)\n",
    "ed['none_moe'] = ed[\"Margin of Error; Total: - No schooling completed\"].astype(int)\n",
    "ed['prek'] = ed[\"Estimate; Total: - Nursery school\"].astype(int)\n",
    "ed['prek_moe'] = ed[\"Margin of Error; Total: - Nursery school\"].astype(int)\n",
    "ed['k'] = ed[\"Estimate; Total: - Kindergarten\"].astype(int)\n",
    "ed['k_moe'] = ed[\"Margin of Error; Total: - Kindergarten\"].astype(int)\n",
    "ed['1'] = ed[\"Estimate; Total: - 1st grade\"].astype(int)\n",
    "ed['1_moe'] = ed[\"Margin of Error; Total: - 1st grade\"].astype(int)\n",
    "ed['2'] = ed[\"Estimate; Total: - 2nd grade\"].astype(int)\n",
    "ed['2_moe'] = ed[\"Margin of Error; Total: - 2nd grade\"].astype(int)\n",
    "ed['3'] = ed[\"Estimate; Total: - 3rd grade\"].astype(int)\n",
    "ed['3_moe'] = ed[\"Margin of Error; Total: - 3rd grade\"].astype(int)\n",
    "ed['4'] = ed[\"Estimate; Total: - 4th grade\"].astype(int)\n",
    "ed['4_moe'] = ed[\"Margin of Error; Total: - 4th grade\"].astype(int)\n",
    "ed['5'] = ed[\"Estimate; Total: - 5th grade\"].astype(int)\n",
    "ed['5_moe'] = ed[\"Margin of Error; Total: - 5th grade\"].astype(int)\n",
    "ed['6'] = ed[\"Estimate; Total: - 6th grade\"].astype(int)\n",
    "ed['6_moe'] = ed[\"Margin of Error; Total: - 6th grade\"].astype(int)\n",
    "ed['7'] = ed[\"Estimate; Total: - 7th grade\"].astype(int)\n",
    "ed['7_moe'] = ed[\"Margin of Error; Total: - 7th grade\"].astype(int)\n",
    "ed['8'] = ed[\"Estimate; Total: - 8th grade\"].astype(int)\n",
    "ed['8_moe'] = ed[\"Margin of Error; Total: - 8th grade\"].astype(int)\n",
    "ed['9'] = ed[\"Estimate; Total: - 9th grade\"].astype(int)\n",
    "ed['9_moe'] = ed[\"Margin of Error; Total: - 9th grade\"].astype(int)\n",
    "ed['10'] = ed[\"Estimate; Total: - 10th grade\"].astype(int)\n",
    "ed['10_moe'] = ed[\"Margin of Error; Total: - 10th grade\"].astype(int)\n",
    "ed['11'] = ed[\"Estimate; Total: - 11th grade\"].astype(int)\n",
    "ed['11_moe'] = ed[\"Margin of Error; Total: - 11th grade\"].astype(int)\n",
    "ed['12'] = ed[\"Estimate; Total: - 12th grade, no diploma\"].astype(int)\n",
    "ed['12_moe'] = ed[\"Margin of Error; Total: - 12th grade, no diploma\"].astype(int)\n",
    "ed['high'] = ed[\"Estimate; Total: - Regular high school diploma\"].astype(int)\n",
    "ed['high_moe'] = ed[\"Margin of Error; Total: - Regular high school diploma\"].astype(int)\n",
    "ed['ged'] = ed[\"Estimate; Total: - GED or alternative credential\"].astype(int)\n",
    "ed['ged_moe'] = ed[\"Margin of Error; Total: - GED or alternative credential\"].astype(int)\n",
    "ed['somec'] = ed[\"Estimate; Total: - Some college, less than 1 year\"].astype(int)\n",
    "ed['somec_moe'] = ed[\"Margin of Error; Total: - Some college, less than 1 year\"].astype(int)\n",
    "ed['somec2'] = ed[\"Estimate; Total: - Some college, 1 or more years, no degree\"].astype(int)\n",
    "ed['somec2_moe'] = ed[\"Margin of Error; Total: - Some college, 1 or more years, no degree\"].astype(int)\n",
    "ed['somec2'] = ed[\"Estimate; Total: - Some college, 1 or more years, no degree\"].astype(int)\n",
    "ed['somec2_moe'] = ed[\"Margin of Error; Total: - Some college, 1 or more years, no degree\"].astype(int)\n",
    "ed['ass'] = ed[\"Estimate; Total: - Associate's degree\"].astype(int)\n",
    "ed['ass_moe'] = ed[\"Margin of Error; Total: - Associate's degree\"].astype(int)\n",
    "ed['bachelors'] = ed[\"Estimate; Total: - Bachelor's degree\"].astype(int)\n",
    "ed['bachelors_moe'] = ed[\"Margin of Error; Total: - Bachelor's degree\"].astype(int)\n",
    "ed['masters'] = ed[\"Estimate; Total: - Master's degree\"].astype(int)\n",
    "ed['masters_moe'] = ed[\"Margin of Error; Total: - Master's degree\"].astype(int)\n",
    "ed['professional'] = ed[\"Estimate; Total: - Professional school degree\"].astype(int)\n",
    "ed['professional_moe'] = ed[\"Margin of Error; Total: - Professional school degree\"].astype(int)\n",
    "ed['doctorate'] = ed[\"Estimate; Total: - Doctorate degree\"].astype(int)\n",
    "ed['doctorate_moe'] = ed[\"Margin of Error; Total: - Doctorate degree\"].astype(int)\n",
    "ed['at_least'] = ed['bachelors']+ed['masters']+ed['professional']+ed['doctorate']\n"
   ]
  },
  {
   "cell_type": "code",
   "execution_count": 11,
   "metadata": {
    "collapsed": true
   },
   "outputs": [],
   "source": [
    "#list moes to transform\n",
    "list = ['none_moe', 'prek_moe', 'k_moe', '1_moe', '2_moe', '3_moe',\n",
    "        '4_moe', '5_moe', '6_moe', '7_moe', '8_moe', '9_moe', '10_moe', \n",
    "        '11_moe', '12_moe', 'high_moe', 'ged_moe', 'somec_moe', \n",
    "               'somec2_moe', 'ass_moe', 'bachelors_moe', \n",
    "              'masters_moe', 'professional_moe', 'doctorate_moe', \n",
    "              'total_moe']\n",
    "\n",
    "#convert MOEs to 95% confidence level\n",
    "def convert(column):\n",
    "    return column*(1.96/1.645)\n",
    "\n",
    "#square columns\n",
    "def square(column):\n",
    "    return column**2\n",
    "\n",
    "for item in list:\n",
    "    ed[item] = convert(ed[item])\n",
    "    ed[item+'2']= square(ed[item])"
   ]
  },
  {
   "cell_type": "code",
   "execution_count": 12,
   "metadata": {
    "collapsed": true
   },
   "outputs": [],
   "source": [
    "#Highest completion columns\n",
    "ed['nhigh'] = ed['none'] + ed['prek'] + ed['k'] + ed['1'] + ed['2'] + ed['3'] + ed['4'] + ed['5'] + ed['6'] + ed['7'] + ed['8'] + ed['9'] + ed['10'] + ed['11'] + ed['12']\n",
    "ed['nhigh_moe'] = (ed['none_moe2'] + ed['prek_moe2'] + ed['k_moe2'] + ed['1_moe2'] + ed['2_moe2'] + ed['3_moe2'] + ed['4_moe2'] + ed['5_moe2'] + ed['6_moe2'] + ed['7_moe2'] + ed['8_moe2'] + ed['9_moe2'] + ed['10_moe2'] + ed['11_moe2'] + ed['12_moe2'])**(1/2) \n",
    "ed['nhigh_moe2'] = (ed['nhigh_moe'])**2\n",
    "\n",
    "ed['highc'] = ed['high'] + ed['ged'] + ed['somec'] + ed['somec2'] \n",
    "ed['highc_moe'] = (ed['high_moe2'] + ed['ged_moe2'] + ed['somec_moe2']+ ed['somec2_moe2'])**(1/2) \n",
    "ed['highc_moe2'] = (ed['highc_moe'])**2\n",
    "\n",
    "ed['pro'] = ed['ass']  + ed['professional'] \n",
    "ed['pro_moe'] = (ed['ass_moe2'] + ed['professional_moe2'])**(1/2) \n",
    "ed['pro_moe2'] = (ed['pro_moe'])**2\n",
    "\n",
    "ed['edu'] = ed['bachelors'] + ed['masters'] + ed['doctorate'] \n",
    "ed['edu_moe'] = (ed['masters_moe2'] + ed['doctorate_moe2'] + ed['bachelors_moe2'] )**(1/2) \n",
    "ed['edu_moe2'] = (ed['edu_moe'])**2"
   ]
  },
  {
   "cell_type": "code",
   "execution_count": 13,
   "metadata": {
    "collapsed": true
   },
   "outputs": [],
   "source": [
    "#list variables to include in sum\n",
    "eds = ['total', 'total_moe2', 'nhigh', 'nhigh_moe2', 'highc', 'highc_moe2', 'pro', 'pro_moe2', \n",
    "          'edu', 'edu_moe2']\n",
    "\n",
    "exed = ed.groupby('Fruitvale')[eds].sum()"
   ]
  },
  {
   "cell_type": "code",
   "execution_count": null,
   "metadata": {
    "collapsed": true
   },
   "outputs": [],
   "source": [
    "#Create new MOEs after sum\n",
    "moe_list = ['total_moe2', 'nhigh_moe2', 'highc_moe2', 'pro_moe2', 'edu_moe2']\n",
    "\n",
    "def sq_root(column):\n",
    "    return column**(1/2)\n",
    "\n",
    "for item in moe_list:\n",
    "    exed[item.strip('2')] = sq_root(exed[item])"
   ]
  },
  {
   "cell_type": "code",
   "execution_count": null,
   "metadata": {
    "collapsed": true
   },
   "outputs": [],
   "source": [
    "#Create Percentages\n",
    "pct_list = ['nhigh', 'highc', 'pro', 'edu']\n",
    "\n",
    "def pct(column):\n",
    "    return 100*(exed[column]/exed['total'])\n",
    "\n",
    "for item in pct_list:\n",
    "    exed['pct_'+item] = pct(item)"
   ]
  },
  {
   "cell_type": "code",
   "execution_count": null,
   "metadata": {
    "collapsed": true
   },
   "outputs": [],
   "source": [
    "#Create New Proportions MOEs\n",
    "exed['pct_nhigh_moe'] = 100*(prop_MOE(exed['nhigh'], exed['total'], exed['nhigh_moe'], exed['total_moe']))\n",
    "exed['pct_highc_moe'] = 100*(prop_MOE(exed['highc'], exed['total'], exed['highc_moe'], exed['total_moe']))\n",
    "exed['pct_pro_moe'] = 100*(prop_MOE(exed['pro'], exed['total'], exed['pro_moe'], exed['total_moe']))\n",
    "exed['pct_edu_moe'] = 100*(prop_MOE(exed['edu'], exed['total'], exed['edu_moe'], exed['total_moe']))\n"
   ]
  },
  {
   "cell_type": "code",
   "execution_count": null,
   "metadata": {
    "collapsed": true
   },
   "outputs": [],
   "source": [
    "#list data to include in export\n",
    "export = ['total', 'nhigh', 'highc', 'pro', 'edu', 'total_moe', 'nhigh_moe', 'highc_moe', 'pro_moe', 'edu_moe',\n",
    "         'pct_nhigh', 'pct_highc', 'pct_pro', 'pct_edu', 'pct_nhigh_moe', 'pct_highc_moe', 'pct_pro_moe',\n",
    "         'pct_edu_moe']\n",
    "\n",
    "exed = exed[export]\n",
    "\n",
    "#change everything to rounded percents\n",
    "exed = exed.round(2)"
   ]
  },
  {
   "cell_type": "code",
   "execution_count": null,
   "metadata": {
    "collapsed": true
   },
   "outputs": [],
   "source": [
    "#export data to csv\n",
    "export_path = cwd+'/Output/python_output/ed_finalproject.csv'\n",
    "exed.to_csv(export_path)"
   ]
  }
 ],
 "metadata": {
  "anaconda-cloud": {},
  "kernelspec": {
   "display_name": "Python [Root]",
   "language": "python",
   "name": "Python [Root]"
  },
  "language_info": {
   "codemirror_mode": {
    "name": "ipython",
    "version": 3
   },
   "file_extension": ".py",
   "mimetype": "text/x-python",
   "name": "python",
   "nbconvert_exporter": "python",
   "pygments_lexer": "ipython3",
   "version": "3.5.2"
  }
 },
 "nbformat": 4,
 "nbformat_minor": 0
}
