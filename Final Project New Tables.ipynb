{
 "cells": [
  {
   "cell_type": "markdown",
   "metadata": {},
   "source": [
    "# Final Project Tables\n",
    "This notebook conducts data analysis for tables and figures that I did not include in previous assignments. For the tables and figures for the final project that I take from other assignments, I use the code from those assignments."
   ]
  },
  {
   "cell_type": "code",
   "execution_count": 72,
   "metadata": {
    "collapsed": false
   },
   "outputs": [],
   "source": [
    "#Import packages\n",
    "import pandas as pd\n",
    "import matplotlib as mpl\n",
    "#import matplotlib.pyplot as plt\n",
    "import numpy as np\n",
    "import math\n",
    "import os\n",
    "pd.options.mode.chained_assignment = None #gets rid of warning for chained alterations"
   ]
  },
  {
   "cell_type": "code",
   "execution_count": 73,
   "metadata": {
    "collapsed": true
   },
   "outputs": [],
   "source": [
    "#set directories\n",
    "os.chdir(\"/Users/briangoggin/Dropbox/CP 201A/Fruitvale\")\n",
    "cwd = os.getcwd()\n",
    "root = cwd #root is directory to raw files"
   ]
  },
  {
   "cell_type": "markdown",
   "metadata": {},
   "source": [
    "# Section 1. Accessibility Table"
   ]
  },
  {
   "cell_type": "code",
   "execution_count": 74,
   "metadata": {
    "collapsed": false
   },
   "outputs": [],
   "source": [
    "#import data\n",
    "input_data = root+\"/Output/AC_26minute_accessibility.csv\"\n",
    "df = pd.read_csv(input_data)"
   ]
  },
  {
   "cell_type": "code",
   "execution_count": 75,
   "metadata": {
    "collapsed": false
   },
   "outputs": [
    {
     "data": {
      "text/html": [
       "<div>\n",
       "<table border=\"1\" class=\"dataframe\">\n",
       "  <thead>\n",
       "    <tr style=\"text-align: right;\">\n",
       "      <th></th>\n",
       "      <th>high_jobs_26</th>\n",
       "      <th>low_jobs_26</th>\n",
       "      <th>middle_jobs_26</th>\n",
       "      <th>total_jobs_26</th>\n",
       "      <th>block_id</th>\n",
       "    </tr>\n",
       "  </thead>\n",
       "  <tbody>\n",
       "    <tr>\n",
       "      <th>0</th>\n",
       "      <td>22</td>\n",
       "      <td>16</td>\n",
       "      <td>7</td>\n",
       "      <td>45</td>\n",
       "      <td>60014001001007</td>\n",
       "    </tr>\n",
       "    <tr>\n",
       "      <th>1</th>\n",
       "      <td>18</td>\n",
       "      <td>3</td>\n",
       "      <td>5</td>\n",
       "      <td>26</td>\n",
       "      <td>60014001001008</td>\n",
       "    </tr>\n",
       "    <tr>\n",
       "      <th>2</th>\n",
       "      <td>26</td>\n",
       "      <td>15</td>\n",
       "      <td>7</td>\n",
       "      <td>48</td>\n",
       "      <td>60014001001017</td>\n",
       "    </tr>\n",
       "    <tr>\n",
       "      <th>3</th>\n",
       "      <td>7</td>\n",
       "      <td>9</td>\n",
       "      <td>6</td>\n",
       "      <td>22</td>\n",
       "      <td>60014001001024</td>\n",
       "    </tr>\n",
       "    <tr>\n",
       "      <th>4</th>\n",
       "      <td>26</td>\n",
       "      <td>20</td>\n",
       "      <td>21</td>\n",
       "      <td>67</td>\n",
       "      <td>60014001001026</td>\n",
       "    </tr>\n",
       "  </tbody>\n",
       "</table>\n",
       "</div>"
      ],
      "text/plain": [
       "   high_jobs_26  low_jobs_26  middle_jobs_26  total_jobs_26        block_id\n",
       "0            22           16               7             45  60014001001007\n",
       "1            18            3               5             26  60014001001008\n",
       "2            26           15               7             48  60014001001017\n",
       "3             7            9               6             22  60014001001024\n",
       "4            26           20              21             67  60014001001026"
      ]
     },
     "execution_count": 75,
     "metadata": {},
     "output_type": "execute_result"
    }
   ],
   "source": [
    "#Drop unneeded variables\n",
    "list = ['high_jobs_26', 'low_jobs_26', 'middle_jobs_26', 'total_jobs_26', 'block_id']\n",
    "df = df[list]\n",
    "df.head()"
   ]
  },
  {
   "cell_type": "code",
   "execution_count": 76,
   "metadata": {
    "collapsed": false
   },
   "outputs": [
    {
     "data": {
      "text/html": [
       "<div>\n",
       "<table border=\"1\" class=\"dataframe\">\n",
       "  <thead>\n",
       "    <tr style=\"text-align: right;\">\n",
       "      <th></th>\n",
       "      <th>high_jobs_26</th>\n",
       "      <th>low_jobs_26</th>\n",
       "      <th>middle_jobs_26</th>\n",
       "      <th>total_jobs_26</th>\n",
       "      <th>block_id</th>\n",
       "      <th>tract</th>\n",
       "      <th>Fruitvale</th>\n",
       "    </tr>\n",
       "  </thead>\n",
       "  <tbody>\n",
       "    <tr>\n",
       "      <th>0</th>\n",
       "      <td>22</td>\n",
       "      <td>16</td>\n",
       "      <td>7</td>\n",
       "      <td>45</td>\n",
       "      <td>60014001001007</td>\n",
       "      <td>6001400100</td>\n",
       "      <td>False</td>\n",
       "    </tr>\n",
       "    <tr>\n",
       "      <th>1</th>\n",
       "      <td>18</td>\n",
       "      <td>3</td>\n",
       "      <td>5</td>\n",
       "      <td>26</td>\n",
       "      <td>60014001001008</td>\n",
       "      <td>6001400100</td>\n",
       "      <td>False</td>\n",
       "    </tr>\n",
       "    <tr>\n",
       "      <th>2</th>\n",
       "      <td>26</td>\n",
       "      <td>15</td>\n",
       "      <td>7</td>\n",
       "      <td>48</td>\n",
       "      <td>60014001001017</td>\n",
       "      <td>6001400100</td>\n",
       "      <td>False</td>\n",
       "    </tr>\n",
       "    <tr>\n",
       "      <th>3</th>\n",
       "      <td>7</td>\n",
       "      <td>9</td>\n",
       "      <td>6</td>\n",
       "      <td>22</td>\n",
       "      <td>60014001001024</td>\n",
       "      <td>6001400100</td>\n",
       "      <td>False</td>\n",
       "    </tr>\n",
       "    <tr>\n",
       "      <th>4</th>\n",
       "      <td>26</td>\n",
       "      <td>20</td>\n",
       "      <td>21</td>\n",
       "      <td>67</td>\n",
       "      <td>60014001001026</td>\n",
       "      <td>6001400100</td>\n",
       "      <td>False</td>\n",
       "    </tr>\n",
       "  </tbody>\n",
       "</table>\n",
       "</div>"
      ],
      "text/plain": [
       "   high_jobs_26  low_jobs_26  middle_jobs_26  total_jobs_26        block_id  \\\n",
       "0            22           16               7             45  60014001001007   \n",
       "1            18            3               5             26  60014001001008   \n",
       "2            26           15               7             48  60014001001017   \n",
       "3             7            9               6             22  60014001001024   \n",
       "4            26           20              21             67  60014001001026   \n",
       "\n",
       "        tract Fruitvale  \n",
       "0  6001400100     False  \n",
       "1  6001400100     False  \n",
       "2  6001400100     False  \n",
       "3  6001400100     False  \n",
       "4  6001400100     False  "
      ]
     },
     "execution_count": 76,
     "metadata": {},
     "output_type": "execute_result"
    }
   ],
   "source": [
    "Fruitvale = [6001406100, 6001406201, 6001406202, 6001406300, 6001406500, 6001407101, 6001407102, 6001407200, 6001407300, 6001407400, 6001407500, 6001407600]\n",
    "df['tract'] = df['block_id'].astype(str).str[0:10]\n",
    "df['Fruitvale'] = df['tract'].astype(int).isin(Fruitvale)\n",
    "df.head()"
   ]
  },
  {
   "cell_type": "code",
   "execution_count": 77,
   "metadata": {
    "collapsed": false
   },
   "outputs": [
    {
     "data": {
      "text/html": [
       "<div>\n",
       "<table border=\"1\" class=\"dataframe\">\n",
       "  <thead>\n",
       "    <tr style=\"text-align: right;\">\n",
       "      <th></th>\n",
       "      <th>high_jobs_26</th>\n",
       "      <th>low_jobs_26</th>\n",
       "      <th>middle_jobs_26</th>\n",
       "      <th>total_jobs_26</th>\n",
       "      <th>block_id</th>\n",
       "      <th>tract</th>\n",
       "      <th>Fruitvale</th>\n",
       "    </tr>\n",
       "  </thead>\n",
       "  <tbody>\n",
       "    <tr>\n",
       "      <th>0</th>\n",
       "      <td>22</td>\n",
       "      <td>16</td>\n",
       "      <td>7</td>\n",
       "      <td>45</td>\n",
       "      <td>60014001001007</td>\n",
       "      <td>6001400100</td>\n",
       "      <td>False</td>\n",
       "    </tr>\n",
       "    <tr>\n",
       "      <th>1</th>\n",
       "      <td>18</td>\n",
       "      <td>3</td>\n",
       "      <td>5</td>\n",
       "      <td>26</td>\n",
       "      <td>60014001001008</td>\n",
       "      <td>6001400100</td>\n",
       "      <td>False</td>\n",
       "    </tr>\n",
       "    <tr>\n",
       "      <th>2</th>\n",
       "      <td>26</td>\n",
       "      <td>15</td>\n",
       "      <td>7</td>\n",
       "      <td>48</td>\n",
       "      <td>60014001001017</td>\n",
       "      <td>6001400100</td>\n",
       "      <td>False</td>\n",
       "    </tr>\n",
       "    <tr>\n",
       "      <th>3</th>\n",
       "      <td>7</td>\n",
       "      <td>9</td>\n",
       "      <td>6</td>\n",
       "      <td>22</td>\n",
       "      <td>60014001001024</td>\n",
       "      <td>6001400100</td>\n",
       "      <td>False</td>\n",
       "    </tr>\n",
       "    <tr>\n",
       "      <th>4</th>\n",
       "      <td>26</td>\n",
       "      <td>20</td>\n",
       "      <td>21</td>\n",
       "      <td>67</td>\n",
       "      <td>60014001001026</td>\n",
       "      <td>6001400100</td>\n",
       "      <td>False</td>\n",
       "    </tr>\n",
       "  </tbody>\n",
       "</table>\n",
       "</div>"
      ],
      "text/plain": [
       "   high_jobs_26  low_jobs_26  middle_jobs_26  total_jobs_26        block_id  \\\n",
       "0            22           16               7             45  60014001001007   \n",
       "1            18            3               5             26  60014001001008   \n",
       "2            26           15               7             48  60014001001017   \n",
       "3             7            9               6             22  60014001001024   \n",
       "4            26           20              21             67  60014001001026   \n",
       "\n",
       "        tract Fruitvale  \n",
       "0  6001400100     False  \n",
       "1  6001400100     False  \n",
       "2  6001400100     False  \n",
       "3  6001400100     False  \n",
       "4  6001400100     False  "
      ]
     },
     "execution_count": 77,
     "metadata": {},
     "output_type": "execute_result"
    }
   ],
   "source": [
    "#add duplicate observations for Fruitvale before collapsing to the average\n",
    "df2 = df[df['Fruitvale']==True]\n",
    "df2['Fruitvale'] = False\n",
    "df = df.append(df2)\n",
    "df.head()"
   ]
  },
  {
   "cell_type": "code",
   "execution_count": 78,
   "metadata": {
    "collapsed": false
   },
   "outputs": [
    {
     "data": {
      "text/html": [
       "<div>\n",
       "<table border=\"1\" class=\"dataframe\">\n",
       "  <thead>\n",
       "    <tr style=\"text-align: right;\">\n",
       "      <th></th>\n",
       "      <th>high_jobs_26</th>\n",
       "      <th>low_jobs_26</th>\n",
       "      <th>middle_jobs_26</th>\n",
       "      <th>total_jobs_26</th>\n",
       "      <th>block_id</th>\n",
       "      <th>tract</th>\n",
       "      <th>Fruitvale</th>\n",
       "    </tr>\n",
       "  </thead>\n",
       "  <tbody>\n",
       "    <tr>\n",
       "      <th>2039</th>\n",
       "      <td>68321</td>\n",
       "      <td>31975</td>\n",
       "      <td>37368</td>\n",
       "      <td>137665</td>\n",
       "      <td>60014063001000</td>\n",
       "      <td>6001406300</td>\n",
       "      <td>True</td>\n",
       "    </tr>\n",
       "    <tr>\n",
       "      <th>2039</th>\n",
       "      <td>68321</td>\n",
       "      <td>31975</td>\n",
       "      <td>37368</td>\n",
       "      <td>137665</td>\n",
       "      <td>60014063001000</td>\n",
       "      <td>6001406300</td>\n",
       "      <td>False</td>\n",
       "    </tr>\n",
       "  </tbody>\n",
       "</table>\n",
       "</div>"
      ],
      "text/plain": [
       "      high_jobs_26  low_jobs_26  middle_jobs_26  total_jobs_26  \\\n",
       "2039         68321        31975           37368         137665   \n",
       "2039         68321        31975           37368         137665   \n",
       "\n",
       "            block_id       tract Fruitvale  \n",
       "2039  60014063001000  6001406300      True  \n",
       "2039  60014063001000  6001406300     False  "
      ]
     },
     "execution_count": 78,
     "metadata": {},
     "output_type": "execute_result"
    }
   ],
   "source": [
    "df[df['block_id'] == 60014063001000]"
   ]
  },
  {
   "cell_type": "code",
   "execution_count": 79,
   "metadata": {
    "collapsed": false
   },
   "outputs": [
    {
     "data": {
      "text/html": [
       "<div>\n",
       "<table border=\"1\" class=\"dataframe\">\n",
       "  <thead>\n",
       "    <tr style=\"text-align: right;\">\n",
       "      <th></th>\n",
       "      <th>total_jobs_26</th>\n",
       "      <th>high_jobs_26</th>\n",
       "      <th>middle_jobs_26</th>\n",
       "      <th>low_jobs_26</th>\n",
       "    </tr>\n",
       "    <tr>\n",
       "      <th>Fruitvale</th>\n",
       "      <th></th>\n",
       "      <th></th>\n",
       "      <th></th>\n",
       "      <th></th>\n",
       "    </tr>\n",
       "  </thead>\n",
       "  <tbody>\n",
       "    <tr>\n",
       "      <th>False</th>\n",
       "      <td>76166.056200</td>\n",
       "      <td>38174.323151</td>\n",
       "      <td>20691.628626</td>\n",
       "      <td>17300.110769</td>\n",
       "    </tr>\n",
       "    <tr>\n",
       "      <th>True</th>\n",
       "      <td>129767.801354</td>\n",
       "      <td>64792.469526</td>\n",
       "      <td>35256.735892</td>\n",
       "      <td>29718.604966</td>\n",
       "    </tr>\n",
       "  </tbody>\n",
       "</table>\n",
       "</div>"
      ],
      "text/plain": [
       "           total_jobs_26  high_jobs_26  middle_jobs_26   low_jobs_26\n",
       "Fruitvale                                                           \n",
       "False       76166.056200  38174.323151    20691.628626  17300.110769\n",
       "True       129767.801354  64792.469526    35256.735892  29718.604966"
      ]
     },
     "execution_count": 79,
     "metadata": {},
     "output_type": "execute_result"
    }
   ],
   "source": [
    "varlist =[ 'total_jobs_26','high_jobs_26','middle_jobs_26', 'low_jobs_26']\n",
    "exdf = df.groupby(['Fruitvale'])[varlist].mean()\n",
    "exdf.head()"
   ]
  },
  {
   "cell_type": "code",
   "execution_count": 80,
   "metadata": {
    "collapsed": true
   },
   "outputs": [],
   "source": [
    "#Reorder, Reshape, and export data\n",
    "exdf = exdf.transpose()\n",
    "export_path = root+\"/Output/python_output\"\n",
    "exdf.to_csv(export_path+\"/acc_comparison.csv\")"
   ]
  },
  {
   "cell_type": "markdown",
   "metadata": {},
   "source": [
    "# Section 2. Census Tables"
   ]
  },
  {
   "cell_type": "code",
   "execution_count": 101,
   "metadata": {
    "collapsed": true
   },
   "outputs": [],
   "source": [
    "#set data roots\n",
    "poverty = root+\"/Raw Data/ACS_14_5YR_B17001_with_ann.csv\"\n",
    "education = root+\"/Raw Data/ACS_14_5YR_B15003_with_ann.csv\"\n",
    "industry = root+\"/Raw Data/ACS_14_5YR_B08126_with_ann.csv\"\n",
    "cmincome1 = root+\"/Raw Data/ACS_14_5YR_B08119_with_ann.csv\"\n",
    "cmincome2 = root+\"/Raw Data/ACS_14_5YR_B08121_with_ann.csv\"\n",
    "\n",
    "#identify Fruitvale Census Tracts\n",
    "Fruitvale = [6001406100, 6001406201, 6001406202, 6001406300, 6001406500, 6001407101, 6001407102, 6001407200, 6001407300, 6001407400, 6001407500, 6001407600]\n"
   ]
  },
  {
   "cell_type": "code",
   "execution_count": 102,
   "metadata": {
    "collapsed": true
   },
   "outputs": [],
   "source": [
    "#Define function for import and standard ACS cleaning operations\n",
    "def import_census(file):\n",
    "    df = pd.read_csv(file, header = 1)\n",
    "    df['Fruitvale'] = df['Id2'].isin(Fruitvale)\n",
    "    #the following 5 lines create duplicate observations of Fruitvale to include them in county averages\n",
    "    df2 = df[df['Fruitvale'] == True]\n",
    "    df2.drop('Fruitvale', axis = 1)\n",
    "    df2.is_copy = False\n",
    "    df2['Fruitvale'] = False\n",
    "    df = df.append(df2)\n",
    "    return df\n",
    "\n",
    "#Define function for proportions MOE\n",
    "def prop_MOE(numerator, denominator, num_moe, den_moe):\n",
    "    return ((num_moe**2 - (((numerator/denominator)**2)*(den_moe**2))))**(1/2)/denominator"
   ]
  },
  {
   "cell_type": "code",
   "execution_count": 103,
   "metadata": {
    "collapsed": false
   },
   "outputs": [],
   "source": [
    "##########################################\n",
    "##Section 1: Commute Mode by Income\n",
    "##########################################\n",
    "\n",
    "#Import data\n",
    "cm1 = import_census(cmincome1)\n",
    "cm2 = import_census(cmincome2)"
   ]
  },
  {
   "cell_type": "code",
   "execution_count": 104,
   "metadata": {
    "collapsed": false
   },
   "outputs": [
    {
     "data": {
      "text/plain": [
       "(373, 18)"
      ]
     },
     "execution_count": 104,
     "metadata": {},
     "output_type": "execute_result"
    }
   ],
   "source": [
    "#rename variables\n",
    "cm2.shape"
   ]
  },
  {
   "cell_type": "code",
   "execution_count": 105,
   "metadata": {
    "collapsed": false
   },
   "outputs": [],
   "source": [
    "cm2['total'] = cm2[\"Estimate; Median earnings in the past 12 months -- - Total:\"]\n",
    "cm2['total_moe'] = cm2[\"Margin of Error; Median earnings in the past 12 months -- - Total:\"]\n",
    "cm2['transit'] = cm2[\"Estimate; Median earnings in the past 12 months -- - Total: - Public transportation (excluding taxicab)\"]\n",
    "cm2['transit_moe'] = cm2[\"Margin of Error; Median earnings in the past 12 months -- - Total: - Public transportation (excluding taxicab)\"]\n"
   ]
  },
  {
   "cell_type": "code",
   "execution_count": 106,
   "metadata": {
    "collapsed": true
   },
   "outputs": [],
   "source": [
    "#drop observations with missing values\n",
    "vars = ['total', 'total_moe', 'transit', 'transit_moe']\n",
    "for item in vars:\n",
    "    cm2 = cm2[(cm2[item] != '-') & (cm2[item] != '**')]\n",
    "    \n",
    "for item in vars:\n",
    "    cm2[item] = cm2[item].astype(int)"
   ]
  },
  {
   "cell_type": "code",
   "execution_count": 107,
   "metadata": {
    "collapsed": false
   },
   "outputs": [
    {
     "data": {
      "text/plain": [
       "(365, 22)"
      ]
     },
     "execution_count": 107,
     "metadata": {},
     "output_type": "execute_result"
    }
   ],
   "source": [
    "cm2.shape"
   ]
  },
  {
   "cell_type": "code",
   "execution_count": null,
   "metadata": {
    "collapsed": false
   },
   "outputs": [],
   "source": [
    "cm2[cm2['Fruitvale']==True]"
   ]
  },
  {
   "cell_type": "code",
   "execution_count": 109,
   "metadata": {
    "collapsed": true
   },
   "outputs": [],
   "source": [
    "#convert MOEs to 95% confidence interval\n",
    "cm2['total_moe'] = cm2['total_moe']*(1.96/1.645)\n",
    "cm2['transit_moe'] = cm2['transit_moe']*(1.96/1.645)\n",
    "\n",
    "#collapse, taking the average of all of the vars\n",
    "sumvars = ['total', 'total_moe', 'transit', 'transit_moe']\n",
    "cm2_sum = cm2.groupby('Fruitvale')[sumvars].mean()"
   ]
  },
  {
   "cell_type": "code",
   "execution_count": 110,
   "metadata": {
    "collapsed": false
   },
   "outputs": [
    {
     "data": {
      "text/html": [
       "<div>\n",
       "<table border=\"1\" class=\"dataframe\">\n",
       "  <thead>\n",
       "    <tr style=\"text-align: right;\">\n",
       "      <th></th>\n",
       "      <th>total</th>\n",
       "      <th>total_moe</th>\n",
       "      <th>transit</th>\n",
       "      <th>transit_moe</th>\n",
       "    </tr>\n",
       "    <tr>\n",
       "      <th>Fruitvale</th>\n",
       "      <th></th>\n",
       "      <th></th>\n",
       "      <th></th>\n",
       "      <th></th>\n",
       "    </tr>\n",
       "  </thead>\n",
       "  <tbody>\n",
       "    <tr>\n",
       "      <th>False</th>\n",
       "      <td>48116.790368</td>\n",
       "      <td>10330.452414</td>\n",
       "      <td>57055.198300</td>\n",
       "      <td>39578.728226</td>\n",
       "    </tr>\n",
       "    <tr>\n",
       "      <th>True</th>\n",
       "      <td>24016.833333</td>\n",
       "      <td>6423.914894</td>\n",
       "      <td>16118.916667</td>\n",
       "      <td>15770.056738</td>\n",
       "    </tr>\n",
       "  </tbody>\n",
       "</table>\n",
       "</div>"
      ],
      "text/plain": [
       "                  total     total_moe       transit   transit_moe\n",
       "Fruitvale                                                        \n",
       "False      48116.790368  10330.452414  57055.198300  39578.728226\n",
       "True       24016.833333   6423.914894  16118.916667  15770.056738"
      ]
     },
     "execution_count": 110,
     "metadata": {},
     "output_type": "execute_result"
    }
   ],
   "source": [
    "cm2_sum.head()"
   ]
  },
  {
   "cell_type": "code",
   "execution_count": 111,
   "metadata": {
    "collapsed": true
   },
   "outputs": [],
   "source": [
    "cm1['total'] = cm1[\"Estimate; Total: - Public transportation (excluding taxicab):\"]\n",
    "cm1['total_moe'] = cm1[\"Margin of Error; Total: - Public transportation (excluding taxicab):\"]\n",
    "cm1['10'] = cm1[\"Estimate; Total: - Public transportation (excluding taxicab): - $1 to $9,999 or loss\"]\n",
    "cm1['10_moe'] = cm1[\"Margin of Error; Total: - Public transportation (excluding taxicab): - $1 to $9,999 or loss\"]\n",
    "cm1['15'] = cm1[\"Estimate; Total: - Public transportation (excluding taxicab): - $10,000 to $14,999\"]\n",
    "cm1['15_moe'] = cm1[\"Margin of Error; Total: - Public transportation (excluding taxicab): - $10,000 to $14,999\"]\n",
    "cm1['25'] = cm1[\"Estimate; Total: - Public transportation (excluding taxicab): - $15,000 to $24,999\"]\n",
    "cm1['25_moe'] = cm1[\"Margin of Error; Total: - Public transportation (excluding taxicab): - $15,000 to $24,999\"]\n",
    "cm1['35'] = cm1[\"Estimate; Total: - Public transportation (excluding taxicab): - $25,000 to $34,999\"]\n",
    "cm1['35_moe'] = cm1[\"Margin of Error; Total: - Public transportation (excluding taxicab): - $25,000 to $34,999\"]\n",
    "cm1['50'] = cm1[\"Estimate; Total: - Public transportation (excluding taxicab): - $35,000 to $49,999\"]\n",
    "cm1['50_moe'] = cm1[\"Margin of Error; Total: - Public transportation (excluding taxicab): - $35,000 to $49,999\"]\n",
    "cm1['65'] = cm1[\"Estimate; Total: - Public transportation (excluding taxicab): - $50,000 to $64,999\"]\n",
    "cm1['65_moe'] = cm1[\"Margin of Error; Total: - Public transportation (excluding taxicab): - $50,000 to $64,999\"]\n",
    "cm1['75'] = cm1[\"Estimate; Total: - Public transportation (excluding taxicab): - $65,000 to $74,999\"]\n",
    "cm1['75_moe'] = cm1[\"Margin of Error; Total: - Public transportation (excluding taxicab): - $65,000 to $74,999\"]\n",
    "cm1['75plus'] = cm1[\"Estimate; Total: - Public transportation (excluding taxicab): - $75,000 or more\"]\n",
    "cm1['75plus_moe'] = cm1[\"Margin of Error; Total: - Public transportation (excluding taxicab): - $75,000 or more\"]\n"
   ]
  },
  {
   "cell_type": "code",
   "execution_count": 112,
   "metadata": {
    "collapsed": false
   },
   "outputs": [],
   "source": [
    "moes = ['total_moe', '10_moe', '15_moe', '25_moe', '35_moe', '50_moe', '65_moe', '75_moe', '75plus_moe']\n",
    "\n",
    "#convert MOEs to 95% confidence level\n",
    "def convert(column):\n",
    "    return column*(1.96/1.645)\n",
    "\n",
    "#square columns\n",
    "def square(column):\n",
    "    return column**2\n",
    "\n",
    "for item in moes:\n",
    "    cm1[item] = convert(cm1[item])\n",
    "    cm1[item+'2']= square(cm1[item])\n",
    "    "
   ]
  },
  {
   "cell_type": "code",
   "execution_count": 113,
   "metadata": {
    "collapsed": false
   },
   "outputs": [],
   "source": [
    "#Create Categories\n",
    "cm1['0to25'] = cm1['10'] + cm1['15'] + cm1['25'] \n",
    "cm1['0to25_moe'] = (cm1['10_moe2'] + cm1['15_moe2'] + cm1['25_moe2'] )**(1/2) \n",
    "cm1['0to25_moe2'] = (cm1['0to25_moe'])**2\n",
    "\n",
    "cm1['_25to50'] = cm1['35'] + cm1['50'] \n",
    "cm1['_25to50_moe'] = (cm1['35_moe2'] + cm1['50_moe2'] )**(1/2) \n",
    "cm1['_25to50_moe2'] = (cm1['_25to50_moe'])**2\n",
    "\n",
    "cm1['50to75'] = cm1['65'] + cm1['75'] \n",
    "cm1['50to75_moe'] = (cm1['65_moe2'] + cm1['75_moe2'] )**(1/2) \n",
    "cm1['50to75_moe2'] = (cm1['50to75_moe'])**2"
   ]
  },
  {
   "cell_type": "code",
   "execution_count": 114,
   "metadata": {
    "collapsed": false
   },
   "outputs": [],
   "source": [
    "#list variables to include in sum\n",
    "cms = ['total', 'total_moe2', '0to25', '0to25_moe2', '_25to50', '_25to50_moe2', '50to75', '50to75_moe2', \n",
    "          '75plus', '75plus_moe2']\n",
    "\n",
    "excm1 = cm1.groupby('Fruitvale')[cms].sum()"
   ]
  },
  {
   "cell_type": "code",
   "execution_count": 115,
   "metadata": {
    "collapsed": true
   },
   "outputs": [],
   "source": [
    "#Create new MOEs after sum\n",
    "moe_list = ['total_moe2', '0to25_moe2', '_25to50_moe2', '50to75_moe2', '75plus_moe2']\n",
    "\n",
    "def sq_root(column):\n",
    "    return column**(1/2)\n",
    "\n",
    "for item in moe_list:\n",
    "    excm1[item.strip('2')] = sq_root(excm1[item])"
   ]
  },
  {
   "cell_type": "code",
   "execution_count": 117,
   "metadata": {
    "collapsed": false
   },
   "outputs": [],
   "source": [
    "#Create Percentages\n",
    "pct_list = ['0to25', '_25to50', '50to75', '75plus']\n",
    "\n",
    "def pct(column):\n",
    "    return 100*(excm1[column]/excm1['total'])\n",
    "\n",
    "for item in pct_list:\n",
    "    excm1['pct_'+item] = pct(item)"
   ]
  },
  {
   "cell_type": "code",
   "execution_count": 119,
   "metadata": {
    "collapsed": false
   },
   "outputs": [],
   "source": [
    "#Create New Proportions MOEs\n",
    "excm1['pct_0to25_moe'] = 100*(prop_MOE(excm1['0to25'], excm1['total'], excm1['0to25_moe'], excm1['total_moe']))\n",
    "excm1['pct__25to50_moe'] = 100*(prop_MOE(excm1['_25to50'], excm1['total'], excm1['_25to50_moe'], excm1['total_moe']))\n",
    "excm1['pct_50to75_moe'] = 100*(prop_MOE(excm1['50to75'], excm1['total'], excm1['50to75_moe'], excm1['total_moe']))\n",
    "excm1['pct_75plus_moe'] = 100*(prop_MOE(excm1['75plus'], excm1['total'], excm1['75plus_moe'], excm1['total_moe']))\n"
   ]
  },
  {
   "cell_type": "code",
   "execution_count": 121,
   "metadata": {
    "collapsed": false
   },
   "outputs": [],
   "source": [
    "#list data to include in export\n",
    "export = ['pct_0to25', 'pct__25to50', 'pct_50to75', 'pct_75plus', 'pct_0to25_moe', 'pct__25to50_moe', \n",
    "         'pct_50to75_moe', 'pct_75plus_moe']\n",
    "\n",
    "excm1 = excm1[export]\n",
    "\n",
    "#change everything to rounded percents\n",
    "excm1 = excm1.round(2)"
   ]
  },
  {
   "cell_type": "code",
   "execution_count": 122,
   "metadata": {
    "collapsed": true
   },
   "outputs": [],
   "source": [
    "#export data to csv\n",
    "export_path = cwd+'/Output/python_output/cm1_finalproject.csv'\n",
    "excm1.to_csv(export_path)"
   ]
  },
  {
   "cell_type": "code",
   "execution_count": 55,
   "metadata": {
    "collapsed": true
   },
   "outputs": [],
   "source": [
    "##############################\n",
    "##Section 1: Poverty\n",
    "##############################\n",
    "\n",
    "#Import data. \n",
    "pov = import_census(poverty)"
   ]
  },
  {
   "cell_type": "code",
   "execution_count": 56,
   "metadata": {
    "collapsed": true
   },
   "outputs": [],
   "source": [
    "#rename variables\n",
    "pov['total'] = pov[\"Estimate; Total:\"].astype(int)\n",
    "pov['total_moe'] = pov[\"Margin of Error; Total:\"].astype(int)\n",
    "pov['poor'] = pov[\"Estimate; Income in the past 12 months below poverty level:\"].astype(int)\n",
    "pov['poor_moe'] = pov[\"Margin of Error; Income in the past 12 months below poverty level:\"].astype(int)\n",
    "\n",
    "#convert MOEs to 95% confidence interval\n",
    "pov['total_moe'] = pov['total_moe']*(1.96/1.645)\n",
    "pov['poor_moe'] = pov['poor_moe']*(1.96/1.645)\n",
    "\n",
    "#prepare variables for collapse\n",
    "pov['total_moe2'] = pov['total_moe']**2\n",
    "pov['poor_moe2'] = pov['poor_moe']**2"
   ]
  },
  {
   "cell_type": "code",
   "execution_count": 57,
   "metadata": {
    "collapsed": true
   },
   "outputs": [],
   "source": [
    "#sumdata\n",
    "sumvars = ['total', 'total_moe2', 'poor', 'poor_moe2']\n",
    "pov_sum = pov.groupby('Fruitvale')[sumvars].sum()\n",
    "pov_sum['total_moe'] = pov_sum['total_moe2']**(1/2)\n",
    "pov_sum['poor_moe'] = pov_sum['poor_moe2']**(1/2)\n",
    "pov_sum['pct_poor'] = (pov_sum['poor']/pov_sum['total'])\n",
    "pov_sum['pct_poor_moe'] = prop_MOE(pov_sum['poor'], pov_sum['total'],  pov_sum['poor_moe'], pov_sum['total_moe'])"
   ]
  },
  {
   "cell_type": "code",
   "execution_count": 58,
   "metadata": {
    "collapsed": true
   },
   "outputs": [],
   "source": [
    "#final cleaning\n",
    "pov_sum = pov_sum.round(4)\n",
    "pov_sum['pct_poor'] = 100*pov_sum['pct_poor']\n",
    "pov_sum['pct_poor_moe'] = 100*pov_sum['pct_poor_moe']\n"
   ]
  },
  {
   "cell_type": "code",
   "execution_count": 59,
   "metadata": {
    "collapsed": true
   },
   "outputs": [],
   "source": [
    "export_path = cwd+'/Output/python_output/pov_finalproject.csv'\n",
    "pov_sum.to_csv(export_path)"
   ]
  },
  {
   "cell_type": "code",
   "execution_count": 60,
   "metadata": {
    "collapsed": true
   },
   "outputs": [],
   "source": [
    "##############################\n",
    "##Section 2: Education\n",
    "##############################"
   ]
  },
  {
   "cell_type": "code",
   "execution_count": 19,
   "metadata": {
    "collapsed": false
   },
   "outputs": [],
   "source": [
    "#Import data. \n",
    "ed = import_census(education)"
   ]
  },
  {
   "cell_type": "code",
   "execution_count": 20,
   "metadata": {
    "collapsed": false
   },
   "outputs": [],
   "source": [
    "#rename variables\n",
    "ed['total'] = ed[\"Estimate; Total:\"].astype(int)\n",
    "ed['total_moe'] = ed[\"Margin of Error; Total:\"].astype(int)\n",
    "ed['none'] = ed[\"Estimate; Total: - No schooling completed\"].astype(int)\n",
    "ed['none_moe'] = ed[\"Margin of Error; Total: - No schooling completed\"].astype(int)\n",
    "ed['prek'] = ed[\"Estimate; Total: - Nursery school\"].astype(int)\n",
    "ed['prek_moe'] = ed[\"Margin of Error; Total: - Nursery school\"].astype(int)\n",
    "ed['k'] = ed[\"Estimate; Total: - Kindergarten\"].astype(int)\n",
    "ed['k_moe'] = ed[\"Margin of Error; Total: - Kindergarten\"].astype(int)\n",
    "ed['1'] = ed[\"Estimate; Total: - 1st grade\"].astype(int)\n",
    "ed['1_moe'] = ed[\"Margin of Error; Total: - 1st grade\"].astype(int)\n",
    "ed['2'] = ed[\"Estimate; Total: - 2nd grade\"].astype(int)\n",
    "ed['2_moe'] = ed[\"Margin of Error; Total: - 2nd grade\"].astype(int)\n",
    "ed['3'] = ed[\"Estimate; Total: - 3rd grade\"].astype(int)\n",
    "ed['3_moe'] = ed[\"Margin of Error; Total: - 3rd grade\"].astype(int)\n",
    "ed['4'] = ed[\"Estimate; Total: - 4th grade\"].astype(int)\n",
    "ed['4_moe'] = ed[\"Margin of Error; Total: - 4th grade\"].astype(int)\n",
    "ed['5'] = ed[\"Estimate; Total: - 5th grade\"].astype(int)\n",
    "ed['5_moe'] = ed[\"Margin of Error; Total: - 5th grade\"].astype(int)\n",
    "ed['6'] = ed[\"Estimate; Total: - 6th grade\"].astype(int)\n",
    "ed['6_moe'] = ed[\"Margin of Error; Total: - 6th grade\"].astype(int)\n",
    "ed['7'] = ed[\"Estimate; Total: - 7th grade\"].astype(int)\n",
    "ed['7_moe'] = ed[\"Margin of Error; Total: - 7th grade\"].astype(int)\n",
    "ed['8'] = ed[\"Estimate; Total: - 8th grade\"].astype(int)\n",
    "ed['8_moe'] = ed[\"Margin of Error; Total: - 8th grade\"].astype(int)\n",
    "ed['9'] = ed[\"Estimate; Total: - 9th grade\"].astype(int)\n",
    "ed['9_moe'] = ed[\"Margin of Error; Total: - 9th grade\"].astype(int)\n",
    "ed['10'] = ed[\"Estimate; Total: - 10th grade\"].astype(int)\n",
    "ed['10_moe'] = ed[\"Margin of Error; Total: - 10th grade\"].astype(int)\n",
    "ed['11'] = ed[\"Estimate; Total: - 11th grade\"].astype(int)\n",
    "ed['11_moe'] = ed[\"Margin of Error; Total: - 11th grade\"].astype(int)\n",
    "ed['12'] = ed[\"Estimate; Total: - 12th grade, no diploma\"].astype(int)\n",
    "ed['12_moe'] = ed[\"Margin of Error; Total: - 12th grade, no diploma\"].astype(int)\n",
    "ed['high'] = ed[\"Estimate; Total: - Regular high school diploma\"].astype(int)\n",
    "ed['high_moe'] = ed[\"Margin of Error; Total: - Regular high school diploma\"].astype(int)\n",
    "ed['ged'] = ed[\"Estimate; Total: - GED or alternative credential\"].astype(int)\n",
    "ed['ged_moe'] = ed[\"Margin of Error; Total: - GED or alternative credential\"].astype(int)\n",
    "ed['somec'] = ed[\"Estimate; Total: - Some college, less than 1 year\"].astype(int)\n",
    "ed['somec_moe'] = ed[\"Margin of Error; Total: - Some college, less than 1 year\"].astype(int)\n",
    "ed['somec2'] = ed[\"Estimate; Total: - Some college, 1 or more years, no degree\"].astype(int)\n",
    "ed['somec2_moe'] = ed[\"Margin of Error; Total: - Some college, 1 or more years, no degree\"].astype(int)\n",
    "ed['somec2'] = ed[\"Estimate; Total: - Some college, 1 or more years, no degree\"].astype(int)\n",
    "ed['somec2_moe'] = ed[\"Margin of Error; Total: - Some college, 1 or more years, no degree\"].astype(int)\n",
    "ed['ass'] = ed[\"Estimate; Total: - Associate's degree\"].astype(int)\n",
    "ed['ass_moe'] = ed[\"Margin of Error; Total: - Associate's degree\"].astype(int)\n",
    "ed['bachelors'] = ed[\"Estimate; Total: - Bachelor's degree\"].astype(int)\n",
    "ed['bachelors_moe'] = ed[\"Margin of Error; Total: - Bachelor's degree\"].astype(int)\n",
    "ed['masters'] = ed[\"Estimate; Total: - Master's degree\"].astype(int)\n",
    "ed['masters_moe'] = ed[\"Margin of Error; Total: - Master's degree\"].astype(int)\n",
    "ed['professional'] = ed[\"Estimate; Total: - Professional school degree\"].astype(int)\n",
    "ed['professional_moe'] = ed[\"Margin of Error; Total: - Professional school degree\"].astype(int)\n",
    "ed['doctorate'] = ed[\"Estimate; Total: - Doctorate degree\"].astype(int)\n",
    "ed['doctorate_moe'] = ed[\"Margin of Error; Total: - Doctorate degree\"].astype(int)\n",
    "ed['at_least'] = ed['bachelors']+ed['masters']+ed['professional']+ed['doctorate']\n"
   ]
  },
  {
   "cell_type": "code",
   "execution_count": 21,
   "metadata": {
    "collapsed": false
   },
   "outputs": [],
   "source": [
    "#list moes to transform\n",
    "list = ['none_moe', 'prek_moe', 'k_moe', '1_moe', '2_moe', '3_moe',\n",
    "        '4_moe', '5_moe', '6_moe', '7_moe', '8_moe', '9_moe', '10_moe', \n",
    "        '11_moe', '12_moe', 'high_moe', 'ged_moe', 'somec_moe', \n",
    "               'somec2_moe', 'ass_moe', 'bachelors_moe', \n",
    "              'masters_moe', 'professional_moe', 'doctorate_moe', \n",
    "              'total_moe']\n",
    "\n",
    "#convert MOEs to 95% confidence level\n",
    "def convert(column):\n",
    "    return column*(1.96/1.645)\n",
    "\n",
    "#square columns\n",
    "def square(column):\n",
    "    return column**2\n",
    "\n",
    "for item in list:\n",
    "    ed[item] = convert(ed[item])\n",
    "    ed[item+'2']= square(ed[item])"
   ]
  },
  {
   "cell_type": "code",
   "execution_count": 22,
   "metadata": {
    "collapsed": true
   },
   "outputs": [],
   "source": [
    "#Highest completion columns\n",
    "ed['nhigh'] = ed['none'] + ed['prek'] + ed['k'] + ed['1'] + ed['2'] + ed['3'] + ed['4'] + ed['5'] + ed['6'] + ed['7'] + ed['8'] + ed['9'] + ed['10'] + ed['11'] + ed['12']\n",
    "ed['nhigh_moe'] = (ed['none_moe2'] + ed['prek_moe2'] + ed['k_moe2'] + ed['1_moe2'] + ed['2_moe2'] + ed['3_moe2'] + ed['4_moe2'] + ed['5_moe2'] + ed['6_moe2'] + ed['7_moe2'] + ed['8_moe2'] + ed['9_moe2'] + ed['10_moe2'] + ed['11_moe2'] + ed['12_moe2'])**(1/2) \n",
    "ed['nhigh_moe2'] = (ed['nhigh_moe'])**2\n",
    "\n",
    "ed['highc'] = ed['high'] + ed['ged'] + ed['somec'] + ed['somec2'] \n",
    "ed['highc_moe'] = (ed['high_moe2'] + ed['ged_moe2'] + ed['somec_moe2']+ ed['somec2_moe2'])**(1/2) \n",
    "ed['highc_moe2'] = (ed['highc_moe'])**2\n",
    "\n",
    "ed['pro'] = ed['ass']  + ed['professional'] \n",
    "ed['pro_moe'] = (ed['ass_moe2'] + ed['professional_moe2'])**(1/2) \n",
    "ed['pro_moe2'] = (ed['pro_moe'])**2\n",
    "\n",
    "ed['edu'] = ed['bachelors'] + ed['masters'] + ed['doctorate'] \n",
    "ed['edu_moe'] = (ed['masters_moe2'] + ed['doctorate_moe2'] + ed['bachelors_moe2'] )**(1/2) \n",
    "ed['edu_moe2'] = (ed['edu_moe'])**2"
   ]
  },
  {
   "cell_type": "code",
   "execution_count": 67,
   "metadata": {
    "collapsed": false
   },
   "outputs": [
    {
     "data": {
      "text/html": [
       "<div>\n",
       "<table border=\"1\" class=\"dataframe\">\n",
       "  <thead>\n",
       "    <tr style=\"text-align: right;\">\n",
       "      <th></th>\n",
       "      <th>high</th>\n",
       "      <th>ged</th>\n",
       "      <th>somec</th>\n",
       "      <th>somec2</th>\n",
       "      <th>ass</th>\n",
       "      <th>bachelors</th>\n",
       "      <th>masters</th>\n",
       "      <th>professional</th>\n",
       "      <th>doctorate</th>\n",
       "      <th>highc</th>\n",
       "    </tr>\n",
       "  </thead>\n",
       "  <tbody>\n",
       "    <tr>\n",
       "      <th>62</th>\n",
       "      <td>367</td>\n",
       "      <td>19</td>\n",
       "      <td>126</td>\n",
       "      <td>455</td>\n",
       "      <td>127</td>\n",
       "      <td>484</td>\n",
       "      <td>276</td>\n",
       "      <td>26</td>\n",
       "      <td>36</td>\n",
       "      <td>967</td>\n",
       "    </tr>\n",
       "    <tr>\n",
       "      <th>62</th>\n",
       "      <td>367</td>\n",
       "      <td>19</td>\n",
       "      <td>126</td>\n",
       "      <td>455</td>\n",
       "      <td>127</td>\n",
       "      <td>484</td>\n",
       "      <td>276</td>\n",
       "      <td>26</td>\n",
       "      <td>36</td>\n",
       "      <td>967</td>\n",
       "    </tr>\n",
       "  </tbody>\n",
       "</table>\n",
       "</div>"
      ],
      "text/plain": [
       "    high  ged  somec  somec2  ass  bachelors  masters  professional  \\\n",
       "62   367   19    126     455  127        484      276            26   \n",
       "62   367   19    126     455  127        484      276            26   \n",
       "\n",
       "    doctorate  highc  \n",
       "62         36    967  \n",
       "62         36    967  "
      ]
     },
     "execution_count": 67,
     "metadata": {},
     "output_type": "execute_result"
    }
   ],
   "source": [
    "#test code to check summation\n",
    "ed[ed['Id2'] == 6001406100][['high' , 'ged', 'somec','somec2',  'ass','bachelors', 'masters', 'professional', 'doctorate', 'highc']]"
   ]
  },
  {
   "cell_type": "code",
   "execution_count": 23,
   "metadata": {
    "collapsed": true
   },
   "outputs": [],
   "source": [
    "#list variables to include in sum\n",
    "eds = ['total', 'total_moe2', 'nhigh', 'nhigh_moe2', 'highc', 'highc_moe2', 'pro', 'pro_moe2', \n",
    "          'edu', 'edu_moe2']\n",
    "\n",
    "exed = ed.groupby('Fruitvale')[eds].sum()"
   ]
  },
  {
   "cell_type": "code",
   "execution_count": 24,
   "metadata": {
    "collapsed": false
   },
   "outputs": [],
   "source": [
    "#Create new MOEs after sum\n",
    "moe_list = ['total_moe2', 'nhigh_moe2', 'highc_moe2', 'pro_moe2', 'edu_moe2']\n",
    "\n",
    "def sq_root(column):\n",
    "    return column**(1/2)\n",
    "\n",
    "for item in moe_list:\n",
    "    exed[item.strip('2')] = sq_root(exed[item])"
   ]
  },
  {
   "cell_type": "code",
   "execution_count": 25,
   "metadata": {
    "collapsed": true
   },
   "outputs": [],
   "source": [
    "#Create Percentages\n",
    "pct_list = ['nhigh', 'highc', 'pro', 'edu']\n",
    "\n",
    "def pct(column):\n",
    "    return 100*(exed[column]/exed['total'])\n",
    "\n",
    "for item in pct_list:\n",
    "    exed['pct_'+item] = pct(item)"
   ]
  },
  {
   "cell_type": "code",
   "execution_count": 26,
   "metadata": {
    "collapsed": true
   },
   "outputs": [],
   "source": [
    "#Create New Proportions MOEs\n",
    "exed['pct_nhigh_moe'] = 100*(prop_MOE(exed['nhigh'], exed['total'], exed['nhigh_moe'], exed['total_moe']))\n",
    "exed['pct_highc_moe'] = 100*(prop_MOE(exed['highc'], exed['total'], exed['highc_moe'], exed['total_moe']))\n",
    "exed['pct_pro_moe'] = 100*(prop_MOE(exed['pro'], exed['total'], exed['pro_moe'], exed['total_moe']))\n",
    "exed['pct_edu_moe'] = 100*(prop_MOE(exed['edu'], exed['total'], exed['edu_moe'], exed['total_moe']))\n"
   ]
  },
  {
   "cell_type": "code",
   "execution_count": 27,
   "metadata": {
    "collapsed": false
   },
   "outputs": [],
   "source": [
    "#list data to include in export\n",
    "export = ['total', 'nhigh', 'highc', 'pro', 'edu', 'total_moe', 'nhigh_moe', 'highc_moe', 'pro_moe', 'edu_moe',\n",
    "         'pct_nhigh', 'pct_highc', 'pct_pro', 'pct_edu', 'pct_nhigh_moe', 'pct_highc_moe', 'pct_pro_moe',\n",
    "         'pct_edu_moe']\n",
    "\n",
    "exed = exed[export]\n",
    "\n",
    "#change everything to rounded percents\n",
    "exed = exed.round(2)"
   ]
  },
  {
   "cell_type": "code",
   "execution_count": 28,
   "metadata": {
    "collapsed": true
   },
   "outputs": [],
   "source": [
    "#export data to csv\n",
    "export_path = cwd+'/Output/python_output/ed_finalproject.csv'\n",
    "exed.to_csv(export_path)"
   ]
  },
  {
   "cell_type": "code",
   "execution_count": 74,
   "metadata": {
    "collapsed": true
   },
   "outputs": [],
   "source": [
    "##############################\n",
    "##Section 3: Industry\n",
    "##############################\n",
    "#Import data. \n",
    "ind = import_census(industry)"
   ]
  },
  {
   "cell_type": "code",
   "execution_count": null,
   "metadata": {
    "collapsed": false
   },
   "outputs": [],
   "source": [
    "ind.head()"
   ]
  },
  {
   "cell_type": "code",
   "execution_count": 76,
   "metadata": {
    "collapsed": true
   },
   "outputs": [],
   "source": [
    "#rename variables\n",
    "ind['total'] = ind[\"Estimate; Total:\"].astype(int)\n",
    "ind['total_moe'] = ind[\"Margin of Error; Total:\"].astype(int)\n",
    "ind['ag'] = ind[\"Estimate; Total: - Agriculture, forestry, fishing and hunting, and mining\"].astype(int)\n",
    "ind['ag_moe'] = ind[\"Margin of Error; Total: - Agriculture, forestry, fishing and hunting, and mining\"].astype(int)\n",
    "ind['const'] = ind[\"Estimate; Total: - Construction\"].astype(int)\n",
    "ind['const_moe'] = ind[\"Margin of Error; Total: - Construction\"].astype(int)\n",
    "ind['manu'] = ind[\"Estimate; Total: - Manufacturing\"].astype(int)\n",
    "ind['manu_moe'] = ind[\"Margin of Error; Total: - Manufacturing\"].astype(int)\n",
    "ind['wholesale'] = ind[\"Estimate; Total: - Wholesale trade\"].astype(int)\n",
    "ind['wholesale_moe'] = ind[\"Margin of Error; Total: - Wholesale trade\"].astype(int)\n",
    "ind['retail'] = ind[\"Estimate; Total: - Retail trade\"].astype(int)\n",
    "ind['retail_moe'] = ind[\"Margin of Error; Total: - Retail trade\"].astype(int)\n",
    "ind['trans'] = ind[\"Estimate; Total: - Transportation and warehousing, and utilities\"].astype(int)\n",
    "ind['trans_moe'] = ind[\"Margin of Error; Total: - Transportation and warehousing, and utilities\"].astype(int)\n",
    "ind['info'] = ind[\"Estimate; Total: - Information\"].astype(int)\n",
    "ind['info_moe'] = ind[\"Margin of Error; Total: - Information\"].astype(int)\n",
    "ind['fin'] = ind[\"Estimate; Total: - Finance and insurance, and real estate and rental and leasing\"].astype(int)\n",
    "ind['fin_moe'] = ind[\"Margin of Error; Total: - Finance and insurance, and real estate and rental and leasing\"].astype(int)\n",
    "ind['pro'] = ind[\"Estimate; Total: - Professional, scientific, and management, and administrative and waste management services\"].astype(int)\n",
    "ind['pro_moe'] = ind[\"Margin of Error; Total: - Professional, scientific, and management, and administrative and waste management services\"].astype(int)\n",
    "ind['ed'] = ind[\"Estimate; Total: - Educational services, and health care and social assistance\"].astype(int)\n",
    "ind['ed_moe'] = ind[\"Margin of Error; Total: - Educational services, and health care and social assistance\"].astype(int)\n",
    "ind['art'] = ind[\"Estimate; Total: - Arts, entertainment, and recreation, and accommodation and food services\"].astype(int)\n",
    "ind['art_moe'] = ind[\"Margin of Error; Total: - Arts, entertainment, and recreation, and accommodation and food services\"].astype(int)\n",
    "ind['oth'] = ind[\"Estimate; Total: - Other services (except public administration)\"].astype(int)\n",
    "ind['oth_moe'] = ind[\"Margin of Error; Total: - Other services (except public administration)\"].astype(int)\n",
    "ind['pub'] = ind[\"Estimate; Total: - Public administration\"].astype(int)\n",
    "ind['pub_moe'] = ind[\"Margin of Error; Total: - Public administration\"].astype(int)\n",
    "ind['arm'] = ind[\"Estimate; Total: - Armed forces\"].astype(int)\n",
    "ind['arm_moe'] = ind[\"Margin of Error; Total: - Armed forces\"].astype(int)\n"
   ]
  },
  {
   "cell_type": "code",
   "execution_count": 77,
   "metadata": {
    "collapsed": true
   },
   "outputs": [],
   "source": [
    "#list moes to transform\n",
    "list = ['total_moe', 'ag_moe', 'const_moe', \n",
    "               'manu_moe', 'wholesale_moe', 'retail_moe', \n",
    "              'trans_moe', 'info_moe', 'fin_moe', \n",
    "              'pro_moe', 'ed_moe', 'art_moe', 'oth_moe', \n",
    "               'pub_moe', 'arm_moe']\n",
    "\n",
    "\n",
    "#convert MOEs to 95% confidence level\n",
    "def convert(column):\n",
    "    return column*(1.96/1.645)\n",
    "\n",
    "#square columns\n",
    "def square(column):\n",
    "    return column**2\n",
    "\n",
    "for item in list:\n",
    "    ind[item] = convert(ind[item])\n",
    "    ind[item+'2']= square(ind[item])"
   ]
  },
  {
   "cell_type": "code",
   "execution_count": 78,
   "metadata": {
    "collapsed": false
   },
   "outputs": [],
   "source": [
    "#list values to collapse\n",
    "inds = ['total', 'total_moe2','ag', 'ag_moe2', 'const', 'const_moe2', \n",
    "               'manu', 'manu_moe2', 'wholesale', 'wholesale_moe2', 'retail', 'retail_moe2', \n",
    "              'trans', 'trans_moe2', 'info', 'info_moe2', 'fin', 'fin_moe2', \n",
    "              'pro', 'pro_moe2', 'ed', 'ed_moe2', 'art', 'art_moe2', 'oth', 'oth_moe2', \n",
    "               'pub', 'pub_moe2', 'arm', 'arm_moe2']\n",
    "\n",
    "exind = ind.groupby('Fruitvale')[inds].sum()"
   ]
  },
  {
   "cell_type": "code",
   "execution_count": 79,
   "metadata": {
    "collapsed": true
   },
   "outputs": [],
   "source": [
    "#Create new MOEs after sum\n",
    "moe_list = ['total_moe2','ag_moe2', 'const_moe2', \n",
    "              'manu_moe2',  'wholesale_moe2', 'retail_moe2', \n",
    "              'trans_moe2', 'info_moe2', 'fin_moe2', \n",
    "              'pro_moe2',  'ed_moe2',  'art_moe2', 'oth_moe2', \n",
    "               'pub_moe2', 'arm_moe2']\n",
    "\n",
    "def sq_root(column):\n",
    "    return column**(1/2)\n",
    "\n",
    "for item in moe_list:\n",
    "    exind[item.strip('2')] = sq_root(exind[item])"
   ]
  },
  {
   "cell_type": "code",
   "execution_count": 80,
   "metadata": {
    "collapsed": true
   },
   "outputs": [],
   "source": [
    "#Create Percentages\n",
    "pct_list = ['ag', 'const', \n",
    "               'manu',  'wholesale',  'retail', \n",
    "              'trans', 'info',  'fin', \n",
    "              'pro',  'ed',  'art', 'oth', \n",
    "               'pub', 'arm']\n",
    "\n",
    "def pct(column):\n",
    "    return 100*(exind[column]/exind['total'])\n",
    "\n",
    "for item in pct_list:\n",
    "    exind['pct_'+item] = pct(item)"
   ]
  },
  {
   "cell_type": "code",
   "execution_count": 81,
   "metadata": {
    "collapsed": true
   },
   "outputs": [],
   "source": [
    "#Create New Proportions MOEs\n",
    "for item in pct_list:\n",
    "    exind['pct_'+item+'_moe'] = 100*(prop_MOE(exind[item], exind['total'], exind[item+'_moe'], exind['total_moe']))\n"
   ]
  },
  {
   "cell_type": "code",
   "execution_count": 82,
   "metadata": {
    "collapsed": false
   },
   "outputs": [
    {
     "data": {
      "text/html": [
       "<div>\n",
       "<table border=\"1\" class=\"dataframe\">\n",
       "  <thead>\n",
       "    <tr style=\"text-align: right;\">\n",
       "      <th></th>\n",
       "      <th>total</th>\n",
       "      <th>total_moe2</th>\n",
       "      <th>ag</th>\n",
       "      <th>ag_moe2</th>\n",
       "      <th>const</th>\n",
       "      <th>const_moe2</th>\n",
       "      <th>manu</th>\n",
       "      <th>manu_moe2</th>\n",
       "      <th>wholesale</th>\n",
       "      <th>wholesale_moe2</th>\n",
       "      <th>...</th>\n",
       "      <th>pct_retail_moe</th>\n",
       "      <th>pct_trans_moe</th>\n",
       "      <th>pct_info_moe</th>\n",
       "      <th>pct_fin_moe</th>\n",
       "      <th>pct_pro_moe</th>\n",
       "      <th>pct_ed_moe</th>\n",
       "      <th>pct_art_moe</th>\n",
       "      <th>pct_oth_moe</th>\n",
       "      <th>pct_pub_moe</th>\n",
       "      <th>pct_arm_moe</th>\n",
       "    </tr>\n",
       "    <tr>\n",
       "      <th>Fruitvale</th>\n",
       "      <th></th>\n",
       "      <th></th>\n",
       "      <th></th>\n",
       "      <th></th>\n",
       "      <th></th>\n",
       "      <th></th>\n",
       "      <th></th>\n",
       "      <th></th>\n",
       "      <th></th>\n",
       "      <th></th>\n",
       "      <th></th>\n",
       "      <th></th>\n",
       "      <th></th>\n",
       "      <th></th>\n",
       "      <th></th>\n",
       "      <th></th>\n",
       "      <th></th>\n",
       "      <th></th>\n",
       "      <th></th>\n",
       "      <th></th>\n",
       "      <th></th>\n",
       "    </tr>\n",
       "  </thead>\n",
       "  <tbody>\n",
       "    <tr>\n",
       "      <th>False</th>\n",
       "      <td>701525</td>\n",
       "      <td>3.399327e+07</td>\n",
       "      <td>2669</td>\n",
       "      <td>276392.474423</td>\n",
       "      <td>34196</td>\n",
       "      <td>2.550498e+06</td>\n",
       "      <td>73742</td>\n",
       "      <td>5.000255e+06</td>\n",
       "      <td>19966</td>\n",
       "      <td>1.455984e+06</td>\n",
       "      <td>...</td>\n",
       "      <td>0.317748</td>\n",
       "      <td>0.227174</td>\n",
       "      <td>0.164647</td>\n",
       "      <td>0.238324</td>\n",
       "      <td>0.365931</td>\n",
       "      <td>0.416676</td>\n",
       "      <td>0.335296</td>\n",
       "      <td>0.231793</td>\n",
       "      <td>0.187305</td>\n",
       "      <td>0.064199</td>\n",
       "    </tr>\n",
       "    <tr>\n",
       "      <th>True</th>\n",
       "      <td>22470</td>\n",
       "      <td>1.883471e+06</td>\n",
       "      <td>150</td>\n",
       "      <td>9768.590312</td>\n",
       "      <td>2725</td>\n",
       "      <td>3.257607e+05</td>\n",
       "      <td>1652</td>\n",
       "      <td>1.620555e+05</td>\n",
       "      <td>532</td>\n",
       "      <td>3.613569e+04</td>\n",
       "      <td>...</td>\n",
       "      <td>1.761568</td>\n",
       "      <td>0.978333</td>\n",
       "      <td>0.589604</td>\n",
       "      <td>1.132159</td>\n",
       "      <td>1.882084</td>\n",
       "      <td>2.310414</td>\n",
       "      <td>2.473065</td>\n",
       "      <td>1.509837</td>\n",
       "      <td>0.754995</td>\n",
       "      <td>0.246603</td>\n",
       "    </tr>\n",
       "  </tbody>\n",
       "</table>\n",
       "<p>2 rows × 73 columns</p>\n",
       "</div>"
      ],
      "text/plain": [
       "            total    total_moe2    ag        ag_moe2  const    const_moe2  \\\n",
       "Fruitvale                                                                   \n",
       "False      701525  3.399327e+07  2669  276392.474423  34196  2.550498e+06   \n",
       "True        22470  1.883471e+06   150    9768.590312   2725  3.257607e+05   \n",
       "\n",
       "            manu     manu_moe2  wholesale  wholesale_moe2     ...       \\\n",
       "Fruitvale                                                     ...        \n",
       "False      73742  5.000255e+06      19966    1.455984e+06     ...        \n",
       "True        1652  1.620555e+05        532    3.613569e+04     ...        \n",
       "\n",
       "           pct_retail_moe  pct_trans_moe  pct_info_moe  pct_fin_moe  \\\n",
       "Fruitvale                                                             \n",
       "False            0.317748       0.227174      0.164647     0.238324   \n",
       "True             1.761568       0.978333      0.589604     1.132159   \n",
       "\n",
       "           pct_pro_moe  pct_ed_moe  pct_art_moe  pct_oth_moe  pct_pub_moe  \\\n",
       "Fruitvale                                                                   \n",
       "False         0.365931    0.416676     0.335296     0.231793     0.187305   \n",
       "True          1.882084    2.310414     2.473065     1.509837     0.754995   \n",
       "\n",
       "           pct_arm_moe  \n",
       "Fruitvale               \n",
       "False         0.064199  \n",
       "True          0.246603  \n",
       "\n",
       "[2 rows x 73 columns]"
      ]
     },
     "execution_count": 82,
     "metadata": {},
     "output_type": "execute_result"
    }
   ],
   "source": [
    "exind.head()"
   ]
  },
  {
   "cell_type": "code",
   "execution_count": 83,
   "metadata": {
    "collapsed": true
   },
   "outputs": [],
   "source": [
    "#list data to include in export\n",
    "export = ['pct_ag', 'pct_const', \n",
    "               'pct_manu', 'pct_trans', 'pct_wholesale',  'pct_retail',  \n",
    "                'pct_info', 'pct_fin', \n",
    "              'pct_pro',  'pct_ed',  'pct_art',  'pct_oth',  \n",
    "               'pct_pub',  'pct_arm', 'pct_ag_moe', 'pct_const_moe', 'pct_manu_moe',\n",
    "             'pct_trans_moe', 'pct_wholesale_moe', 'pct_retail_moe', 'pct_info_moe', \n",
    "          'pct_fin_moe', 'pct_pro_moe', 'pct_ed_moe', 'pct_art_moe', 'pct_oth_moe', \n",
    "          'pct_pub_moe', 'pct_arm_moe', 'ag', 'const', \n",
    "               'manu',  'wholesale',  'retail', \n",
    "              'trans', 'info',  'fin', \n",
    "              'pro',  'ed',  'art', 'oth', \n",
    "               'pub', 'arm',]\n",
    "\n",
    "exind = exind[export]\n",
    "\n",
    "#change everything to rounded percents\n",
    "exind = exind.round(2)"
   ]
  },
  {
   "cell_type": "code",
   "execution_count": 84,
   "metadata": {
    "collapsed": true
   },
   "outputs": [],
   "source": [
    "#export data to csv\n",
    "export_path = cwd+'/Output/python_output/id_finalproject.csv'\n",
    "exind.to_csv(export_path)"
   ]
  },
  {
   "cell_type": "code",
   "execution_count": null,
   "metadata": {
    "collapsed": true
   },
   "outputs": [],
   "source": []
  }
 ],
 "metadata": {
  "anaconda-cloud": {},
  "kernelspec": {
   "display_name": "Python [Root]",
   "language": "python",
   "name": "Python [Root]"
  },
  "language_info": {
   "codemirror_mode": {
    "name": "ipython",
    "version": 3
   },
   "file_extension": ".py",
   "mimetype": "text/x-python",
   "name": "python",
   "nbconvert_exporter": "python",
   "pygments_lexer": "ipython3",
   "version": "3.5.2"
  }
 },
 "nbformat": 4,
 "nbformat_minor": 0
}
