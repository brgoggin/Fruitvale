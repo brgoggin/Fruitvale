{
 "cells": [
  {
   "cell_type": "markdown",
   "metadata": {},
   "source": [
    "# Table 3\n",
    "This notebook produces the data for \"Table 3. Average Number of Jobs Accessible via Transit\" in the paper. "
   ]
  },
  {
   "cell_type": "code",
   "execution_count": 1,
   "metadata": {
    "collapsed": false
   },
   "outputs": [],
   "source": [
    "#Import packages\n",
    "import pandas as pd\n",
    "import matplotlib as mpl\n",
    "#import matplotlib.pyplot as plt\n",
    "import numpy as np\n",
    "import math\n",
    "import os\n",
    "pd.options.mode.chained_assignment = None #gets rid of warning for chained alterations"
   ]
  },
  {
   "cell_type": "code",
   "execution_count": 2,
   "metadata": {
    "collapsed": true
   },
   "outputs": [],
   "source": [
    "#set directories\n",
    "os.chdir(\"/Users/briangoggin/Dropbox/CP 201A/Fruitvale\")\n",
    "cwd = os.getcwd()\n",
    "root = cwd #root is directory to raw files"
   ]
  },
  {
   "cell_type": "markdown",
   "metadata": {},
   "source": [
    "# Section 1. Accessibility Table"
   ]
  },
  {
   "cell_type": "code",
   "execution_count": 3,
   "metadata": {
    "collapsed": false
   },
   "outputs": [],
   "source": [
    "#import data\n",
    "input_data = root+\"/Output/fulltransit_26minute_accessibility.csv\"\n",
    "df = pd.read_csv(input_data)"
   ]
  },
  {
   "cell_type": "code",
   "execution_count": 4,
   "metadata": {
    "collapsed": false
   },
   "outputs": [
    {
     "data": {
      "text/html": [
       "<div>\n",
       "<table border=\"1\" class=\"dataframe\">\n",
       "  <thead>\n",
       "    <tr style=\"text-align: right;\">\n",
       "      <th></th>\n",
       "      <th>high_jobs_26</th>\n",
       "      <th>low_jobs_26</th>\n",
       "      <th>middle_jobs_26</th>\n",
       "      <th>total_jobs_26</th>\n",
       "      <th>block_id</th>\n",
       "    </tr>\n",
       "  </thead>\n",
       "  <tbody>\n",
       "    <tr>\n",
       "      <th>0</th>\n",
       "      <td>22</td>\n",
       "      <td>16</td>\n",
       "      <td>7</td>\n",
       "      <td>45</td>\n",
       "      <td>60014001001007</td>\n",
       "    </tr>\n",
       "    <tr>\n",
       "      <th>1</th>\n",
       "      <td>18</td>\n",
       "      <td>3</td>\n",
       "      <td>5</td>\n",
       "      <td>26</td>\n",
       "      <td>60014001001008</td>\n",
       "    </tr>\n",
       "    <tr>\n",
       "      <th>2</th>\n",
       "      <td>28</td>\n",
       "      <td>16</td>\n",
       "      <td>8</td>\n",
       "      <td>52</td>\n",
       "      <td>60014001001017</td>\n",
       "    </tr>\n",
       "    <tr>\n",
       "      <th>3</th>\n",
       "      <td>7</td>\n",
       "      <td>9</td>\n",
       "      <td>6</td>\n",
       "      <td>22</td>\n",
       "      <td>60014001001024</td>\n",
       "    </tr>\n",
       "    <tr>\n",
       "      <th>4</th>\n",
       "      <td>24</td>\n",
       "      <td>19</td>\n",
       "      <td>19</td>\n",
       "      <td>62</td>\n",
       "      <td>60014001001026</td>\n",
       "    </tr>\n",
       "  </tbody>\n",
       "</table>\n",
       "</div>"
      ],
      "text/plain": [
       "   high_jobs_26  low_jobs_26  middle_jobs_26  total_jobs_26        block_id\n",
       "0            22           16               7             45  60014001001007\n",
       "1            18            3               5             26  60014001001008\n",
       "2            28           16               8             52  60014001001017\n",
       "3             7            9               6             22  60014001001024\n",
       "4            24           19              19             62  60014001001026"
      ]
     },
     "execution_count": 4,
     "metadata": {},
     "output_type": "execute_result"
    }
   ],
   "source": [
    "#Drop unneeded variables\n",
    "list = ['high_jobs_26', 'low_jobs_26', 'middle_jobs_26', 'total_jobs_26', 'block_id']\n",
    "df = df[list]\n",
    "df.head()"
   ]
  },
  {
   "cell_type": "code",
   "execution_count": 5,
   "metadata": {
    "collapsed": false
   },
   "outputs": [
    {
     "data": {
      "text/html": [
       "<div>\n",
       "<table border=\"1\" class=\"dataframe\">\n",
       "  <thead>\n",
       "    <tr style=\"text-align: right;\">\n",
       "      <th></th>\n",
       "      <th>high_jobs_26</th>\n",
       "      <th>low_jobs_26</th>\n",
       "      <th>middle_jobs_26</th>\n",
       "      <th>total_jobs_26</th>\n",
       "      <th>block_id</th>\n",
       "      <th>tract</th>\n",
       "      <th>Fruitvale</th>\n",
       "    </tr>\n",
       "  </thead>\n",
       "  <tbody>\n",
       "    <tr>\n",
       "      <th>0</th>\n",
       "      <td>22</td>\n",
       "      <td>16</td>\n",
       "      <td>7</td>\n",
       "      <td>45</td>\n",
       "      <td>60014001001007</td>\n",
       "      <td>6001400100</td>\n",
       "      <td>False</td>\n",
       "    </tr>\n",
       "    <tr>\n",
       "      <th>1</th>\n",
       "      <td>18</td>\n",
       "      <td>3</td>\n",
       "      <td>5</td>\n",
       "      <td>26</td>\n",
       "      <td>60014001001008</td>\n",
       "      <td>6001400100</td>\n",
       "      <td>False</td>\n",
       "    </tr>\n",
       "    <tr>\n",
       "      <th>2</th>\n",
       "      <td>28</td>\n",
       "      <td>16</td>\n",
       "      <td>8</td>\n",
       "      <td>52</td>\n",
       "      <td>60014001001017</td>\n",
       "      <td>6001400100</td>\n",
       "      <td>False</td>\n",
       "    </tr>\n",
       "    <tr>\n",
       "      <th>3</th>\n",
       "      <td>7</td>\n",
       "      <td>9</td>\n",
       "      <td>6</td>\n",
       "      <td>22</td>\n",
       "      <td>60014001001024</td>\n",
       "      <td>6001400100</td>\n",
       "      <td>False</td>\n",
       "    </tr>\n",
       "    <tr>\n",
       "      <th>4</th>\n",
       "      <td>24</td>\n",
       "      <td>19</td>\n",
       "      <td>19</td>\n",
       "      <td>62</td>\n",
       "      <td>60014001001026</td>\n",
       "      <td>6001400100</td>\n",
       "      <td>False</td>\n",
       "    </tr>\n",
       "  </tbody>\n",
       "</table>\n",
       "</div>"
      ],
      "text/plain": [
       "   high_jobs_26  low_jobs_26  middle_jobs_26  total_jobs_26        block_id  \\\n",
       "0            22           16               7             45  60014001001007   \n",
       "1            18            3               5             26  60014001001008   \n",
       "2            28           16               8             52  60014001001017   \n",
       "3             7            9               6             22  60014001001024   \n",
       "4            24           19              19             62  60014001001026   \n",
       "\n",
       "        tract Fruitvale  \n",
       "0  6001400100     False  \n",
       "1  6001400100     False  \n",
       "2  6001400100     False  \n",
       "3  6001400100     False  \n",
       "4  6001400100     False  "
      ]
     },
     "execution_count": 5,
     "metadata": {},
     "output_type": "execute_result"
    }
   ],
   "source": [
    "Fruitvale = [6001406100, 6001406201, 6001406202, 6001406300, 6001406500, 6001407101, 6001407102, 6001407200, 6001407300, 6001407400, 6001407500, 6001407600]\n",
    "df['tract'] = df['block_id'].astype(str).str[0:10]\n",
    "df['Fruitvale'] = df['tract'].astype(int).isin(Fruitvale)\n",
    "df.head()"
   ]
  },
  {
   "cell_type": "code",
   "execution_count": 6,
   "metadata": {
    "collapsed": false
   },
   "outputs": [
    {
     "data": {
      "text/html": [
       "<div>\n",
       "<table border=\"1\" class=\"dataframe\">\n",
       "  <thead>\n",
       "    <tr style=\"text-align: right;\">\n",
       "      <th></th>\n",
       "      <th>high_jobs_26</th>\n",
       "      <th>low_jobs_26</th>\n",
       "      <th>middle_jobs_26</th>\n",
       "      <th>total_jobs_26</th>\n",
       "      <th>block_id</th>\n",
       "      <th>tract</th>\n",
       "      <th>Fruitvale</th>\n",
       "    </tr>\n",
       "  </thead>\n",
       "  <tbody>\n",
       "    <tr>\n",
       "      <th>0</th>\n",
       "      <td>22</td>\n",
       "      <td>16</td>\n",
       "      <td>7</td>\n",
       "      <td>45</td>\n",
       "      <td>60014001001007</td>\n",
       "      <td>6001400100</td>\n",
       "      <td>False</td>\n",
       "    </tr>\n",
       "    <tr>\n",
       "      <th>1</th>\n",
       "      <td>18</td>\n",
       "      <td>3</td>\n",
       "      <td>5</td>\n",
       "      <td>26</td>\n",
       "      <td>60014001001008</td>\n",
       "      <td>6001400100</td>\n",
       "      <td>False</td>\n",
       "    </tr>\n",
       "    <tr>\n",
       "      <th>2</th>\n",
       "      <td>28</td>\n",
       "      <td>16</td>\n",
       "      <td>8</td>\n",
       "      <td>52</td>\n",
       "      <td>60014001001017</td>\n",
       "      <td>6001400100</td>\n",
       "      <td>False</td>\n",
       "    </tr>\n",
       "    <tr>\n",
       "      <th>3</th>\n",
       "      <td>7</td>\n",
       "      <td>9</td>\n",
       "      <td>6</td>\n",
       "      <td>22</td>\n",
       "      <td>60014001001024</td>\n",
       "      <td>6001400100</td>\n",
       "      <td>False</td>\n",
       "    </tr>\n",
       "    <tr>\n",
       "      <th>4</th>\n",
       "      <td>24</td>\n",
       "      <td>19</td>\n",
       "      <td>19</td>\n",
       "      <td>62</td>\n",
       "      <td>60014001001026</td>\n",
       "      <td>6001400100</td>\n",
       "      <td>False</td>\n",
       "    </tr>\n",
       "  </tbody>\n",
       "</table>\n",
       "</div>"
      ],
      "text/plain": [
       "   high_jobs_26  low_jobs_26  middle_jobs_26  total_jobs_26        block_id  \\\n",
       "0            22           16               7             45  60014001001007   \n",
       "1            18            3               5             26  60014001001008   \n",
       "2            28           16               8             52  60014001001017   \n",
       "3             7            9               6             22  60014001001024   \n",
       "4            24           19              19             62  60014001001026   \n",
       "\n",
       "        tract Fruitvale  \n",
       "0  6001400100     False  \n",
       "1  6001400100     False  \n",
       "2  6001400100     False  \n",
       "3  6001400100     False  \n",
       "4  6001400100     False  "
      ]
     },
     "execution_count": 6,
     "metadata": {},
     "output_type": "execute_result"
    }
   ],
   "source": [
    "#add duplicate observations for Fruitvale before collapsing to the average\n",
    "df2 = df[df['Fruitvale']==True]\n",
    "df2['Fruitvale'] = False\n",
    "df = df.append(df2)\n",
    "df.head()"
   ]
  },
  {
   "cell_type": "code",
   "execution_count": 7,
   "metadata": {
    "collapsed": false
   },
   "outputs": [
    {
     "data": {
      "text/html": [
       "<div>\n",
       "<table border=\"1\" class=\"dataframe\">\n",
       "  <thead>\n",
       "    <tr style=\"text-align: right;\">\n",
       "      <th></th>\n",
       "      <th>high_jobs_26</th>\n",
       "      <th>low_jobs_26</th>\n",
       "      <th>middle_jobs_26</th>\n",
       "      <th>total_jobs_26</th>\n",
       "      <th>block_id</th>\n",
       "      <th>tract</th>\n",
       "      <th>Fruitvale</th>\n",
       "    </tr>\n",
       "  </thead>\n",
       "  <tbody>\n",
       "    <tr>\n",
       "      <th>2039</th>\n",
       "      <td>140798</td>\n",
       "      <td>62501</td>\n",
       "      <td>80575</td>\n",
       "      <td>283874</td>\n",
       "      <td>60014063001000</td>\n",
       "      <td>6001406300</td>\n",
       "      <td>True</td>\n",
       "    </tr>\n",
       "    <tr>\n",
       "      <th>2039</th>\n",
       "      <td>140798</td>\n",
       "      <td>62501</td>\n",
       "      <td>80575</td>\n",
       "      <td>283874</td>\n",
       "      <td>60014063001000</td>\n",
       "      <td>6001406300</td>\n",
       "      <td>False</td>\n",
       "    </tr>\n",
       "  </tbody>\n",
       "</table>\n",
       "</div>"
      ],
      "text/plain": [
       "      high_jobs_26  low_jobs_26  middle_jobs_26  total_jobs_26  \\\n",
       "2039        140798        62501           80575         283874   \n",
       "2039        140798        62501           80575         283874   \n",
       "\n",
       "            block_id       tract Fruitvale  \n",
       "2039  60014063001000  6001406300      True  \n",
       "2039  60014063001000  6001406300     False  "
      ]
     },
     "execution_count": 7,
     "metadata": {},
     "output_type": "execute_result"
    }
   ],
   "source": [
    "#test to make sure Fruitvale Duplicates were added\n",
    "df[df['block_id'] == 60014063001000]"
   ]
  },
  {
   "cell_type": "code",
   "execution_count": 8,
   "metadata": {
    "collapsed": false
   },
   "outputs": [
    {
     "data": {
      "text/html": [
       "<div>\n",
       "<table border=\"1\" class=\"dataframe\">\n",
       "  <thead>\n",
       "    <tr style=\"text-align: right;\">\n",
       "      <th></th>\n",
       "      <th>total_jobs_26</th>\n",
       "      <th>high_jobs_26</th>\n",
       "      <th>middle_jobs_26</th>\n",
       "      <th>low_jobs_26</th>\n",
       "    </tr>\n",
       "    <tr>\n",
       "      <th>Fruitvale</th>\n",
       "      <th></th>\n",
       "      <th></th>\n",
       "      <th></th>\n",
       "      <th></th>\n",
       "    </tr>\n",
       "  </thead>\n",
       "  <tbody>\n",
       "    <tr>\n",
       "      <th>False</th>\n",
       "      <td>169290</td>\n",
       "      <td>84194</td>\n",
       "      <td>47931</td>\n",
       "      <td>37164</td>\n",
       "    </tr>\n",
       "    <tr>\n",
       "      <th>True</th>\n",
       "      <td>245818</td>\n",
       "      <td>121979</td>\n",
       "      <td>69648</td>\n",
       "      <td>54191</td>\n",
       "    </tr>\n",
       "  </tbody>\n",
       "</table>\n",
       "</div>"
      ],
      "text/plain": [
       "           total_jobs_26  high_jobs_26  middle_jobs_26  low_jobs_26\n",
       "Fruitvale                                                          \n",
       "False             169290         84194           47931        37164\n",
       "True              245818        121979           69648        54191"
      ]
     },
     "execution_count": 8,
     "metadata": {},
     "output_type": "execute_result"
    }
   ],
   "source": [
    "varlist =[ 'total_jobs_26','high_jobs_26','middle_jobs_26', 'low_jobs_26']\n",
    "exdf = df.groupby(['Fruitvale'])[varlist].mean()\n",
    "exdf.head()"
   ]
  },
  {
   "cell_type": "code",
   "execution_count": 9,
   "metadata": {
    "collapsed": true
   },
   "outputs": [],
   "source": [
    "#Reorder, Reshape, and export data\n",
    "exdf = exdf.transpose()\n",
    "export_path = root+\"/Output/python_output\"\n",
    "exdf.to_csv(export_path+\"/acc_comparison_full.csv\")"
   ]
  }
 ],
 "metadata": {
  "anaconda-cloud": {},
  "kernelspec": {
   "display_name": "Python [Root]",
   "language": "python",
   "name": "Python [Root]"
  },
  "language_info": {
   "codemirror_mode": {
    "name": "ipython",
    "version": 3
   },
   "file_extension": ".py",
   "mimetype": "text/x-python",
   "name": "python",
   "nbconvert_exporter": "python",
   "pygments_lexer": "ipython3",
   "version": "3.5.2"
  }
 },
 "nbformat": 4,
 "nbformat_minor": 0
}
