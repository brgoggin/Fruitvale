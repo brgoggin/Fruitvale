{
 "cells": [
  {
   "cell_type": "markdown",
   "metadata": {},
   "source": [
    "# Table 1\n",
    "This file produces the results from \"Table 1. Poverty in Fruitvale\". "
   ]
  },
  {
   "cell_type": "code",
   "execution_count": 4,
   "metadata": {
    "collapsed": true
   },
   "outputs": [],
   "source": [
    "#Import packages\n",
    "import pandas as pd\n",
    "import matplotlib as mpl\n",
    "import numpy as np\n",
    "import math\n",
    "import os\n",
    "pd.options.mode.chained_assignment = None #gets rid of warning for chained alterations"
   ]
  },
  {
   "cell_type": "code",
   "execution_count": 5,
   "metadata": {
    "collapsed": true
   },
   "outputs": [],
   "source": [
    "#set directories\n",
    "os.chdir(\"/Users/briangoggin/Dropbox/CP 201A/Fruitvale\")\n",
    "cwd = os.getcwd()\n",
    "root = cwd #root is directory to raw files"
   ]
  },
  {
   "cell_type": "code",
   "execution_count": 6,
   "metadata": {
    "collapsed": false
   },
   "outputs": [],
   "source": [
    "#set input data source\n",
    "poverty = root+\"/Raw Data/ACS_14_5YR_B17001_with_ann.csv\" \n"
   ]
  },
  {
   "cell_type": "code",
   "execution_count": 7,
   "metadata": {
    "collapsed": true
   },
   "outputs": [],
   "source": [
    "#identify Fruitvale Census Tracts\n",
    "Fruitvale = [6001406100, 6001406201, 6001406202, 6001406300, 6001406500, 6001407101, 6001407102, 6001407200, 6001407300, 6001407400, 6001407500, 6001407600]\n"
   ]
  },
  {
   "cell_type": "code",
   "execution_count": 8,
   "metadata": {
    "collapsed": true
   },
   "outputs": [],
   "source": [
    "#Define function for import and standard ACS cleaning operations\n",
    "def import_census(file):\n",
    "    df = pd.read_csv(file, header = 1)\n",
    "    df['Fruitvale'] = df['Id2'].isin(Fruitvale)\n",
    "    #the following 5 lines create duplicate observations of Fruitvale to include them in county averages\n",
    "    df2 = df[df['Fruitvale'] == True]\n",
    "    df2.drop('Fruitvale', axis = 1)\n",
    "    df2.is_copy = False\n",
    "    df2['Fruitvale'] = False\n",
    "    df = df.append(df2)\n",
    "    return df\n",
    "\n",
    "#Define function for proportions MOE\n",
    "def prop_MOE(numerator, denominator, num_moe, den_moe):\n",
    "    return ((num_moe**2 - (((numerator/denominator)**2)*(den_moe**2))))**(1/2)/denominator"
   ]
  },
  {
   "cell_type": "code",
   "execution_count": 9,
   "metadata": {
    "collapsed": true
   },
   "outputs": [],
   "source": [
    "#import data\n",
    "pov = import_census(poverty)"
   ]
  },
  {
   "cell_type": "code",
   "execution_count": 10,
   "metadata": {
    "collapsed": true
   },
   "outputs": [],
   "source": [
    "#rename variables\n",
    "pov['total'] = pov[\"Estimate; Total:\"].astype(int)\n",
    "pov['total_moe'] = pov[\"Margin of Error; Total:\"].astype(int)\n",
    "pov['poor'] = pov[\"Estimate; Income in the past 12 months below poverty level:\"].astype(int)\n",
    "pov['poor_moe'] = pov[\"Margin of Error; Income in the past 12 months below poverty level:\"].astype(int)\n",
    "\n",
    "#convert MOEs to 95% confidence interval\n",
    "pov['total_moe'] = pov['total_moe']*(1.96/1.645)\n",
    "pov['poor_moe'] = pov['poor_moe']*(1.96/1.645)\n",
    "\n",
    "#prepare variables for collapse\n",
    "pov['total_moe2'] = pov['total_moe']**2\n",
    "pov['poor_moe2'] = pov['poor_moe']**2"
   ]
  },
  {
   "cell_type": "code",
   "execution_count": 11,
   "metadata": {
    "collapsed": true
   },
   "outputs": [],
   "source": [
    "#sum data\n",
    "sumvars = ['total', 'total_moe2', 'poor', 'poor_moe2']\n",
    "pov_sum = pov.groupby('Fruitvale')[sumvars].sum()\n",
    "pov_sum['total_moe'] = pov_sum['total_moe2']**(1/2)\n",
    "pov_sum['poor_moe'] = pov_sum['poor_moe2']**(1/2)\n",
    "pov_sum['pct_poor'] = (pov_sum['poor']/pov_sum['total'])\n",
    "pov_sum['pct_poor_moe'] = prop_MOE(pov_sum['poor'], pov_sum['total'],  pov_sum['poor_moe'], pov_sum['total_moe'])"
   ]
  },
  {
   "cell_type": "code",
   "execution_count": 12,
   "metadata": {
    "collapsed": true
   },
   "outputs": [],
   "source": [
    "#final cleaning\n",
    "pov_sum = pov_sum.round(4)\n",
    "pov_sum['pct_poor'] = 100*pov_sum['pct_poor']\n",
    "pov_sum['pct_poor_moe'] = 100*pov_sum['pct_poor_moe']\n"
   ]
  },
  {
   "cell_type": "code",
   "execution_count": 13,
   "metadata": {
    "collapsed": true
   },
   "outputs": [],
   "source": [
    "# Export file for table creation \n",
    "export_path = cwd+'/Output/python_output/pov_finalproject.csv'\n",
    "pov_sum.to_csv(export_path)"
   ]
  }
 ],
 "metadata": {
  "anaconda-cloud": {},
  "kernelspec": {
   "display_name": "Python [Root]",
   "language": "python",
   "name": "Python [Root]"
  },
  "language_info": {
   "codemirror_mode": {
    "name": "ipython",
    "version": 3
   },
   "file_extension": ".py",
   "mimetype": "text/x-python",
   "name": "python",
   "nbconvert_exporter": "python",
   "pygments_lexer": "ipython3",
   "version": "3.5.2"
  }
 },
 "nbformat": 4,
 "nbformat_minor": 0
}
