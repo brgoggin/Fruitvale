{
 "cells": [
  {
   "cell_type": "markdown",
   "metadata": {},
   "source": [
    "# Table 2\n",
    "This file produces the results for \"Table 2. Fruitvale Employment Profile\".  "
   ]
  },
  {
   "cell_type": "code",
   "execution_count": 1,
   "metadata": {
    "collapsed": true
   },
   "outputs": [],
   "source": [
    "#Import packages\n",
    "import pandas as pd\n",
    "import matplotlib as mpl\n",
    "import numpy as np\n",
    "import math\n",
    "import os\n",
    "pd.options.mode.chained_assignment = None #gets rid of warning for chained alterations"
   ]
  },
  {
   "cell_type": "code",
   "execution_count": 2,
   "metadata": {
    "collapsed": false
   },
   "outputs": [
    {
     "data": {
      "text/plain": [
       "'/Users/briangoggin/Dropbox/CP 201A/Fruitvale/Raw Data/'"
      ]
     },
     "execution_count": 2,
     "metadata": {},
     "output_type": "execute_result"
    }
   ],
   "source": [
    "#set directories\n",
    "os.chdir(\"/Users/briangoggin/Dropbox/CP 201A/Fruitvale\")\n",
    "cwd = os.getcwd()\n",
    "root = cwd+\"/Raw Data/\" #root is directory to raw files\n",
    "root"
   ]
  },
  {
   "cell_type": "code",
   "execution_count": 3,
   "metadata": {
    "collapsed": false
   },
   "outputs": [],
   "source": [
    "#set input data source\n",
    "employment = root+\"ACS_14_5YR_B23025_with_ann.csv\"\n"
   ]
  },
  {
   "cell_type": "code",
   "execution_count": 4,
   "metadata": {
    "collapsed": true
   },
   "outputs": [],
   "source": [
    "#identify Fruitvale Census Tracts\n",
    "Fruitvale = [6001406100, 6001406201, 6001406202, 6001406300, 6001406500, 6001407101, 6001407102, 6001407200, 6001407300, 6001407400, 6001407500, 6001407600]\n"
   ]
  },
  {
   "cell_type": "code",
   "execution_count": 5,
   "metadata": {
    "collapsed": true
   },
   "outputs": [],
   "source": [
    "#Define function for import and standard ACS cleaning operations\n",
    "def import_census(file):\n",
    "    df = pd.read_csv(file, header = 1)\n",
    "    df['Fruitvale'] = df['Id2'].isin(Fruitvale)\n",
    "    #the following 5 lines create duplicate observations of Fruitvale to include them in county averages\n",
    "    df2 = df[df['Fruitvale'] == True]\n",
    "    df2.drop('Fruitvale', axis = 1)\n",
    "    df2.is_copy = False\n",
    "    df2['Fruitvale'] = False\n",
    "    df = df.append(df2)\n",
    "    return df\n",
    "\n",
    "#Define function for proportions MOE\n",
    "def prop_MOE(numerator, denominator, num_moe, den_moe):\n",
    "    return ((num_moe**2 - (((numerator/denominator)**2)*(den_moe**2))))**(1/2)/denominator"
   ]
  },
  {
   "cell_type": "code",
   "execution_count": 6,
   "metadata": {
    "collapsed": true
   },
   "outputs": [],
   "source": [
    "#import data\n",
    "employment = import_census(employment)"
   ]
  },
  {
   "cell_type": "code",
   "execution_count": 7,
   "metadata": {
    "collapsed": true
   },
   "outputs": [],
   "source": [
    "#Convert all employment variables to integers\n",
    "employment['pop'] = employment[\"Estimate; Total:\"].astype(int)\n",
    "employment['pop_moe'] = employment[\"Margin of Error; Total:\"].astype(int)\n",
    "employment['in_labor'] = employment['Estimate; In labor force:'].astype(int)\n",
    "employment['in_labor_moe'] = employment['Margin of Error; In labor force:'].astype(int)\n",
    "employment['civ_employed'] = employment[\"Estimate; In labor force: - Civilian labor force: - Employed\"].astype(int)\n",
    "employment['civ_employed_moe'] = employment[\"Margin of Error; In labor force: - Civilian labor force: - Employed\"].astype(int)\n",
    "employment['armed'] = employment[\"Estimate; In labor force: - Armed Forces\"].astype(int)\n",
    "employment['armed_moe'] = employment[\"Margin of Error; In labor force: - Armed Forces\"].astype(int)\n",
    "employment['unemployed'] = employment[\"Estimate; In labor force: - Civilian labor force: - Unemployed\"].astype(int)\n",
    "employment['unemployed_moe'] = employment[\"Margin of Error; In labor force: - Civilian labor force: - Unemployed\"].astype(int)\n",
    "employment['not_in_labor'] = employment[\"Estimate; Not in labor force\"].astype(int)\n",
    "employment['not_in_labor_moe'] = employment[\"Margin of Error; Not in labor force\"].astype(int)\n"
   ]
  },
  {
   "cell_type": "code",
   "execution_count": 8,
   "metadata": {
    "collapsed": true
   },
   "outputs": [],
   "source": [
    "#Create employment standard MOEs\n",
    "\n",
    "moes = ['pop_moe', 'in_labor_moe', 'civ_employed_moe', 'armed_moe', \n",
    "               'unemployed_moe', 'not_in_labor_moe']\n",
    "\n",
    "#convert MOEs to 95% confidence level\n",
    "def convert(column):\n",
    "    return column*(1.96/1.645)\n",
    "\n",
    "#square columns\n",
    "def square(column):\n",
    "    return column**2\n",
    "\n",
    "for item in moes:\n",
    "    employment[item] = convert(employment[item])\n",
    "    employment[item+'2']= square(employment[item])\n",
    "\n",
    "#create 'total empoyed' category, its moe, and its moe squared\n",
    "employment['total_employed'] = employment['civ_employed'] + employment['armed']\n",
    "employment['total_employed_moe'] = (employment['civ_employed_moe2'] + employment['armed_moe2'])**(1/2) \n",
    "employment['total_employed_moe2'] = (employment['total_employed_moe'])**2\n"
   ]
  },
  {
   "cell_type": "code",
   "execution_count": 9,
   "metadata": {
    "collapsed": true
   },
   "outputs": [],
   "source": [
    "#list data to include in sum\n",
    "employments = ['pop', 'total_employed', 'unemployed', 'not_in_labor', 'in_labor', \n",
    "            'pop_moe2', 'total_employed_moe2', 'unemployed_moe2', 'not_in_labor_moe2', 'in_labor_moe2']\n"
   ]
  },
  {
   "cell_type": "code",
   "execution_count": 10,
   "metadata": {
    "collapsed": true
   },
   "outputs": [],
   "source": [
    "#Sum data \n",
    "exemployment = employment.groupby('Fruitvale')[employments].sum()\n",
    "\n",
    "#new MOEs\n",
    "exemployment['pop_moe'] = (exemployment['pop_moe2'])**(1/2)\n",
    "exemployment['total_employed_moe'] = (exemployment['total_employed_moe2'])**(1/2)\n",
    "exemployment['unemployed_moe'] = (exemployment['unemployed_moe2'])**(1/2)\n",
    "exemployment['not_in_labor_moe'] = (exemployment['not_in_labor_moe2'])**(1/2)\n",
    "exemployment['in_labor_moe'] = (exemployment['in_labor_moe2'])**(1/2)\n",
    "\n",
    "#percentages\n",
    "exemployment['pct_employed'] = 100*(exemployment['total_employed']/exemployment['pop'])\n",
    "exemployment['pct_unemployed'] = 100*(exemployment['unemployed']/exemployment['pop'])\n",
    "exemployment['pct_not_in_labor'] = 100*(exemployment['not_in_labor']/exemployment['pop'])\n",
    "exemployment['pct_in_labor'] = 100*(exemployment['in_labor']/exemployment['pop'])"
   ]
  },
  {
   "cell_type": "code",
   "execution_count": 11,
   "metadata": {
    "collapsed": true
   },
   "outputs": [],
   "source": [
    "#generate proportion MOEs\n",
    "exemployment['pct_employed_moe'] = 100*(prop_MOE(exemployment['total_employed'], exemployment['pop'], exemployment['total_employed_moe'], exemployment['pop_moe']))\n",
    "exemployment['pct_unemployed_moe'] = 100*(prop_MOE(exemployment['unemployed'], exemployment['pop'], exemployment['unemployed_moe'], exemployment['pop_moe']))\n",
    "exemployment['pct_not_in_labor_moe'] = 100*(prop_MOE(exemployment['not_in_labor'], exemployment['pop'], exemployment['not_in_labor_moe'], exemployment['pop_moe']))\n",
    "exemployment['pct_in_labor_moe'] = 100*(prop_MOE(exemployment['in_labor'], exemployment['pop'], exemployment['in_labor_moe'], exemployment['pop_moe']))\n"
   ]
  },
  {
   "cell_type": "code",
   "execution_count": 12,
   "metadata": {
    "collapsed": true
   },
   "outputs": [],
   "source": [
    "#set variables to keep \n",
    "keep_vars = ['pop', 'total_employed', 'unemployed', 'not_in_labor', \n",
    "             'pop_moe', 'total_employed_moe', 'unemployed_moe', 'not_in_labor_moe', \n",
    "            'pct_employed', 'pct_unemployed', 'pct_not_in_labor', \n",
    "            'pct_employed_moe', 'pct_unemployed_moe', 'pct_not_in_labor_moe', 'in_labor',\n",
    "            'in_labor_moe', 'pct_in_labor', 'pct_in_labor_moe']\n",
    "\n",
    "exemployment = exemployment[keep_vars]\n",
    "exemployment = exemployment.round(2)"
   ]
  },
  {
   "cell_type": "code",
   "execution_count": 13,
   "metadata": {
    "collapsed": true
   },
   "outputs": [],
   "source": [
    "#export data to csv\n",
    "export_path = cwd+'/Output/python_output/employment.csv'\n",
    "exemployment = exemployment.to_csv(export_path)"
   ]
  }
 ],
 "metadata": {
  "anaconda-cloud": {},
  "kernelspec": {
   "display_name": "Python [Root]",
   "language": "python",
   "name": "Python [Root]"
  },
  "language_info": {
   "codemirror_mode": {
    "name": "ipython",
    "version": 3
   },
   "file_extension": ".py",
   "mimetype": "text/x-python",
   "name": "python",
   "nbconvert_exporter": "python",
   "pygments_lexer": "ipython3",
   "version": "3.5.2"
  }
 },
 "nbformat": 4,
 "nbformat_minor": 0
}
