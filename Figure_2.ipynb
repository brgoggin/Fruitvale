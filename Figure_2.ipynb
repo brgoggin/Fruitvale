{
 "cells": [
  {
   "cell_type": "markdown",
   "metadata": {},
   "source": [
    "# Figure 2\n",
    "This file produces the results for \"Figure 2. Income Distribution of Fruitvale\".  "
   ]
  },
  {
   "cell_type": "code",
   "execution_count": 1,
   "metadata": {
    "collapsed": true
   },
   "outputs": [],
   "source": [
    "#Import packages\n",
    "import pandas as pd\n",
    "import matplotlib as mpl\n",
    "import numpy as np\n",
    "import math\n",
    "import os\n",
    "pd.options.mode.chained_assignment = None #gets rid of warning for chained alterations"
   ]
  },
  {
   "cell_type": "code",
   "execution_count": 2,
   "metadata": {
    "collapsed": false
   },
   "outputs": [
    {
     "data": {
      "text/plain": [
       "'/Users/briangoggin/Dropbox/CP 201A/Fruitvale/Raw Data/'"
      ]
     },
     "execution_count": 2,
     "metadata": {},
     "output_type": "execute_result"
    }
   ],
   "source": [
    "#set directories\n",
    "os.chdir(\"/Users/briangoggin/Dropbox/CP 201A/Fruitvale\")\n",
    "cwd = os.getcwd()\n",
    "root = cwd+\"/Raw Data/\" #root is directory to raw files\n",
    "root"
   ]
  },
  {
   "cell_type": "code",
   "execution_count": 3,
   "metadata": {
    "collapsed": false
   },
   "outputs": [],
   "source": [
    "#set input data source\n",
    "income = root+\"ACS_14_5YR_B19001_with_ann.csv\"\n"
   ]
  },
  {
   "cell_type": "code",
   "execution_count": 4,
   "metadata": {
    "collapsed": true
   },
   "outputs": [],
   "source": [
    "#identify Fruitvale Census Tracts\n",
    "Fruitvale = [6001406100, 6001406201, 6001406202, 6001406300, 6001406500, 6001407101, 6001407102, 6001407200, 6001407300, 6001407400, 6001407500, 6001407600]\n"
   ]
  },
  {
   "cell_type": "code",
   "execution_count": 5,
   "metadata": {
    "collapsed": true
   },
   "outputs": [],
   "source": [
    "#Define function for import and standard ACS cleaning operations\n",
    "def import_census(file):\n",
    "    df = pd.read_csv(file, header = 1)\n",
    "    df['Fruitvale'] = df['Id2'].isin(Fruitvale)\n",
    "    #the following 5 lines create duplicate observations of Fruitvale to include them in county averages\n",
    "    df2 = df[df['Fruitvale'] == True]\n",
    "    df2.drop('Fruitvale', axis = 1)\n",
    "    df2.is_copy = False\n",
    "    df2['Fruitvale'] = False\n",
    "    df = df.append(df2)\n",
    "    return df\n",
    "\n",
    "#Define function for proportions MOE\n",
    "def prop_MOE(numerator, denominator, num_moe, den_moe):\n",
    "    return ((num_moe**2 - (((numerator/denominator)**2)*(den_moe**2))))**(1/2)/denominator"
   ]
  },
  {
   "cell_type": "code",
   "execution_count": 6,
   "metadata": {
    "collapsed": true
   },
   "outputs": [],
   "source": [
    "#import data\n",
    "income = import_census(income)"
   ]
  },
  {
   "cell_type": "code",
   "execution_count": 7,
   "metadata": {
    "collapsed": true
   },
   "outputs": [],
   "source": [
    "#Convert all employment variables to integers\n",
    "income['total'] = income[\"Estimate; Total:\"].astype(int)\n",
    "income['total_moe'] = income[\"Margin of Error; Total:\"].astype(int)\n",
    "income['ten'] = income[\"Estimate; Total: - Less than $10,000\"].astype(int)\n",
    "income['ten_moe'] = income[\"Margin of Error; Total: - Less than $10,000\"].astype(int)\n",
    "income['fifteen'] = income[\"Estimate; Total: - $10,000 to $14,999\"].astype(int)\n",
    "income['fifteen_moe'] = income[\"Margin of Error; Total: - $10,000 to $14,999\"].astype(int)\n",
    "income['twenty'] = income[\"Estimate; Total: - $15,000 to $19,999\"].astype(int)\n",
    "income['twenty_moe'] = income[\"Margin of Error; Total: - $15,000 to $19,999\"].astype(int)\n",
    "income['twenty_five'] = income[\"Estimate; Total: - $20,000 to $24,999\"].astype(int)\n",
    "income['twenty_five_moe'] = income[\"Margin of Error; Total: - $20,000 to $24,999\"].astype(int)\n",
    "income['thirty'] = income[\"Estimate; Total: - $25,000 to $29,999\"].astype(int)\n",
    "income['thirty_moe'] = income[\"Margin of Error; Total: - $25,000 to $29,999\"].astype(int)\n",
    "income['thirty_five'] = income[\"Estimate; Total: - $30,000 to $34,999\"].astype(int)\n",
    "income['thirty_five_moe'] = income[\"Margin of Error; Total: - $30,000 to $34,999\"].astype(int)\n",
    "income['forty'] = income[\"Estimate; Total: - $35,000 to $39,999\"].astype(int)\n",
    "income['forty_moe'] = income[\"Margin of Error; Total: - $35,000 to $39,999\"].astype(int)\n",
    "income['forty_five'] = income[\"Estimate; Total: - $40,000 to $44,999\"].astype(int)\n",
    "income['forty_five_moe'] = income[\"Margin of Error; Total: - $40,000 to $44,999\"].astype(int)\n",
    "income['fifty'] = income[\"Estimate; Total: - $45,000 to $49,999\"].astype(int)\n",
    "income['fifty_moe'] = income[\"Margin of Error; Total: - $45,000 to $49,999\"].astype(int)\n",
    "income['sixty'] = income[\"Estimate; Total: - $50,000 to $59,999\"].astype(int)\n",
    "income['sixty_moe'] = income[\"Margin of Error; Total: - $50,000 to $59,999\"].astype(int)\n",
    "income['seventy_five'] = income[\"Estimate; Total: - $60,000 to $74,999\"].astype(int)\n",
    "income['seventy_five_moe'] = income[\"Margin of Error; Total: - $60,000 to $74,999\"].astype(int)\n",
    "income['hundred'] = income[\"Estimate; Total: - $75,000 to $99,999\"].astype(int)\n",
    "income['hundred_moe'] = income[\"Margin of Error; Total: - $75,000 to $99,999\"].astype(int)\n",
    "income['hundred25'] = income[\"Estimate; Total: - $100,000 to $124,999\"].astype(int)\n",
    "income['hundred25_moe'] = income[\"Margin of Error; Total: - $100,000 to $124,999\"].astype(int)\n",
    "income['hundred50'] = income[\"Estimate; Total: - $125,000 to $149,999\"].astype(int)\n",
    "income['hundred50_moe'] = income[\"Margin of Error; Total: - $125,000 to $149,999\"].astype(int)\n",
    "income['twohundred'] = income[\"Estimate; Total: - $150,000 to $199,999\"].astype(int)\n",
    "income['twohundred_moe'] = income[\"Margin of Error; Total: - $150,000 to $199,999\"].astype(int)\n",
    "income['more_twohundred'] = income[\"Estimate; Total: - $200,000 or more\"].astype(int)\n",
    "income['more_twohundred_moe'] = income[\"Margin of Error; Total: - $200,000 or more\"].astype(int)\n"
   ]
  },
  {
   "cell_type": "code",
   "execution_count": 8,
   "metadata": {
    "collapsed": true
   },
   "outputs": [],
   "source": [
    "#keep certain variables\n",
    "income_list = ['total_moe', 'ten_moe', 'fifteen_moe', \n",
    "               'twenty_moe', 'twenty_five_moe', 'thirty_moe', \n",
    "              'thirty_five_moe', 'forty_moe', 'forty_five_moe', \n",
    "              'fifty_moe', 'sixty_moe', 'seventy_five_moe', \n",
    "              'hundred_moe', 'hundred25_moe', 'hundred50_moe', \n",
    "              'twohundred_moe', 'more_twohundred_moe']\n",
    "\n",
    "#convert MOEs to 95% confidence level\n",
    "def convert(column):\n",
    "    return column*(1.96/1.645)\n",
    "\n",
    "#square columns\n",
    "def square(column):\n",
    "    return column**2\n",
    "\n",
    "for item in income_list:\n",
    "    income[item] = convert(income[item])\n",
    "    income[item+'2']= square(income[item])"
   ]
  },
  {
   "cell_type": "code",
   "execution_count": 9,
   "metadata": {
    "collapsed": true
   },
   "outputs": [],
   "source": [
    "#Create aggregate columns and MOEs\n",
    "\n",
    "income['less_25'] = income['ten'] + income['fifteen'] + income['twenty']+ income['twenty_five']\n",
    "income['less_25_moe'] = (income['ten_moe2'] + income['fifteen_moe2'] + income['twenty_moe2']+ income['twenty_five_moe2'])**(1/2) \n",
    "income['less_25_moe2'] = (income['less_25_moe'])**2\n",
    "\n",
    "income['25_50'] = income['thirty'] + income['thirty_five'] + income['forty']+ income['forty_five'] + income['fifty']\n",
    "income['25_50_moe'] = (income['thirty_moe2'] + income['thirty_five_moe2'] + income['forty_moe2']+ income['forty_five_moe2'] + income['fifty_moe2'])**(1/2) \n",
    "income['25_50_moe2'] = (income['25_50_moe'])**2\n",
    "\n",
    "income['50_75'] = income['sixty'] + income['seventy_five'] \n",
    "income['50_75_moe'] = (income['sixty_moe2'] + income['seventy_five_moe2'] )**(1/2) \n",
    "income['50_75_moe2'] = (income['25_50_moe'])**2\n",
    "\n",
    "income['100_plus'] = income['hundred25'] + income['hundred50'] + income['twohundred'] + income['more_twohundred']\n",
    "income['100_plus_moe'] = (income['hundred25_moe2'] + income['hundred50_moe2'] + income['twohundred_moe2'] + income['more_twohundred_moe2'])**(1/2) \n",
    "income['100_plus_moe2'] = (income['100_plus_moe'])**2\n",
    "\n"
   ]
  },
  {
   "cell_type": "code",
   "execution_count": 10,
   "metadata": {
    "collapsed": true
   },
   "outputs": [],
   "source": [
    "#Sum data \n",
    "\n",
    "#list variables to include in sum\n",
    "incomes = ['total', 'less_25', '25_50', '50_75', 'hundred', '100_plus', \n",
    "          'total_moe2', 'less_25_moe2', '25_50_moe2', '50_75_moe2', \n",
    "          'hundred_moe2', '100_plus_moe2']\n",
    "\n",
    "exincome = income.groupby('Fruitvale')[incomes].sum()"
   ]
  },
  {
   "cell_type": "code",
   "execution_count": 11,
   "metadata": {
    "collapsed": true
   },
   "outputs": [],
   "source": [
    "#Create new MOEs after sum\n",
    "moe_list = ['total_moe2', 'less_25_moe2', '25_50_moe2', '50_75_moe2', \n",
    "          'hundred_moe2', '100_plus_moe2']\n",
    "\n",
    "def sq_root(column):\n",
    "    return column**(1/2)\n",
    "\n",
    "for item in moe_list:\n",
    "    exincome[item.strip('2')] = sq_root(exincome[item])\n",
    "    \n",
    "#rename one item from previous list\n",
    "exincome.rename(columns={'5_50_moe': '25_50_moe'}, inplace = True)"
   ]
  },
  {
   "cell_type": "code",
   "execution_count": 12,
   "metadata": {
    "collapsed": true
   },
   "outputs": [],
   "source": [
    "#Create Percentages\n",
    "pct_list = ['total', 'less_25', '25_50', '50_75', 'hundred', '100_plus']\n",
    "\n",
    "def pct(column):\n",
    "    return 100*(exincome[column]/exincome['total'])\n",
    "\n",
    "for item in pct_list:\n",
    "    exincome['pct_'+item] = pct(item)"
   ]
  },
  {
   "cell_type": "code",
   "execution_count": 13,
   "metadata": {
    "collapsed": true
   },
   "outputs": [],
   "source": [
    "#Create New Proportions MOEs\n",
    "exincome['pct_less_25_moe'] = 100*(prop_MOE(exincome['less_25'], exincome['total'], exincome['less_25_moe'], exincome['total_moe']))\n",
    "exincome['pct_25_50_moe'] = 100*(prop_MOE(exincome['25_50'], exincome['total'], exincome['25_50_moe'], exincome['total_moe']))\n",
    "exincome['pct_50_75_moe'] = 100*(prop_MOE(exincome['50_75'], exincome['total'], exincome['50_75_moe'], exincome['total_moe']))\n",
    "exincome['pct_hundred_moe'] = 100*(prop_MOE(exincome['hundred'], exincome['total'], exincome['hundred_moe'], exincome['total_moe']))\n",
    "exincome['pct_100_plus_moe'] = 100*(prop_MOE(exincome['100_plus'], exincome['total'], exincome['100_plus_moe'], exincome['total_moe']))\n"
   ]
  },
  {
   "cell_type": "code",
   "execution_count": 14,
   "metadata": {
    "collapsed": true
   },
   "outputs": [],
   "source": [
    "#list data to include in export\n",
    "export = ['total', 'pct_less_25', 'pct_25_50', 'pct_50_75', 'pct_hundred', 'pct_100_plus',\n",
    "         'pct_less_25_moe', 'pct_25_50_moe', 'pct_50_75_moe', 'pct_hundred_moe', \n",
    "         'pct_100_plus_moe']\n",
    "\n",
    "exincome = exincome[export]\n",
    "\n",
    "#change everything to rounded percents\n",
    "exincome = exincome.round(2)"
   ]
  },
  {
   "cell_type": "code",
   "execution_count": 15,
   "metadata": {
    "collapsed": true
   },
   "outputs": [],
   "source": [
    "#export data to csv\n",
    "export_path = cwd+'/Output/python_output/income.csv'\n",
    "exincome = exincome.to_csv(export_path)"
   ]
  }
 ],
 "metadata": {
  "anaconda-cloud": {},
  "kernelspec": {
   "display_name": "Python [Root]",
   "language": "python",
   "name": "Python [Root]"
  },
  "language_info": {
   "codemirror_mode": {
    "name": "ipython",
    "version": 3
   },
   "file_extension": ".py",
   "mimetype": "text/x-python",
   "name": "python",
   "nbconvert_exporter": "python",
   "pygments_lexer": "ipython3",
   "version": "3.5.2"
  }
 },
 "nbformat": 4,
 "nbformat_minor": 0
}
