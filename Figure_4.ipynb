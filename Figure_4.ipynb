{
 "cells": [
  {
   "cell_type": "markdown",
   "metadata": {},
   "source": [
    "# Figure 4\n",
    "This file produces the results for \"Figure 4. Commute Mode in Fruitvale\".  "
   ]
  },
  {
   "cell_type": "code",
   "execution_count": 1,
   "metadata": {
    "collapsed": true
   },
   "outputs": [],
   "source": [
    "#Import packages\n",
    "import pandas as pd\n",
    "import matplotlib as mpl\n",
    "import numpy as np\n",
    "import math\n",
    "import os\n",
    "pd.options.mode.chained_assignment = None #gets rid of warning for chained alterations"
   ]
  },
  {
   "cell_type": "code",
   "execution_count": 2,
   "metadata": {
    "collapsed": false
   },
   "outputs": [
    {
     "data": {
      "text/plain": [
       "'/Users/briangoggin/Dropbox/CP 201A/Fruitvale/Raw Data/'"
      ]
     },
     "execution_count": 2,
     "metadata": {},
     "output_type": "execute_result"
    }
   ],
   "source": [
    "#set directories\n",
    "os.chdir(\"/Users/briangoggin/Dropbox/CP 201A/Fruitvale\")\n",
    "cwd = os.getcwd()\n",
    "root = cwd+\"/Raw Data/\" #root is directory to raw files\n",
    "root"
   ]
  },
  {
   "cell_type": "code",
   "execution_count": 3,
   "metadata": {
    "collapsed": false
   },
   "outputs": [],
   "source": [
    "#set input data source\n",
    "commute_mode = root+\"ACS_14_5YR_B08101_with_ann.csv\"\n"
   ]
  },
  {
   "cell_type": "code",
   "execution_count": 4,
   "metadata": {
    "collapsed": true
   },
   "outputs": [],
   "source": [
    "#identify Fruitvale Census Tracts\n",
    "Fruitvale = [6001406100, 6001406201, 6001406202, 6001406300, 6001406500, 6001407101, 6001407102, 6001407200, 6001407300, 6001407400, 6001407500, 6001407600]\n"
   ]
  },
  {
   "cell_type": "code",
   "execution_count": 5,
   "metadata": {
    "collapsed": true
   },
   "outputs": [],
   "source": [
    "#Define function for import and standard ACS cleaning operations\n",
    "def import_census(file):\n",
    "    df = pd.read_csv(file, header = 1)\n",
    "    df['Fruitvale'] = df['Id2'].isin(Fruitvale)\n",
    "    #the following 5 lines create duplicate observations of Fruitvale to include them in county averages\n",
    "    df2 = df[df['Fruitvale'] == True]\n",
    "    df2.drop('Fruitvale', axis = 1)\n",
    "    df2.is_copy = False\n",
    "    df2['Fruitvale'] = False\n",
    "    df = df.append(df2)\n",
    "    return df\n",
    "\n",
    "#Define function for proportions MOE\n",
    "def prop_MOE(numerator, denominator, num_moe, den_moe):\n",
    "    return ((num_moe**2 - (((numerator/denominator)**2)*(den_moe**2))))**(1/2)/denominator"
   ]
  },
  {
   "cell_type": "code",
   "execution_count": 6,
   "metadata": {
    "collapsed": true
   },
   "outputs": [],
   "source": [
    "#import data\n",
    "commute_mode = import_census(commute_mode)"
   ]
  },
  {
   "cell_type": "code",
   "execution_count": 7,
   "metadata": {
    "collapsed": true
   },
   "outputs": [],
   "source": [
    "#Convert all commute mode variables to integers\n",
    "commute_mode['total_pop'] = commute_mode[\"Estimate; Total:\"].astype(int)\n",
    "commute_mode['total_pop_moe'] = commute_mode[\"Margin of Error; Total:\"].astype(int)\n",
    "commute_mode['car_alone'] = commute_mode[\"Estimate; Total: - Car, truck, or van - drove alone:\"].astype(int)\n",
    "commute_mode['car_alone_moe'] = commute_mode[\"Margin of Error; Total: - Car, truck, or van - drove alone:\"].astype(int)\n",
    "commute_mode['publict'] = commute_mode[\"Estimate; Total: - Public transportation (excluding taxicab):\"].astype(int)\n",
    "commute_mode['publict_moe'] = commute_mode[\"Margin of Error; Total: - Public transportation (excluding taxicab):\"].astype(int)\n",
    "commute_mode['carpool'] = commute_mode[\"Estimate; Total: - Car, truck, or van - carpooled:\"].astype(int)\n",
    "commute_mode['carpool_moe'] = commute_mode[\"Margin of Error; Total: - Car, truck, or van - carpooled:\"].astype(int)\n",
    "commute_mode['walk'] = commute_mode[\"Estimate; Total: - Walked:\"].astype(int)\n",
    "commute_mode['walk_moe'] = commute_mode[\"Margin of Error; Total: - Walked:\"].astype(int)\n",
    "commute_mode['taxi_bike'] = commute_mode[\"Estimate; Total: - Taxicab, motorcycle, bicycle, or other means:\"].astype(int)\n",
    "commute_mode['taxi_bike_moe'] = commute_mode[\"Margin of Error; Total: - Taxicab, motorcycle, bicycle, or other means:\"].astype(int)\n",
    "commute_mode['home'] = commute_mode[\"Estimate; Total: - Worked at home:\"].astype(int)\n",
    "commute_mode['home_moe'] = commute_mode[\"Margin of Error; Total: - Worked at home:\"].astype(int)\n"
   ]
  },
  {
   "cell_type": "code",
   "execution_count": 8,
   "metadata": {
    "collapsed": true
   },
   "outputs": [],
   "source": [
    "#list moes to transform\n",
    "list = ['total_pop_moe', 'publict_moe', 'car_alone_moe', \n",
    "               'carpool_moe', 'walk_moe', 'taxi_bike_moe', \n",
    "              'home_moe']\n",
    "\n",
    "#convert MOEs to 95% confidence level\n",
    "def convert(column):\n",
    "    return column*(1.96/1.645)\n",
    "\n",
    "for item in list:\n",
    "    commute_mode[item] = convert(commute_mode[item])"
   ]
  },
  {
   "cell_type": "code",
   "execution_count": 9,
   "metadata": {
    "collapsed": true
   },
   "outputs": [],
   "source": [
    "#Create Commute standard MOEs\n",
    "\n",
    "#square MOEs for aggregate MOEs\n",
    "commute_mode['total_pop_moe2'] = (commute_mode['total_pop_moe'])**2\n",
    "commute_mode['publict_moe2'] = (commute_mode['publict_moe'])**2\n",
    "commute_mode['car_alone_moe2'] = (commute_mode['car_alone_moe'])**2\n",
    "commute_mode['carpool_moe2'] = (commute_mode['carpool_moe'])**2\n",
    "commute_mode['walk_moe2'] = (commute_mode['walk_moe'])**2\n",
    "commute_mode['taxi_bike_moe2'] = (commute_mode['taxi_bike_moe'])**2\n",
    "commute_mode['home_moe2'] = (commute_mode['home_moe'])**2\n",
    "\n",
    "#create 'other' category, its moe, and its moe squared\n",
    "commute_mode['other'] = commute_mode['walk'] + commute_mode['taxi_bike'] + commute_mode['home']\n",
    "commute_mode['other_moe'] = (commute_mode['walk_moe2'] + commute_mode['taxi_bike_moe2'] + commute_mode['home_moe2'])**(1/2) \n",
    "commute_mode['other_moe2'] = (commute_mode['other_moe'])**2\n",
    "\n",
    "\n",
    "#list data to include in sum\n",
    "commutes = ['total_pop', 'publict', 'car_alone', 'carpool', 'other',\n",
    "            'total_pop_moe2', 'publict_moe2', 'car_alone_moe2', 'carpool_moe2', 'other_moe2']\n",
    "\n",
    "#Sum data \n",
    "excommutes = commute_mode.groupby('Fruitvale')[commutes].sum()\n",
    "\n",
    "excommutes['total_pop_moe'] = np.sqrt(excommutes['total_pop_moe2'])\n",
    "excommutes['pct_transit'] = (excommutes['publict']/excommutes['total_pop'])\n",
    "excommutes['publict_moe'] = np.sqrt(excommutes['publict_moe2'])\n",
    "excommutes['pct_car_alone'] = (excommutes['car_alone']/excommutes['total_pop'])\n",
    "excommutes['car_alone_moe'] = np.sqrt(excommutes['car_alone_moe2'])\n",
    "excommutes['pct_carpool'] = (excommutes['carpool']/excommutes['total_pop'])\n",
    "excommutes['carpool_moe'] = np.sqrt(excommutes['carpool_moe2'])\n",
    "excommutes['pct_other'] = (excommutes['other']/excommutes['total_pop'])\n",
    "excommutes['other_moe'] = np.sqrt(excommutes['other_moe2'])\n",
    "\n",
    "excommutes"
   ]
  },
  {
   "cell_type": "code",
   "execution_count": 10,
   "metadata": {
    "collapsed": true
   },
   "outputs": [],
   "source": [
    "#generate proportion MOEs\n",
    "excommutes['pct_transit_moe'] = prop_MOE(excommutes['publict'], excommutes['total_pop'], excommutes['publict_moe'], excommutes['total_pop_moe'])\n",
    "excommutes['pct_car_alone_moe'] = prop_MOE(excommutes['car_alone'], excommutes['total_pop'], excommutes['car_alone_moe'], excommutes['total_pop_moe'])\n",
    "excommutes['pct_carpool_moe'] = prop_MOE(excommutes['carpool'], excommutes['total_pop'], excommutes['carpool_moe'], excommutes['total_pop_moe'])\n",
    "excommutes['pct_other_moe'] = prop_MOE(excommutes['other'], excommutes['total_pop'], excommutes['other_moe'], excommutes['total_pop_moe'])\n"
   ]
  },
  {
   "cell_type": "code",
   "execution_count": 11,
   "metadata": {
    "collapsed": true
   },
   "outputs": [],
   "source": [
    "#set variables to keep \n",
    "keep_vars = ['pct_car_alone', 'pct_transit', \n",
    "             'pct_carpool', 'pct_other', \n",
    "             'pct_car_alone_moe', 'pct_transit_moe', \n",
    "             'pct_carpool_moe', 'pct_other_moe']\n",
    "\n",
    "excommutes = excommutes[keep_vars]\n",
    "\n",
    "#change everything to rounded percents\n",
    "excommutes = excommutes.multiply(100).round(2)\n",
    "excommutes"
   ]
  },
  {
   "cell_type": "code",
   "execution_count": 12,
   "metadata": {
    "collapsed": true
   },
   "outputs": [],
   "source": [
    "#export data to csv\n",
    "export_path = cwd+'/Output/python_output/commutes.csv'\n",
    "excommutes = excommutes.to_csv(export_path)"
   ]
  }
 ],
 "metadata": {
  "anaconda-cloud": {},
  "kernelspec": {
   "display_name": "Python [Root]",
   "language": "python",
   "name": "Python [Root]"
  },
  "language_info": {
   "codemirror_mode": {
    "name": "ipython",
    "version": 3
   },
   "file_extension": ".py",
   "mimetype": "text/x-python",
   "name": "python",
   "nbconvert_exporter": "python",
   "pygments_lexer": "ipython3",
   "version": "3.5.2"
  }
 },
 "nbformat": 4,
 "nbformat_minor": 0
}
