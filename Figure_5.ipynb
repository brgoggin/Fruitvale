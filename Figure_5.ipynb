{
 "cells": [
  {
   "cell_type": "markdown",
   "metadata": {},
   "source": [
    "# Figure 5\n",
    "This file produces the results from \"Figure 5. Income Distribution of Transit Users\". "
   ]
  },
  {
   "cell_type": "code",
   "execution_count": 1,
   "metadata": {
    "collapsed": true
   },
   "outputs": [],
   "source": [
    "#Import packages\n",
    "import pandas as pd\n",
    "import matplotlib as mpl\n",
    "import numpy as np\n",
    "import math\n",
    "import os\n",
    "pd.options.mode.chained_assignment = None #gets rid of warning for chained alterations"
   ]
  },
  {
   "cell_type": "code",
   "execution_count": 2,
   "metadata": {
    "collapsed": true
   },
   "outputs": [],
   "source": [
    "#set directories\n",
    "os.chdir(\"/Users/briangoggin/Dropbox/CP 201A/Fruitvale\")\n",
    "cwd = os.getcwd()\n",
    "root = cwd #root is directory to raw files"
   ]
  },
  {
   "cell_type": "code",
   "execution_count": 3,
   "metadata": {
    "collapsed": false
   },
   "outputs": [],
   "source": [
    "#set input data source\n",
    "cmincome1 = root+\"/Raw Data/ACS_14_5YR_B08119_with_ann.csv\"\n"
   ]
  },
  {
   "cell_type": "code",
   "execution_count": 4,
   "metadata": {
    "collapsed": true
   },
   "outputs": [],
   "source": [
    "#identify Fruitvale Census Tracts\n",
    "Fruitvale = [6001406100, 6001406201, 6001406202, 6001406300, 6001406500, 6001407101, 6001407102, 6001407200, 6001407300, 6001407400, 6001407500, 6001407600]\n"
   ]
  },
  {
   "cell_type": "code",
   "execution_count": 5,
   "metadata": {
    "collapsed": true
   },
   "outputs": [],
   "source": [
    "#Define function for import and standard ACS cleaning operations\n",
    "def import_census(file):\n",
    "    df = pd.read_csv(file, header = 1)\n",
    "    df['Fruitvale'] = df['Id2'].isin(Fruitvale)\n",
    "    #the following 5 lines create duplicate observations of Fruitvale to include them in county averages\n",
    "    df2 = df[df['Fruitvale'] == True]\n",
    "    df2.drop('Fruitvale', axis = 1)\n",
    "    df2.is_copy = False\n",
    "    df2['Fruitvale'] = False\n",
    "    df = df.append(df2)\n",
    "    return df\n",
    "\n",
    "#Define function for proportions MOE\n",
    "def prop_MOE(numerator, denominator, num_moe, den_moe):\n",
    "    return ((num_moe**2 - (((numerator/denominator)**2)*(den_moe**2))))**(1/2)/denominator"
   ]
  },
  {
   "cell_type": "code",
   "execution_count": 6,
   "metadata": {
    "collapsed": true
   },
   "outputs": [],
   "source": [
    "#Import data\n",
    "cm1 = import_census(cmincome1)"
   ]
  },
  {
   "cell_type": "code",
   "execution_count": 7,
   "metadata": {
    "collapsed": true
   },
   "outputs": [],
   "source": [
    "#rename variables\n",
    "cm1['total'] = cm1[\"Estimate; Total: - Public transportation (excluding taxicab):\"]\n",
    "cm1['total_moe'] = cm1[\"Margin of Error; Total: - Public transportation (excluding taxicab):\"]\n",
    "cm1['10'] = cm1[\"Estimate; Total: - Public transportation (excluding taxicab): - $1 to $9,999 or loss\"]\n",
    "cm1['10_moe'] = cm1[\"Margin of Error; Total: - Public transportation (excluding taxicab): - $1 to $9,999 or loss\"]\n",
    "cm1['15'] = cm1[\"Estimate; Total: - Public transportation (excluding taxicab): - $10,000 to $14,999\"]\n",
    "cm1['15_moe'] = cm1[\"Margin of Error; Total: - Public transportation (excluding taxicab): - $10,000 to $14,999\"]\n",
    "cm1['25'] = cm1[\"Estimate; Total: - Public transportation (excluding taxicab): - $15,000 to $24,999\"]\n",
    "cm1['25_moe'] = cm1[\"Margin of Error; Total: - Public transportation (excluding taxicab): - $15,000 to $24,999\"]\n",
    "cm1['35'] = cm1[\"Estimate; Total: - Public transportation (excluding taxicab): - $25,000 to $34,999\"]\n",
    "cm1['35_moe'] = cm1[\"Margin of Error; Total: - Public transportation (excluding taxicab): - $25,000 to $34,999\"]\n",
    "cm1['50'] = cm1[\"Estimate; Total: - Public transportation (excluding taxicab): - $35,000 to $49,999\"]\n",
    "cm1['50_moe'] = cm1[\"Margin of Error; Total: - Public transportation (excluding taxicab): - $35,000 to $49,999\"]\n",
    "cm1['65'] = cm1[\"Estimate; Total: - Public transportation (excluding taxicab): - $50,000 to $64,999\"]\n",
    "cm1['65_moe'] = cm1[\"Margin of Error; Total: - Public transportation (excluding taxicab): - $50,000 to $64,999\"]\n",
    "cm1['75'] = cm1[\"Estimate; Total: - Public transportation (excluding taxicab): - $65,000 to $74,999\"]\n",
    "cm1['75_moe'] = cm1[\"Margin of Error; Total: - Public transportation (excluding taxicab): - $65,000 to $74,999\"]\n",
    "cm1['75plus'] = cm1[\"Estimate; Total: - Public transportation (excluding taxicab): - $75,000 or more\"]\n",
    "cm1['75plus_moe'] = cm1[\"Margin of Error; Total: - Public transportation (excluding taxicab): - $75,000 or more\"]\n"
   ]
  },
  {
   "cell_type": "code",
   "execution_count": 8,
   "metadata": {
    "collapsed": true
   },
   "outputs": [],
   "source": [
    "#Create MOEs and prepare them for collapsing across observations\n",
    "moes = ['total_moe', '10_moe', '15_moe', '25_moe', '35_moe', '50_moe', '65_moe', '75_moe', '75plus_moe']\n",
    "\n",
    "#convert MOEs to 95% confidence level\n",
    "def convert(column):\n",
    "    return column*(1.96/1.645)\n",
    "\n",
    "#square columns\n",
    "def square(column):\n",
    "    return column**2\n",
    "\n",
    "for item in moes:\n",
    "    cm1[item] = convert(cm1[item])\n",
    "    cm1[item+'2']= square(cm1[item])"
   ]
  },
  {
   "cell_type": "code",
   "execution_count": 9,
   "metadata": {
    "collapsed": true
   },
   "outputs": [],
   "source": [
    "#Create Categories\n",
    "cm1['0to25'] = cm1['10'] + cm1['15'] + cm1['25'] \n",
    "cm1['0to25_moe'] = (cm1['10_moe2'] + cm1['15_moe2'] + cm1['25_moe2'] )**(1/2) \n",
    "cm1['0to25_moe2'] = (cm1['0to25_moe'])**2\n",
    "\n",
    "cm1['_25to50'] = cm1['35'] + cm1['50'] \n",
    "cm1['_25to50_moe'] = (cm1['35_moe2'] + cm1['50_moe2'] )**(1/2) \n",
    "cm1['_25to50_moe2'] = (cm1['_25to50_moe'])**2\n",
    "\n",
    "cm1['50to75'] = cm1['65'] + cm1['75'] \n",
    "cm1['50to75_moe'] = (cm1['65_moe2'] + cm1['75_moe2'] )**(1/2) \n",
    "cm1['50to75_moe2'] = (cm1['50to75_moe'])**2"
   ]
  },
  {
   "cell_type": "code",
   "execution_count": 10,
   "metadata": {
    "collapsed": true
   },
   "outputs": [],
   "source": [
    "#list variables to include in sum\n",
    "cms = ['total', 'total_moe2', '0to25', '0to25_moe2', '_25to50', '_25to50_moe2', '50to75', '50to75_moe2', \n",
    "          '75plus', '75plus_moe2']\n",
    "\n",
    "excm1 = cm1.groupby('Fruitvale')[cms].sum()"
   ]
  },
  {
   "cell_type": "code",
   "execution_count": 11,
   "metadata": {
    "collapsed": true
   },
   "outputs": [],
   "source": [
    "#Create new MOEs after sum\n",
    "moe_list = ['total_moe2', '0to25_moe2', '_25to50_moe2', '50to75_moe2', '75plus_moe2']\n",
    "\n",
    "def sq_root(column):\n",
    "    return column**(1/2)\n",
    "\n",
    "for item in moe_list:\n",
    "    excm1[item.strip('2')] = sq_root(excm1[item])"
   ]
  },
  {
   "cell_type": "code",
   "execution_count": 12,
   "metadata": {
    "collapsed": true
   },
   "outputs": [],
   "source": [
    "#Create Percentages\n",
    "pct_list = ['0to25', '_25to50', '50to75', '75plus']\n",
    "\n",
    "def pct(column):\n",
    "    return 100*(excm1[column]/excm1['total'])\n",
    "\n",
    "for item in pct_list:\n",
    "    excm1['pct_'+item] = pct(item)"
   ]
  },
  {
   "cell_type": "code",
   "execution_count": 13,
   "metadata": {
    "collapsed": true
   },
   "outputs": [],
   "source": [
    "#Create New Proportions MOEs\n",
    "excm1['pct_0to25_moe'] = 100*(prop_MOE(excm1['0to25'], excm1['total'], excm1['0to25_moe'], excm1['total_moe']))\n",
    "excm1['pct__25to50_moe'] = 100*(prop_MOE(excm1['_25to50'], excm1['total'], excm1['_25to50_moe'], excm1['total_moe']))\n",
    "excm1['pct_50to75_moe'] = 100*(prop_MOE(excm1['50to75'], excm1['total'], excm1['50to75_moe'], excm1['total_moe']))\n",
    "excm1['pct_75plus_moe'] = 100*(prop_MOE(excm1['75plus'], excm1['total'], excm1['75plus_moe'], excm1['total_moe']))\n"
   ]
  },
  {
   "cell_type": "code",
   "execution_count": 14,
   "metadata": {
    "collapsed": true
   },
   "outputs": [],
   "source": [
    "#list data to include in export\n",
    "export = ['pct_0to25', 'pct__25to50', 'pct_50to75', 'pct_75plus', 'pct_0to25_moe', 'pct__25to50_moe', \n",
    "         'pct_50to75_moe', 'pct_75plus_moe']\n",
    "\n",
    "excm1 = excm1[export]\n",
    "\n",
    "#change everything to rounded percents\n",
    "excm1 = excm1.round(2)"
   ]
  },
  {
   "cell_type": "code",
   "execution_count": 15,
   "metadata": {
    "collapsed": true
   },
   "outputs": [],
   "source": [
    "#export data to csv\n",
    "export_path = cwd+'/Output/python_output/cm1_finalproject.csv'\n",
    "excm1.to_csv(export_path)"
   ]
  }
 ],
 "metadata": {
  "anaconda-cloud": {},
  "kernelspec": {
   "display_name": "Python [Root]",
   "language": "python",
   "name": "Python [Root]"
  },
  "language_info": {
   "codemirror_mode": {
    "name": "ipython",
    "version": 3
   },
   "file_extension": ".py",
   "mimetype": "text/x-python",
   "name": "python",
   "nbconvert_exporter": "python",
   "pygments_lexer": "ipython3",
   "version": "3.5.2"
  }
 },
 "nbformat": 4,
 "nbformat_minor": 0
}
